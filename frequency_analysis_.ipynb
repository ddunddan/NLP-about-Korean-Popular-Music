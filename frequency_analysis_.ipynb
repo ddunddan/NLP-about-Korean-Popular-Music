{
  "nbformat": 4,
  "nbformat_minor": 0,
  "metadata": {
    "colab": {
      "provenance": []
    },
    "kernelspec": {
      "name": "python3",
      "display_name": "Python 3"
    },
    "language_info": {
      "name": "python"
    }
  },
  "cells": [
    {
      "cell_type": "code",
      "source": [
        "import os\n",
        "import numpy as np\n",
        "import pandas as pd"
      ],
      "metadata": {
        "id": "hvea_JNi9onM"
      },
      "execution_count": null,
      "outputs": []
    },
    {
      "cell_type": "markdown",
      "source": [
        "### 크롤링한 데이터를 csv화 함"
      ],
      "metadata": {
        "id": "QeRifDdaWV00"
      }
    },
    {
      "cell_type": "code",
      "source": [
        "from google.colab import drive\n",
        "drive.mount('/content/drive/')"
      ],
      "metadata": {
        "colab": {
          "base_uri": "https://localhost:8080/"
        },
        "id": "w44E-neN92bA",
        "outputId": "38d19835-1a29-4e54-a5fa-ad39f8cfe849"
      },
      "execution_count": null,
      "outputs": [
        {
          "output_type": "stream",
          "name": "stdout",
          "text": [
            "Mounted at /content/drive/\n"
          ]
        }
      ]
    },
    {
      "cell_type": "code",
      "execution_count": null,
      "metadata": {
        "id": "z1thoyzA9jm0"
      },
      "outputs": [],
      "source": [
        "df = pd.read_csv('/content/drive/MyDrive/textmining_rawdata.csv')"
      ]
    },
    {
      "cell_type": "code",
      "source": [
        "df"
      ],
      "metadata": {
        "colab": {
          "base_uri": "https://localhost:8080/",
          "height": 424
        },
        "id": "GsJ68K7j9mLA",
        "outputId": "d296bde8-17b1-451a-b1c7-c84ea1a2e9c8"
      },
      "execution_count": null,
      "outputs": [
        {
          "output_type": "execute_result",
          "data": {
            "text/plain": [
              "     year  rank       name     genre               lyricist  \\\n",
              "0    1970     1    가을비 우산속  성인가요/트로트                     최헌   \n",
              "1    1970     2        감수광  성인가요/트로트                    혜은이   \n",
              "2    1970     3       개구장이      록/메탈                    산울림   \n",
              "3    1970     4       개 여울  성인가요/트로트                    정미조   \n",
              "4    1970     5     고귀한 선물    포크/블루스                    장은아   \n",
              "..    ...   ...        ...       ...                    ...   \n",
              "751  2022    16     나의 X에게       발라드  이래언, Rayker Dane, 신수윤   \n",
              "752  2022    17  이제 나만 믿어요  성인가요/트로트                    김이나   \n",
              "753  2022    18     듣고 싶을까       발라드             DrJO, 원슈타인   \n",
              "754  2022    19        무지개      록/메탈               김시온, 멧돼지   \n",
              "755  2022    20        신호등      록/메탈                    이무진   \n",
              "\n",
              "                                                lyrics  \n",
              "0    그리움이 눈처럼\\n 쌓인 거리를\\n 나혼자서 걸었네\\n 미련때문에\\n 흐르는 세월따...  \n",
              "1    바람부는 제주에는 돌도 많지만\\n 인정많고 마음씨 고운 아가씨도 많지요\\n 감수광 ...  \n",
              "2    우리 같이 놀아요\\n 뜀을 뛰며 공을 차며 놀아요\\n 우리 같이 불러요\\n 예쁜 노...  \n",
              "3    당신은 무슨 일로 그리합니까\\n 홀로이 개여울에 주저 앉아서\\n 파릇한 풀포기가 돋...  \n",
              "4    갈매기 날으는 바닷가에도\\n \\n 그대가 없으면 쓸쓸하겠네\\n \\n 파도가 밀려와 ...  \n",
              "..                                                 ...  \n",
              "751  우리 다시 만날래\\r\\n예쁘게 빛나던\\r\\n모든 추억들이\\r\\n너무 그리워\\r\\n너...  \n",
              "752  무얼 믿은 걸까 부족했던 내게서\\r\\n나조차 못 믿던 내게 여태 머문 사람\\r\\n무...  \n",
              "753  우리 함께 듣던 그 노랠 듣고 싶을까\\r\\n듣고 나서 잠시 날 생각은 할까\\r\\n아...  \n",
              "754  오늘 하루 어땠었나요\\r\\n많이 힘들었나요\\r\\n쉬지 않고 달려왔던 길에서\\r\\n나...  \n",
              "755  이제야 목적지를 정했지만\\r\\n가려한 날 막아서네 난 갈 길이 먼데\\r\\n새빨간 얼...  \n",
              "\n",
              "[756 rows x 6 columns]"
            ],
            "text/html": [
              "\n",
              "  <div id=\"df-a42695de-da7a-4658-83dd-5fe3e77664ca\">\n",
              "    <div class=\"colab-df-container\">\n",
              "      <div>\n",
              "<style scoped>\n",
              "    .dataframe tbody tr th:only-of-type {\n",
              "        vertical-align: middle;\n",
              "    }\n",
              "\n",
              "    .dataframe tbody tr th {\n",
              "        vertical-align: top;\n",
              "    }\n",
              "\n",
              "    .dataframe thead th {\n",
              "        text-align: right;\n",
              "    }\n",
              "</style>\n",
              "<table border=\"1\" class=\"dataframe\">\n",
              "  <thead>\n",
              "    <tr style=\"text-align: right;\">\n",
              "      <th></th>\n",
              "      <th>year</th>\n",
              "      <th>rank</th>\n",
              "      <th>name</th>\n",
              "      <th>genre</th>\n",
              "      <th>lyricist</th>\n",
              "      <th>lyrics</th>\n",
              "    </tr>\n",
              "  </thead>\n",
              "  <tbody>\n",
              "    <tr>\n",
              "      <th>0</th>\n",
              "      <td>1970</td>\n",
              "      <td>1</td>\n",
              "      <td>가을비 우산속</td>\n",
              "      <td>성인가요/트로트</td>\n",
              "      <td>최헌</td>\n",
              "      <td>그리움이 눈처럼\\n 쌓인 거리를\\n 나혼자서 걸었네\\n 미련때문에\\n 흐르는 세월따...</td>\n",
              "    </tr>\n",
              "    <tr>\n",
              "      <th>1</th>\n",
              "      <td>1970</td>\n",
              "      <td>2</td>\n",
              "      <td>감수광</td>\n",
              "      <td>성인가요/트로트</td>\n",
              "      <td>혜은이</td>\n",
              "      <td>바람부는 제주에는 돌도 많지만\\n 인정많고 마음씨 고운 아가씨도 많지요\\n 감수광 ...</td>\n",
              "    </tr>\n",
              "    <tr>\n",
              "      <th>2</th>\n",
              "      <td>1970</td>\n",
              "      <td>3</td>\n",
              "      <td>개구장이</td>\n",
              "      <td>록/메탈</td>\n",
              "      <td>산울림</td>\n",
              "      <td>우리 같이 놀아요\\n 뜀을 뛰며 공을 차며 놀아요\\n 우리 같이 불러요\\n 예쁜 노...</td>\n",
              "    </tr>\n",
              "    <tr>\n",
              "      <th>3</th>\n",
              "      <td>1970</td>\n",
              "      <td>4</td>\n",
              "      <td>개 여울</td>\n",
              "      <td>성인가요/트로트</td>\n",
              "      <td>정미조</td>\n",
              "      <td>당신은 무슨 일로 그리합니까\\n 홀로이 개여울에 주저 앉아서\\n 파릇한 풀포기가 돋...</td>\n",
              "    </tr>\n",
              "    <tr>\n",
              "      <th>4</th>\n",
              "      <td>1970</td>\n",
              "      <td>5</td>\n",
              "      <td>고귀한 선물</td>\n",
              "      <td>포크/블루스</td>\n",
              "      <td>장은아</td>\n",
              "      <td>갈매기 날으는 바닷가에도\\n \\n 그대가 없으면 쓸쓸하겠네\\n \\n 파도가 밀려와 ...</td>\n",
              "    </tr>\n",
              "    <tr>\n",
              "      <th>...</th>\n",
              "      <td>...</td>\n",
              "      <td>...</td>\n",
              "      <td>...</td>\n",
              "      <td>...</td>\n",
              "      <td>...</td>\n",
              "      <td>...</td>\n",
              "    </tr>\n",
              "    <tr>\n",
              "      <th>751</th>\n",
              "      <td>2022</td>\n",
              "      <td>16</td>\n",
              "      <td>나의 X에게</td>\n",
              "      <td>발라드</td>\n",
              "      <td>이래언, Rayker Dane, 신수윤</td>\n",
              "      <td>우리 다시 만날래\\r\\n예쁘게 빛나던\\r\\n모든 추억들이\\r\\n너무 그리워\\r\\n너...</td>\n",
              "    </tr>\n",
              "    <tr>\n",
              "      <th>752</th>\n",
              "      <td>2022</td>\n",
              "      <td>17</td>\n",
              "      <td>이제 나만 믿어요</td>\n",
              "      <td>성인가요/트로트</td>\n",
              "      <td>김이나</td>\n",
              "      <td>무얼 믿은 걸까 부족했던 내게서\\r\\n나조차 못 믿던 내게 여태 머문 사람\\r\\n무...</td>\n",
              "    </tr>\n",
              "    <tr>\n",
              "      <th>753</th>\n",
              "      <td>2022</td>\n",
              "      <td>18</td>\n",
              "      <td>듣고 싶을까</td>\n",
              "      <td>발라드</td>\n",
              "      <td>DrJO, 원슈타인</td>\n",
              "      <td>우리 함께 듣던 그 노랠 듣고 싶을까\\r\\n듣고 나서 잠시 날 생각은 할까\\r\\n아...</td>\n",
              "    </tr>\n",
              "    <tr>\n",
              "      <th>754</th>\n",
              "      <td>2022</td>\n",
              "      <td>19</td>\n",
              "      <td>무지개</td>\n",
              "      <td>록/메탈</td>\n",
              "      <td>김시온, 멧돼지</td>\n",
              "      <td>오늘 하루 어땠었나요\\r\\n많이 힘들었나요\\r\\n쉬지 않고 달려왔던 길에서\\r\\n나...</td>\n",
              "    </tr>\n",
              "    <tr>\n",
              "      <th>755</th>\n",
              "      <td>2022</td>\n",
              "      <td>20</td>\n",
              "      <td>신호등</td>\n",
              "      <td>록/메탈</td>\n",
              "      <td>이무진</td>\n",
              "      <td>이제야 목적지를 정했지만\\r\\n가려한 날 막아서네 난 갈 길이 먼데\\r\\n새빨간 얼...</td>\n",
              "    </tr>\n",
              "  </tbody>\n",
              "</table>\n",
              "<p>756 rows × 6 columns</p>\n",
              "</div>\n",
              "      <button class=\"colab-df-convert\" onclick=\"convertToInteractive('df-a42695de-da7a-4658-83dd-5fe3e77664ca')\"\n",
              "              title=\"Convert this dataframe to an interactive table.\"\n",
              "              style=\"display:none;\">\n",
              "        \n",
              "  <svg xmlns=\"http://www.w3.org/2000/svg\" height=\"24px\"viewBox=\"0 0 24 24\"\n",
              "       width=\"24px\">\n",
              "    <path d=\"M0 0h24v24H0V0z\" fill=\"none\"/>\n",
              "    <path d=\"M18.56 5.44l.94 2.06.94-2.06 2.06-.94-2.06-.94-.94-2.06-.94 2.06-2.06.94zm-11 1L8.5 8.5l.94-2.06 2.06-.94-2.06-.94L8.5 2.5l-.94 2.06-2.06.94zm10 10l.94 2.06.94-2.06 2.06-.94-2.06-.94-.94-2.06-.94 2.06-2.06.94z\"/><path d=\"M17.41 7.96l-1.37-1.37c-.4-.4-.92-.59-1.43-.59-.52 0-1.04.2-1.43.59L10.3 9.45l-7.72 7.72c-.78.78-.78 2.05 0 2.83L4 21.41c.39.39.9.59 1.41.59.51 0 1.02-.2 1.41-.59l7.78-7.78 2.81-2.81c.8-.78.8-2.07 0-2.86zM5.41 20L4 18.59l7.72-7.72 1.47 1.35L5.41 20z\"/>\n",
              "  </svg>\n",
              "      </button>\n",
              "      \n",
              "  <style>\n",
              "    .colab-df-container {\n",
              "      display:flex;\n",
              "      flex-wrap:wrap;\n",
              "      gap: 12px;\n",
              "    }\n",
              "\n",
              "    .colab-df-convert {\n",
              "      background-color: #E8F0FE;\n",
              "      border: none;\n",
              "      border-radius: 50%;\n",
              "      cursor: pointer;\n",
              "      display: none;\n",
              "      fill: #1967D2;\n",
              "      height: 32px;\n",
              "      padding: 0 0 0 0;\n",
              "      width: 32px;\n",
              "    }\n",
              "\n",
              "    .colab-df-convert:hover {\n",
              "      background-color: #E2EBFA;\n",
              "      box-shadow: 0px 1px 2px rgba(60, 64, 67, 0.3), 0px 1px 3px 1px rgba(60, 64, 67, 0.15);\n",
              "      fill: #174EA6;\n",
              "    }\n",
              "\n",
              "    [theme=dark] .colab-df-convert {\n",
              "      background-color: #3B4455;\n",
              "      fill: #D2E3FC;\n",
              "    }\n",
              "\n",
              "    [theme=dark] .colab-df-convert:hover {\n",
              "      background-color: #434B5C;\n",
              "      box-shadow: 0px 1px 3px 1px rgba(0, 0, 0, 0.15);\n",
              "      filter: drop-shadow(0px 1px 2px rgba(0, 0, 0, 0.3));\n",
              "      fill: #FFFFFF;\n",
              "    }\n",
              "  </style>\n",
              "\n",
              "      <script>\n",
              "        const buttonEl =\n",
              "          document.querySelector('#df-a42695de-da7a-4658-83dd-5fe3e77664ca button.colab-df-convert');\n",
              "        buttonEl.style.display =\n",
              "          google.colab.kernel.accessAllowed ? 'block' : 'none';\n",
              "\n",
              "        async function convertToInteractive(key) {\n",
              "          const element = document.querySelector('#df-a42695de-da7a-4658-83dd-5fe3e77664ca');\n",
              "          const dataTable =\n",
              "            await google.colab.kernel.invokeFunction('convertToInteractive',\n",
              "                                                     [key], {});\n",
              "          if (!dataTable) return;\n",
              "\n",
              "          const docLinkHtml = 'Like what you see? Visit the ' +\n",
              "            '<a target=\"_blank\" href=https://colab.research.google.com/notebooks/data_table.ipynb>data table notebook</a>'\n",
              "            + ' to learn more about interactive tables.';\n",
              "          element.innerHTML = '';\n",
              "          dataTable['output_type'] = 'display_data';\n",
              "          await google.colab.output.renderOutput(dataTable, element);\n",
              "          const docLink = document.createElement('div');\n",
              "          docLink.innerHTML = docLinkHtml;\n",
              "          element.appendChild(docLink);\n",
              "        }\n",
              "      </script>\n",
              "    </div>\n",
              "  </div>\n",
              "  "
            ]
          },
          "metadata": {},
          "execution_count": 5
        }
      ]
    },
    {
      "cell_type": "markdown",
      "source": [
        "## EDA 및 전처리"
      ],
      "metadata": {
        "id": "O2LVH4VjYxYW"
      }
    },
    {
      "cell_type": "markdown",
      "source": [
        "개행문자 및 특수문자 제거"
      ],
      "metadata": {
        "id": "pwtqrn45YX_y"
      }
    },
    {
      "cell_type": "code",
      "source": [
        "df['lyrics'].replace(r'\\s+|\\\\n', ' ', regex=True, inplace=True)  "
      ],
      "metadata": {
        "id": "PC4T7xRd-pie"
      },
      "execution_count": null,
      "outputs": []
    },
    {
      "cell_type": "code",
      "source": [
        "df.replace('(,<,>,1,2,3,4,5,6,7,8,9)','', regex=True, inplace=True)"
      ],
      "metadata": {
        "id": "PvLRSbQQYW3r"
      },
      "execution_count": null,
      "outputs": []
    },
    {
      "cell_type": "code",
      "source": [
        "df1 = df.iloc[0:20]\n",
        "df1"
      ],
      "metadata": {
        "id": "iw03O-ed99gD"
      },
      "execution_count": null,
      "outputs": []
    },
    {
      "cell_type": "code",
      "source": [],
      "metadata": {
        "colab": {
          "base_uri": "https://localhost:8080/",
          "height": 677
        },
        "id": "-cc71vk0-SWJ",
        "outputId": "100c0d62-1e43-47fa-b7ef-81f44c624f01"
      },
      "execution_count": null,
      "outputs": [
        {
          "output_type": "execute_result",
          "data": {
            "text/plain": [
              "    year  rank        name      genre   lyricist  \\\n",
              "0   2000     1        아시나요        발라드        강은경   \n",
              "1   2000     2       다 줄거야        발라드        조규만   \n",
              "2   2000     3  Run To You   댄스, 랩/힙합  이하늘,  정재용   \n",
              "3   2000     4         거짓말        발라드        박진영   \n",
              "4   2000     5          초련         댄스        김창환   \n",
              "5   2000     6        가시나무        발라드        하덕규   \n",
              "6   2000     7      흔들린 우정         댄스        김창환   \n",
              "7   2000     8       나의 연인        발라드        한경혜   \n",
              "8   2000     9          영원  발라드, 록/메탈        주영훈   \n",
              "9   2000    10           멍         댄스        유유진   \n",
              "10  2000    11       오! 가니         댄스     JK Lee   \n",
              "11  2000    12          기도        발라드        최희진   \n",
              "12  2000    13  전설속의 누군가처럼        발라드        신승훈   \n",
              "13  2000    14       너를 위해        발라드        채정은   \n",
              "14  2000    15          바보   R&B/Soul        조우진   \n",
              "15  2000    16     그대가 그대를        발라드   이승환, 이지은   \n",
              "16  2000    17   매직 카펫 라이드       록/메탈        김윤아   \n",
              "17  2000    18      중독된 사랑        발라드        조은희   \n",
              "18  2000    19   해줄 수 없는 일   R&B/Soul        조우진   \n",
              "19  2000    20          고백       록/메탈        강현민   \n",
              "\n",
              "                                               lyrics  \n",
              "0   아시나요 얼마나 사랑했는지 그댈 보면 자꾸 눈물이 나서 차마 그대 바라보지 못하고 ...  \n",
              "1   그대 내게 다가오는 그 모습 자꾸 다시 볼수 없을 것만 같아서 감은 두눈 뜨지 못한...  \n",
              "2   하나 투 원 투 쓰리 포 BOUNCE with me BOUNCE with me BO...  \n",
              "3   미안해 난 니가 싫어졌어 우리 이만 헤어져 다른 여자가 생겼어 너보다 훨씬 좋은 실...  \n",
              "4   난 그냥 좋았어 니 앞에만 서면 요즘 내가 왜 이러는지 나도 몰라 니 생각만 하고 ...  \n",
              "5   내 속엔 내가 너무도 많아 당신의 쉴곳 없네 내 속엔 헛된 바램들로 당신의 편할곳 ...  \n",
              "6   아냐 이게 아닌데 왜 난 자꾸만 친구의 여자가 좋을까 이러면 안되지 하면서 왜 내맘...  \n",
              "7   너를 알기 전에 나 어떻게 혼자 살아 왔을까 너 없는 세상 이렇게도 내게 눈물나는 ...  \n",
              "8   너와의 행복했었던 또 아름다웠던 추억 우연히 지나친 그런 시간만은 아닐 꺼야 BRE...  \n",
              "9   너 나를 쉽게 봤어 그렇지 않니 너는 몰라 너무 몰라 사랑을 안돼 니 맘대로 나를 ...  \n",
              "10  오오 오오 우리 오다가다 만난사이 아니잖아 우리그냥 보통사이 아니잖아 그러면서 정이...  \n",
              "11  혹시 나를 떠나려는 그대 맘이 힘든 나를 위해서 그런 이유인가요 하루만큼 멀어져도 ...  \n",
              "12  거울 속의 그대 모습을 바라본적 있는가 부끄럽지 않은 삶인가 뜨거운 눈물 흘려본 적...  \n",
              "13  어쩜 우린 복잡한 인연에 서로 엉켜있는 사람인가봐 나는 매일 네게 갚지도 못할만큼 ...  \n",
              "14  너무 모르고 있죠 이미 떠난 사인데 언젠가 올 거란 생각에 마냥 웃고만 있죠 슬픈 ...  \n",
              "15  참 많이 모질었었죠 나 당신께 나같지 않은 말땜에 놀랬겠죠 편할날이 없었죠 틀렸던 ...  \n",
              "16  이렇게 멋진 파란 하늘 위로 날으는 마법 융단을 타고 이렇게 멋진 푸른 세상 속을 ...  \n",
              "17  다시 너를 볼 수 있을까 이렇게 너의 집까지 오고만 거야 넌 나를 떠나도 매일 널 ...  \n",
              "18  할말이 있어 어려운 얘기 내게 힘겹게 꺼내놓은 네 마지막 얘기 내 곁에 있기엔 너무...  \n",
              "19  말해야 하는데 네 앞에 서면 아무 말 못하는 내가 미워져 용기를 내야해 후회하지 않...  "
            ],
            "text/html": [
              "\n",
              "  <div id=\"df-897938ce-7ac9-4ee6-8552-40d4a3b83392\">\n",
              "    <div class=\"colab-df-container\">\n",
              "      <div>\n",
              "<style scoped>\n",
              "    .dataframe tbody tr th:only-of-type {\n",
              "        vertical-align: middle;\n",
              "    }\n",
              "\n",
              "    .dataframe tbody tr th {\n",
              "        vertical-align: top;\n",
              "    }\n",
              "\n",
              "    .dataframe thead th {\n",
              "        text-align: right;\n",
              "    }\n",
              "</style>\n",
              "<table border=\"1\" class=\"dataframe\">\n",
              "  <thead>\n",
              "    <tr style=\"text-align: right;\">\n",
              "      <th></th>\n",
              "      <th>year</th>\n",
              "      <th>rank</th>\n",
              "      <th>name</th>\n",
              "      <th>genre</th>\n",
              "      <th>lyricist</th>\n",
              "      <th>lyrics</th>\n",
              "    </tr>\n",
              "  </thead>\n",
              "  <tbody>\n",
              "    <tr>\n",
              "      <th>0</th>\n",
              "      <td>2000</td>\n",
              "      <td>1</td>\n",
              "      <td>아시나요</td>\n",
              "      <td>발라드</td>\n",
              "      <td>강은경</td>\n",
              "      <td>아시나요 얼마나 사랑했는지 그댈 보면 자꾸 눈물이 나서 차마 그대 바라보지 못하고 ...</td>\n",
              "    </tr>\n",
              "    <tr>\n",
              "      <th>1</th>\n",
              "      <td>2000</td>\n",
              "      <td>2</td>\n",
              "      <td>다 줄거야</td>\n",
              "      <td>발라드</td>\n",
              "      <td>조규만</td>\n",
              "      <td>그대 내게 다가오는 그 모습 자꾸 다시 볼수 없을 것만 같아서 감은 두눈 뜨지 못한...</td>\n",
              "    </tr>\n",
              "    <tr>\n",
              "      <th>2</th>\n",
              "      <td>2000</td>\n",
              "      <td>3</td>\n",
              "      <td>Run To You</td>\n",
              "      <td>댄스, 랩/힙합</td>\n",
              "      <td>이하늘,  정재용</td>\n",
              "      <td>하나 투 원 투 쓰리 포 BOUNCE with me BOUNCE with me BO...</td>\n",
              "    </tr>\n",
              "    <tr>\n",
              "      <th>3</th>\n",
              "      <td>2000</td>\n",
              "      <td>4</td>\n",
              "      <td>거짓말</td>\n",
              "      <td>발라드</td>\n",
              "      <td>박진영</td>\n",
              "      <td>미안해 난 니가 싫어졌어 우리 이만 헤어져 다른 여자가 생겼어 너보다 훨씬 좋은 실...</td>\n",
              "    </tr>\n",
              "    <tr>\n",
              "      <th>4</th>\n",
              "      <td>2000</td>\n",
              "      <td>5</td>\n",
              "      <td>초련</td>\n",
              "      <td>댄스</td>\n",
              "      <td>김창환</td>\n",
              "      <td>난 그냥 좋았어 니 앞에만 서면 요즘 내가 왜 이러는지 나도 몰라 니 생각만 하고 ...</td>\n",
              "    </tr>\n",
              "    <tr>\n",
              "      <th>5</th>\n",
              "      <td>2000</td>\n",
              "      <td>6</td>\n",
              "      <td>가시나무</td>\n",
              "      <td>발라드</td>\n",
              "      <td>하덕규</td>\n",
              "      <td>내 속엔 내가 너무도 많아 당신의 쉴곳 없네 내 속엔 헛된 바램들로 당신의 편할곳 ...</td>\n",
              "    </tr>\n",
              "    <tr>\n",
              "      <th>6</th>\n",
              "      <td>2000</td>\n",
              "      <td>7</td>\n",
              "      <td>흔들린 우정</td>\n",
              "      <td>댄스</td>\n",
              "      <td>김창환</td>\n",
              "      <td>아냐 이게 아닌데 왜 난 자꾸만 친구의 여자가 좋을까 이러면 안되지 하면서 왜 내맘...</td>\n",
              "    </tr>\n",
              "    <tr>\n",
              "      <th>7</th>\n",
              "      <td>2000</td>\n",
              "      <td>8</td>\n",
              "      <td>나의 연인</td>\n",
              "      <td>발라드</td>\n",
              "      <td>한경혜</td>\n",
              "      <td>너를 알기 전에 나 어떻게 혼자 살아 왔을까 너 없는 세상 이렇게도 내게 눈물나는 ...</td>\n",
              "    </tr>\n",
              "    <tr>\n",
              "      <th>8</th>\n",
              "      <td>2000</td>\n",
              "      <td>9</td>\n",
              "      <td>영원</td>\n",
              "      <td>발라드, 록/메탈</td>\n",
              "      <td>주영훈</td>\n",
              "      <td>너와의 행복했었던 또 아름다웠던 추억 우연히 지나친 그런 시간만은 아닐 꺼야 BRE...</td>\n",
              "    </tr>\n",
              "    <tr>\n",
              "      <th>9</th>\n",
              "      <td>2000</td>\n",
              "      <td>10</td>\n",
              "      <td>멍</td>\n",
              "      <td>댄스</td>\n",
              "      <td>유유진</td>\n",
              "      <td>너 나를 쉽게 봤어 그렇지 않니 너는 몰라 너무 몰라 사랑을 안돼 니 맘대로 나를 ...</td>\n",
              "    </tr>\n",
              "    <tr>\n",
              "      <th>10</th>\n",
              "      <td>2000</td>\n",
              "      <td>11</td>\n",
              "      <td>오! 가니</td>\n",
              "      <td>댄스</td>\n",
              "      <td>JK Lee</td>\n",
              "      <td>오오 오오 우리 오다가다 만난사이 아니잖아 우리그냥 보통사이 아니잖아 그러면서 정이...</td>\n",
              "    </tr>\n",
              "    <tr>\n",
              "      <th>11</th>\n",
              "      <td>2000</td>\n",
              "      <td>12</td>\n",
              "      <td>기도</td>\n",
              "      <td>발라드</td>\n",
              "      <td>최희진</td>\n",
              "      <td>혹시 나를 떠나려는 그대 맘이 힘든 나를 위해서 그런 이유인가요 하루만큼 멀어져도 ...</td>\n",
              "    </tr>\n",
              "    <tr>\n",
              "      <th>12</th>\n",
              "      <td>2000</td>\n",
              "      <td>13</td>\n",
              "      <td>전설속의 누군가처럼</td>\n",
              "      <td>발라드</td>\n",
              "      <td>신승훈</td>\n",
              "      <td>거울 속의 그대 모습을 바라본적 있는가 부끄럽지 않은 삶인가 뜨거운 눈물 흘려본 적...</td>\n",
              "    </tr>\n",
              "    <tr>\n",
              "      <th>13</th>\n",
              "      <td>2000</td>\n",
              "      <td>14</td>\n",
              "      <td>너를 위해</td>\n",
              "      <td>발라드</td>\n",
              "      <td>채정은</td>\n",
              "      <td>어쩜 우린 복잡한 인연에 서로 엉켜있는 사람인가봐 나는 매일 네게 갚지도 못할만큼 ...</td>\n",
              "    </tr>\n",
              "    <tr>\n",
              "      <th>14</th>\n",
              "      <td>2000</td>\n",
              "      <td>15</td>\n",
              "      <td>바보</td>\n",
              "      <td>R&amp;B/Soul</td>\n",
              "      <td>조우진</td>\n",
              "      <td>너무 모르고 있죠 이미 떠난 사인데 언젠가 올 거란 생각에 마냥 웃고만 있죠 슬픈 ...</td>\n",
              "    </tr>\n",
              "    <tr>\n",
              "      <th>15</th>\n",
              "      <td>2000</td>\n",
              "      <td>16</td>\n",
              "      <td>그대가 그대를</td>\n",
              "      <td>발라드</td>\n",
              "      <td>이승환, 이지은</td>\n",
              "      <td>참 많이 모질었었죠 나 당신께 나같지 않은 말땜에 놀랬겠죠 편할날이 없었죠 틀렸던 ...</td>\n",
              "    </tr>\n",
              "    <tr>\n",
              "      <th>16</th>\n",
              "      <td>2000</td>\n",
              "      <td>17</td>\n",
              "      <td>매직 카펫 라이드</td>\n",
              "      <td>록/메탈</td>\n",
              "      <td>김윤아</td>\n",
              "      <td>이렇게 멋진 파란 하늘 위로 날으는 마법 융단을 타고 이렇게 멋진 푸른 세상 속을 ...</td>\n",
              "    </tr>\n",
              "    <tr>\n",
              "      <th>17</th>\n",
              "      <td>2000</td>\n",
              "      <td>18</td>\n",
              "      <td>중독된 사랑</td>\n",
              "      <td>발라드</td>\n",
              "      <td>조은희</td>\n",
              "      <td>다시 너를 볼 수 있을까 이렇게 너의 집까지 오고만 거야 넌 나를 떠나도 매일 널 ...</td>\n",
              "    </tr>\n",
              "    <tr>\n",
              "      <th>18</th>\n",
              "      <td>2000</td>\n",
              "      <td>19</td>\n",
              "      <td>해줄 수 없는 일</td>\n",
              "      <td>R&amp;B/Soul</td>\n",
              "      <td>조우진</td>\n",
              "      <td>할말이 있어 어려운 얘기 내게 힘겹게 꺼내놓은 네 마지막 얘기 내 곁에 있기엔 너무...</td>\n",
              "    </tr>\n",
              "    <tr>\n",
              "      <th>19</th>\n",
              "      <td>2000</td>\n",
              "      <td>20</td>\n",
              "      <td>고백</td>\n",
              "      <td>록/메탈</td>\n",
              "      <td>강현민</td>\n",
              "      <td>말해야 하는데 네 앞에 서면 아무 말 못하는 내가 미워져 용기를 내야해 후회하지 않...</td>\n",
              "    </tr>\n",
              "  </tbody>\n",
              "</table>\n",
              "</div>\n",
              "      <button class=\"colab-df-convert\" onclick=\"convertToInteractive('df-897938ce-7ac9-4ee6-8552-40d4a3b83392')\"\n",
              "              title=\"Convert this dataframe to an interactive table.\"\n",
              "              style=\"display:none;\">\n",
              "        \n",
              "  <svg xmlns=\"http://www.w3.org/2000/svg\" height=\"24px\"viewBox=\"0 0 24 24\"\n",
              "       width=\"24px\">\n",
              "    <path d=\"M0 0h24v24H0V0z\" fill=\"none\"/>\n",
              "    <path d=\"M18.56 5.44l.94 2.06.94-2.06 2.06-.94-2.06-.94-.94-2.06-.94 2.06-2.06.94zm-11 1L8.5 8.5l.94-2.06 2.06-.94-2.06-.94L8.5 2.5l-.94 2.06-2.06.94zm10 10l.94 2.06.94-2.06 2.06-.94-2.06-.94-.94-2.06-.94 2.06-2.06.94z\"/><path d=\"M17.41 7.96l-1.37-1.37c-.4-.4-.92-.59-1.43-.59-.52 0-1.04.2-1.43.59L10.3 9.45l-7.72 7.72c-.78.78-.78 2.05 0 2.83L4 21.41c.39.39.9.59 1.41.59.51 0 1.02-.2 1.41-.59l7.78-7.78 2.81-2.81c.8-.78.8-2.07 0-2.86zM5.41 20L4 18.59l7.72-7.72 1.47 1.35L5.41 20z\"/>\n",
              "  </svg>\n",
              "      </button>\n",
              "      \n",
              "  <style>\n",
              "    .colab-df-container {\n",
              "      display:flex;\n",
              "      flex-wrap:wrap;\n",
              "      gap: 12px;\n",
              "    }\n",
              "\n",
              "    .colab-df-convert {\n",
              "      background-color: #E8F0FE;\n",
              "      border: none;\n",
              "      border-radius: 50%;\n",
              "      cursor: pointer;\n",
              "      display: none;\n",
              "      fill: #1967D2;\n",
              "      height: 32px;\n",
              "      padding: 0 0 0 0;\n",
              "      width: 32px;\n",
              "    }\n",
              "\n",
              "    .colab-df-convert:hover {\n",
              "      background-color: #E2EBFA;\n",
              "      box-shadow: 0px 1px 2px rgba(60, 64, 67, 0.3), 0px 1px 3px 1px rgba(60, 64, 67, 0.15);\n",
              "      fill: #174EA6;\n",
              "    }\n",
              "\n",
              "    [theme=dark] .colab-df-convert {\n",
              "      background-color: #3B4455;\n",
              "      fill: #D2E3FC;\n",
              "    }\n",
              "\n",
              "    [theme=dark] .colab-df-convert:hover {\n",
              "      background-color: #434B5C;\n",
              "      box-shadow: 0px 1px 3px 1px rgba(0, 0, 0, 0.15);\n",
              "      filter: drop-shadow(0px 1px 2px rgba(0, 0, 0, 0.3));\n",
              "      fill: #FFFFFF;\n",
              "    }\n",
              "  </style>\n",
              "\n",
              "      <script>\n",
              "        const buttonEl =\n",
              "          document.querySelector('#df-897938ce-7ac9-4ee6-8552-40d4a3b83392 button.colab-df-convert');\n",
              "        buttonEl.style.display =\n",
              "          google.colab.kernel.accessAllowed ? 'block' : 'none';\n",
              "\n",
              "        async function convertToInteractive(key) {\n",
              "          const element = document.querySelector('#df-897938ce-7ac9-4ee6-8552-40d4a3b83392');\n",
              "          const dataTable =\n",
              "            await google.colab.kernel.invokeFunction('convertToInteractive',\n",
              "                                                     [key], {});\n",
              "          if (!dataTable) return;\n",
              "\n",
              "          const docLinkHtml = 'Like what you see? Visit the ' +\n",
              "            '<a target=\"_blank\" href=https://colab.research.google.com/notebooks/data_table.ipynb>data table notebook</a>'\n",
              "            + ' to learn more about interactive tables.';\n",
              "          element.innerHTML = '';\n",
              "          dataTable['output_type'] = 'display_data';\n",
              "          await google.colab.output.renderOutput(dataTable, element);\n",
              "          const docLink = document.createElement('div');\n",
              "          docLink.innerHTML = docLinkHtml;\n",
              "          element.appendChild(docLink);\n",
              "        }\n",
              "      </script>\n",
              "    </div>\n",
              "  </div>\n",
              "  "
            ]
          },
          "metadata": {},
          "execution_count": 15
        }
      ]
    },
    {
      "cell_type": "markdown",
      "source": [
        "분석 범위에 따른 데이터 분할"
      ],
      "metadata": {
        "id": "ty1wMouoY0WF"
      }
    },
    {
      "cell_type": "code",
      "source": [
        "df70 = df.iloc[0:96]\n",
        "df80 = df.iloc[96:196]\n",
        "df90 = df.iloc[196:296]\n",
        "df00 = df.iloc[296:436]\n",
        "df07 = df.iloc[436:556]\n",
        "df10 = df.iloc[556:636]\n",
        "df17 = df.iloc[636:716]\n",
        "df20 = df.iloc[716:756]"
      ],
      "metadata": {
        "id": "0CUHIvKuYz2V"
      },
      "execution_count": null,
      "outputs": []
    },
    {
      "cell_type": "markdown",
      "source": [
        "문자 수 확인"
      ],
      "metadata": {
        "id": "6z9Z5Fv9Y2hZ"
      }
    },
    {
      "cell_type": "code",
      "source": [
        "song70 = df70['lyrics']\n",
        "\n",
        "def count_character(song70):\n",
        " \n",
        "    count = 0\n",
        "    \n",
        "    for i in song70 :\n",
        "    \n",
        "        count += len(i)\n",
        " \n",
        "    return  count"
      ],
      "metadata": {
        "id": "TXkcZdQyYcPO"
      },
      "execution_count": null,
      "outputs": []
    },
    {
      "cell_type": "code",
      "source": [
        "song = df['lyrics']"
      ],
      "metadata": {
        "id": "iWro89gIyAml"
      },
      "execution_count": null,
      "outputs": []
    },
    {
      "cell_type": "code",
      "source": [
        "song"
      ],
      "metadata": {
        "id": "jful7q3qx0DW",
        "colab": {
          "base_uri": "https://localhost:8080/"
        },
        "outputId": "f616a1e5-2b87-4b07-8eb8-1396bc8f3b21"
      },
      "execution_count": null,
      "outputs": [
        {
          "output_type": "execute_result",
          "data": {
            "text/plain": [
              "0     사랑을 했다 우리가 만나 지우지 못할 추억이 됐다 볼만한 멜로드라마 괜찮은 결말 그...\n",
              "1     참 많은 시간이 흘러가고 넌 어떻게 사는지 참 궁금해 날 걱정하는 사람들에게 다 잊...\n",
              "2     네가 없이 웃을 수 있을까 생각만 해도 눈물이나 힘든 시간 날 지켜준 사람 이제는 ...\n",
              "3     이별을 말하고 넌 괜찮은 거니 여전히 내 하루는 온통 네 생각에 뜬 눈으로 밤을 지...\n",
              "4     설레어 너와 나의 랑데뷰 랑데뷰 내 마음을 들었다 놨다 해 맘대루 맘대루 지금 내 ...\n",
              "5     착한 얼굴에 그렇지 못한 태도 가녀린 몸매 속 가려진 volume은 두 배로 거침없...\n",
              "6     빛이 들어오면 자연스레 뜨던 눈 그렇게 너의 눈빛을 보곤 사랑에 눈을 떴어 항상 알...\n",
              "7     멈춘 시간 속 잠든 너를 찾아가 아무리 막아도 결국 너의 곁인 걸 길고 긴 여행을 ...\n",
              "8     나를 사랑하는 법은 어렵지 않아요 지금 모습 그대로 나를 꼭 안아주세요 우리 나중에...\n",
              "9     저 오늘 떠나요 공항으로 핸드폰 꺼 놔요 제발 날 찾진 말아줘 시끄럽게 소리를 질러...\n",
              "10    어떻게 난 해야 해 니가 떠난다고 말하면 난 혼자 남겨지는 게 더 두려울 텐데 이유...\n",
              "11    손끝이 시리더니 벌써 봄이 왔네 꿈같은 바람이 불어 곳곳에 여느 때 와는 다른 듯한...\n",
              "12    위험해 아슬아슬해 간신히 끈을 잡았는데 넌 가위질을 하려고 해 너의 호의는 필요 없...\n",
              "13    I remember very first time in love I remember ...\n",
              "14    흐르는 물결이 내 발목에 감겨 나가면 깊은 곳에 숨겨둔 아픈 기억 모두 살아나고 어...\n",
              "15    첫눈에 널 알아보게 됐어 서롤 불러왔던 것처럼 내 혈관 속 DNA가 말해줘 내가 찾...\n",
              "16    어떠니 잘 지냈니 지난 여름 유난히도 힘에 겹더라 올핸 새벽녘엔 제법 쌀쌀한 바람이...\n",
              "17    널 위해서라면 난 슬퍼도 기쁜 척 할 수가 있었어 널 위해서라면 난 아파도 강한 척...\n",
              "18    보고 싶다 이렇게 말하니까 더 보고 싶다 너희 사진을 보고 있어도 보고 싶다 너무 ...\n",
              "19    라라라라라라라 라라라라라라라 You and me in the moonlight 별 ...\n",
              "20    사랑에 연습이 있었다면 우리는 달라졌을까 내가 널 만난 시간 혹은 그 장소 상황이 ...\n",
              "21    이젠 내가 편하니 작은 설렘조차 욕심이겠지 항상 곁에 있어서 계속 함께 있을 줄 알...\n",
              "22    모든 게 궁금해 How’s your day Oh tell me 뭐가 널 행복하게 하...\n",
              "23    나는 그대를 뒤로한 채로 우리 사랑을 놓아요 차오르는 추억을 헝클어뜨려 모두 일어나...\n",
              "24    네가 없이 웃을 수 있을까 생각만 해도 눈물이나 힘든 시간 날 지켜준 사람 이제는 ...\n",
              "25    너를 만난 그 이후로 사소한 변화들에 행복해져 눈이 부시게 빛 나는 아침 너를 떠올...\n",
              "26    사계절이 와 그리고 또 떠나 내 겨울을 주고 또 여름도 주었던 온 세상이던 널 보낼...\n",
              "27    나는 읽기 쉬운 마음이야 당신도 스윽 훑고 가셔요 달랠 길 없는 외로운 마음 있지 ...\n",
              "28    그때의 우리 사랑 뜨겁고 치열했는데 끝나보니 남는건 미움뿐 몇번의 계절을 더 보내야...\n",
              "29    별빛이 내린 밤 그 풍경 속 너와 나 날 새롭게 하는 따뜻하게 만드는 니 눈빛 니 ...\n",
              "30    Yeah I like it 네가 말을 놓는 것도 Like it 너의 작은 말투도 나...\n",
              "31    그리워서 한 잔 생각나서 한 잔 내 눈물 섞어 한 잔 또 한 잔 마시다 우리 옛 추...\n",
              "32    너는 별을 보자며 내 몸을 당겨서 단 한 번에 달빛을 내 눈에 담았어 Every t...\n",
              "33    DDA DDA LA DDA LA DDA LA People look at me and...\n",
              "34    나는 사랑이 어떻게 이뤄지는 지 연구 했지 여러가지 상황의 수를 계산 해 봤지 그땐...\n",
              "35    이 노래가 클럽에서 나온다면 네가 이 음악에 춤출 수 있을까요 이 노래가 클럽에서 ...\n",
              "36    그대와 자주 가던 그 술집에 혼자 널 생각하며 소주 한잔해 그대가 좋아하던 김치찌개...\n",
              "37    안돼 그만둬 거기까지 해 더 다가가면 너 정신 못 차려 안돼 그만해 꽃은 넣어둬 그...\n",
              "38    슬픈 예감 앞에 굳게 감아진 두 눈 지금 고개 들면 넌 떠나갈 텐데 못난 걸음은 멈...\n",
              "39    안녕 이라는 말을해 짧은 시간을 뒤로 한채로 여전히 아프겠지만 하룻밤 자고 나면 사...\n",
              "40    왜들 그리 다운돼있어 뭐가 문제야 say something 분위기가 겁나 싸해 요새...\n",
              "41    Yeah ha Yeah ha Yeah ha Yeah ha Yeah ha Yeah h...\n",
              "42    어두운 불빛아래 촛불 하나 와인 잔에 담긴 약속하나 항상 너의 곁에서 널 지켜줄거야...\n",
              "43    흔들리는 꽃들 속에서 네 샴푸향이 느껴진거야 스쳐지나간건가 뒤돌아보지만 그냥 사람들...\n",
              "44    So are you happy now Finally happy now are you...\n",
              "45    ‘뭐해‘라는 두 글자에 ‘네가 보고 싶어’ 나의 속마음을 담아 우 이모티콘 하나하나...\n",
              "46    오래되었어 그때 너의 웃음 너의 목소리 잊혀진거 같아 시간의 위로 그 말의 의미를 ...\n",
              "47    새로운 시작은 늘 설레게 하지 모든 걸 이겨낼 것처럼 시간을 뒤쫓는 시계바늘처럼 앞...\n",
              "48    모든 게 궁금해 How’s your day Oh tell me 뭐가 널 행복하게 하...\n",
              "49    Psycho 널 어쩌면 좋을까 이런 맘은 또 첨이라 Up &amp; Down이 좀 ...\n",
              "50    일부러 몇 발자국 물러나 내가 없이 혼자 걷는 널 바라본다 옆자리 허전한 너의 풍경...\n",
              "51    Cos ah ah I’m in the stars tonight So watch me...\n",
              "52    당신에게 드릴 게 없어서 나의 마음을 드려요 그대에게 받은 게 많아서 표현을 다 할...\n",
              "53    눈이 부시게 웃던 널 기억해 이제는 다시 볼 수 없게 됐지만 끝내 붙잡았던 기억들만...\n",
              "54    보란 듯이 무너졌어 바닥을 뚫고 저 지하까지 옷 끝자락 잡겠다고 저 높이 두 손을 ...\n",
              "55    going nonstop 말도 안 되잖아 그치 yayayaya 우린 서로가 모르는 ...\n",
              "56    I can't understand what people are sayin 어느 장단...\n",
              "57    별빛이 내린 밤 그 풍경 속 너와 나 날 새롭게 하는 따뜻하게 만드는 니 눈빛 니 ...\n",
              "58    너는 나의 다운타운 베이비야 너의 눈은 밤하늘에 별이야 매일마다 꾸고 싶은 꿈이야 ...\n",
              "59    욕을 하도 먹어 체했어 하도 서러워도 어쩌겠어 I do 모두들 미워하느라 애썼네 날...\n",
              "Name: lyrics, dtype: object"
            ]
          },
          "metadata": {},
          "execution_count": 10
        }
      ]
    },
    {
      "cell_type": "markdown",
      "source": [
        "### 한스펠 시도해보았지만 영어가 섞여있으면 아예 안됨"
      ],
      "metadata": {
        "id": "Zv9_MvwqXDDL"
      }
    },
    {
      "cell_type": "code",
      "execution_count": null,
      "metadata": {
        "colab": {
          "base_uri": "https://localhost:8080/"
        },
        "id": "YOPXbJfHu5CK",
        "outputId": "3cb82be4-7d5d-4e78-f774-352e74c535c0"
      },
      "outputs": [
        {
          "output_type": "stream",
          "name": "stdout",
          "text": [
            "Looking in indexes: https://pypi.org/simple, https://us-python.pkg.dev/colab-wheels/public/simple/\n",
            "Collecting git+https://github.com/ssut/py-hanspell.git\n",
            "  Cloning https://github.com/ssut/py-hanspell.git to /tmp/pip-req-build-m5i2xy3_\n",
            "  Running command git clone -q https://github.com/ssut/py-hanspell.git /tmp/pip-req-build-m5i2xy3_\n",
            "Requirement already satisfied: requests in /usr/local/lib/python3.7/dist-packages (from py-hanspell==1.1) (2.23.0)\n",
            "Requirement already satisfied: idna<3,>=2.5 in /usr/local/lib/python3.7/dist-packages (from requests->py-hanspell==1.1) (2.10)\n",
            "Requirement already satisfied: certifi>=2017.4.17 in /usr/local/lib/python3.7/dist-packages (from requests->py-hanspell==1.1) (2022.5.18.1)\n",
            "Requirement already satisfied: chardet<4,>=3.0.2 in /usr/local/lib/python3.7/dist-packages (from requests->py-hanspell==1.1) (3.0.4)\n",
            "Requirement already satisfied: urllib3!=1.25.0,!=1.25.1,<1.26,>=1.21.1 in /usr/local/lib/python3.7/dist-packages (from requests->py-hanspell==1.1) (1.24.3)\n",
            "Building wheels for collected packages: py-hanspell\n",
            "  Building wheel for py-hanspell (setup.py) ... \u001b[?25l\u001b[?25hdone\n",
            "  Created wheel for py-hanspell: filename=py_hanspell-1.1-py3-none-any.whl size=4868 sha256=056b14d0a26f1caff0b17cffafcc909a6c18b7b773c977ac5548aa783b48ecff\n",
            "  Stored in directory: /tmp/pip-ephem-wheel-cache-e6vpr_jv/wheels/ab/f5/7b/d4124bb329c905301baed80e2ae45aa14e824f62ebc3ec2cc4\n",
            "Successfully built py-hanspell\n",
            "Installing collected packages: py-hanspell\n",
            "Successfully installed py-hanspell-1.1\n"
          ]
        }
      ],
      "source": [
        "#pip install git+https://github.com/ssut/py-hanspell.git"
      ]
    },
    {
      "cell_type": "code",
      "source": [
        "#from hanspell import spell_checker\n",
        "\n",
        "#sent = \"맞춤법 틀리면 외 않되? 쓰고싶은대로쓰면돼지 \"\n",
        "#spelled_sent = spell_checker.check(sent)\n",
        "\n",
        "#hanspell_sent = spelled_sent.checked\n",
        "#print(hanspell_sent)"
      ],
      "metadata": {
        "colab": {
          "base_uri": "https://localhost:8080/"
        },
        "id": "-32PWGSsu71p",
        "outputId": "b0ee470a-8616-47ee-95ee-3328e8397ffa"
      },
      "execution_count": null,
      "outputs": [
        {
          "output_type": "stream",
          "name": "stdout",
          "text": [
            "맞춤법 틀리면 왜 안돼? 쓰고 싶은 대로 쓰면 되지\n"
          ]
        }
      ]
    },
    {
      "cell_type": "code",
      "source": [
        "#def spell_check(lyrics) : \n",
        "    #result = spell_checker.check(lyrics)\n",
        "    #return result.checked"
      ],
      "metadata": {
        "id": "1Ir4SzgyvCwi"
      },
      "execution_count": null,
      "outputs": []
    },
    {
      "cell_type": "code",
      "source": [
        "#df['lyrics']=df['lyrics'].astype('str')"
      ],
      "metadata": {
        "id": "afC3DWWi6Hbv"
      },
      "execution_count": null,
      "outputs": []
    },
    {
      "cell_type": "code",
      "source": [
        "#df['lyrics_spell']=df['lyrics'].apply(spell_check)"
      ],
      "metadata": {
        "id": "Ska9Sgwa56xD"
      },
      "execution_count": null,
      "outputs": []
    },
    {
      "cell_type": "code",
      "source": [
        "#df['lyrics_spell']"
      ],
      "metadata": {
        "colab": {
          "base_uri": "https://localhost:8080/"
        },
        "id": "Z0MlPSnCuFit",
        "outputId": "1787cca8-f9a2-4927-d3d0-53bf32ce6ad7"
      },
      "execution_count": null,
      "outputs": [
        {
          "output_type": "execute_result",
          "data": {
            "text/plain": [
              "0                                                      \n",
              "1     참 많은 시간이 흘러가고 넌 어떻게 사는지 참 궁금해 날 걱정하는 사람들에게 다 잊...\n",
              "2     네가 없이 웃을 수 있을까 생각만 해도 눈물이 나 힘든 시간 날 지켜준 사람 이제는...\n",
              "3                                                      \n",
              "4                                                      \n",
              "5                                                      \n",
              "6     빛이 들어오면 자연스레 뜨던 눈 그렇게 너의 눈빛을 보곤 사랑에 눈을 떴어 항상 알...\n",
              "7                                                      \n",
              "8     나를 사랑하는 법은 어렵지 않아요 지금 모습 그대로 나를 꼭 안아주세요 우리 나중에...\n",
              "9                                                      \n",
              "10    어떻게 난 해야 해 네가 떠난다고 말하면 난 혼자 남겨지는 게 더 두려울 텐데 이유...\n",
              "11                                                     \n",
              "12                                                     \n",
              "13                                                     \n",
              "14    흐르는 물결이 내 발목에 감겨 나가면 깊은 곳에 숨겨둔 아픈 기억 모두 살아나고 어...\n",
              "15                                                     \n",
              "16                                                     \n",
              "17                                                     \n",
              "18                                                     \n",
              "19                                                     \n",
              "20    사랑에 연습이 있었다면 우리는 달라졌을까 내가 널 만난 시간 혹은 그 장소 상황이 ...\n",
              "21    이젠 내가 편하니 작은 설렘조차 욕심이겠지 항상 곁에 있어서 계속 함께 있을 줄 알...\n",
              "22                                                     \n",
              "23    나는 그대를 뒤로한 채로 우리 사랑을 놓아요 차오르는 추억을 헝클어뜨려 모두 일어나...\n",
              "24    네가 없이 웃을 수 있을까 생각만 해도 눈물이 나 힘든 시간 날 지켜준 사람 이제는...\n",
              "25                                                     \n",
              "26    사계절이 와 그리고 또 떠나 내 겨울을 주고 또 여름도 주었던 온 세상이던 널 보낼...\n",
              "27    나는 읽기 쉬운 마음이야 당신도 쓱 훑고 가셔요 달랠 길 없는 외로운 마음 있지 머...\n",
              "28                                                     \n",
              "29                                                     \n",
              "30                                                     \n",
              "31                                                     \n",
              "32                                                     \n",
              "33                                                     \n",
              "34                                                     \n",
              "35                                                     \n",
              "36                                                     \n",
              "37                                                     \n",
              "38    슬픈 예감 앞에 굳게 감아지는 두 눈 지금 고개 들면 넌 떠나갈 텐데 못난 걸음은 ...\n",
              "39    안녕이라는 말을 해 짧은 시간을 뒤로 한 채로 여전히 아프겠지만 하룻밤 자고 나면 ...\n",
              "40                                                     \n",
              "41                                                     \n",
              "42                                                     \n",
              "43                                                     \n",
              "44                                                     \n",
              "45                                                     \n",
              "46    오래되었어 그때 너의 웃음 너의 목소리 잊힌 거 같아 시간의 위로 그 말의 의미를 ...\n",
              "47                                                     \n",
              "48                                                     \n",
              "49                                                     \n",
              "50    일부러 몇 발자국 물러나 내가 없이 혼자 걷는 널 바라본다 옆자리 허전한 너의 풍경...\n",
              "51                                                     \n",
              "52    당신에게 드릴 게 없어서 나의 마음을 드려요 그대에게 받은 게 많아서 표현을 다 할...\n",
              "53    눈이 부시게 웃던 널 기억해 이제는 다시 볼 수 없게 됐지만 끝내 붙잡았던 기억들만...\n",
              "54                                                     \n",
              "55                                                     \n",
              "56                                                     \n",
              "57                                                     \n",
              "58                                                     \n",
              "59                                                     \n",
              "Name: lyrics_spell, dtype: object"
            ]
          },
          "metadata": {},
          "execution_count": 16
        }
      ]
    },
    {
      "cell_type": "markdown",
      "source": [
        "### 코스페이싱은 너무 오래걸려서 취소 (애초에 멜론은 맞춤법이 다 되어있음)"
      ],
      "metadata": {
        "id": "cLB4NS0iXH6d"
      }
    },
    {
      "cell_type": "code",
      "source": [
        "#pip install git+https://github.com/haven-jeon/PyKoSpacing.git"
      ],
      "metadata": {
        "colab": {
          "base_uri": "https://localhost:8080/",
          "height": 1000
        },
        "id": "LF8dnb9Wz05t",
        "outputId": "dd009d25-cf75-4711-8035-212b94291456"
      },
      "execution_count": null,
      "outputs": [
        {
          "output_type": "stream",
          "name": "stdout",
          "text": [
            "Looking in indexes: https://pypi.org/simple, https://us-python.pkg.dev/colab-wheels/public/simple/\n",
            "Collecting git+https://github.com/haven-jeon/PyKoSpacing.git\n",
            "  Cloning https://github.com/haven-jeon/PyKoSpacing.git to /tmp/pip-req-build-9gsb816s\n",
            "  Running command git clone -q https://github.com/haven-jeon/PyKoSpacing.git /tmp/pip-req-build-9gsb816s\n",
            "Collecting tensorflow==2.6.4\n",
            "  Downloading https://us-python.pkg.dev/colab-wheels/public/tensorflow/tensorflow-2.6.4%2Bzzzcolab20220516125453-cp37-cp37m-linux_x86_64.whl\n",
            "\u001b[K     - 570.3 MB 26.2 MB/s\n",
            "\u001b[?25hRequirement already satisfied: h5py==3.1.0 in /usr/local/lib/python3.7/dist-packages (from pykospacing==0.5) (3.1.0)\n",
            "Collecting argparse>=1.4.0\n",
            "  Downloading argparse-1.4.0-py2.py3-none-any.whl (23 kB)\n",
            "Requirement already satisfied: numpy>=1.14.5 in /usr/local/lib/python3.7/dist-packages (from h5py==3.1.0->pykospacing==0.5) (1.21.6)\n",
            "Requirement already satisfied: cached-property in /usr/local/lib/python3.7/dist-packages (from h5py==3.1.0->pykospacing==0.5) (1.5.2)\n",
            "Collecting absl-py~=0.10\n",
            "  Downloading absl_py-0.15.0-py3-none-any.whl (132 kB)\n",
            "\u001b[K     |████████████████████████████████| 132 kB 7.4 MB/s \n",
            "\u001b[?25hRequirement already satisfied: termcolor~=1.1.0 in /usr/local/lib/python3.7/dist-packages (from tensorflow==2.6.4->pykospacing==0.5) (1.1.0)\n",
            "Collecting wrapt~=1.12.1\n",
            "  Downloading wrapt-1.12.1.tar.gz (27 kB)\n",
            "Collecting clang~=5.0\n",
            "  Downloading clang-5.0.tar.gz (30 kB)\n",
            "Collecting gast==0.4.0\n",
            "  Downloading gast-0.4.0-py3-none-any.whl (9.8 kB)\n",
            "Requirement already satisfied: grpcio<2.0,>=1.37.0 in /usr/local/lib/python3.7/dist-packages (from tensorflow==2.6.4->pykospacing==0.5) (1.46.1)\n",
            "Collecting numpy>=1.14.5\n",
            "  Downloading numpy-1.19.5-cp37-cp37m-manylinux2010_x86_64.whl (14.8 MB)\n",
            "\u001b[K     |████████████████████████████████| 14.8 MB 49.5 MB/s \n",
            "\u001b[?25hRequirement already satisfied: wheel~=0.35 in /usr/local/lib/python3.7/dist-packages (from tensorflow==2.6.4->pykospacing==0.5) (0.37.1)\n",
            "Collecting keras<2.7,>=2.6.0\n",
            "  Downloading keras-2.6.0-py2.py3-none-any.whl (1.3 MB)\n",
            "\u001b[K     |████████████████████████████████| 1.3 MB 49.4 MB/s \n",
            "\u001b[?25hCollecting tensorflow-estimator<2.7,>=2.6.0\n",
            "  Downloading tensorflow_estimator-2.6.0-py2.py3-none-any.whl (462 kB)\n",
            "\u001b[K     |████████████████████████████████| 462 kB 60.3 MB/s \n",
            "\u001b[?25hRequirement already satisfied: opt-einsum~=3.3.0 in /usr/local/lib/python3.7/dist-packages (from tensorflow==2.6.4->pykospacing==0.5) (3.3.0)\n",
            "Collecting tensorboard<2.7,>=2.6.0\n",
            "  Downloading tensorboard-2.6.0-py3-none-any.whl (5.6 MB)\n",
            "\u001b[K     |████████████████████████████████| 5.6 MB 44.5 MB/s \n",
            "\u001b[?25hRequirement already satisfied: astunparse~=1.6.3 in /usr/local/lib/python3.7/dist-packages (from tensorflow==2.6.4->pykospacing==0.5) (1.6.3)\n",
            "Collecting flatbuffers~=1.12.0\n",
            "  Downloading flatbuffers-1.12-py2.py3-none-any.whl (15 kB)\n",
            "Collecting typing-extensions<3.11,>=3.7\n",
            "  Downloading typing_extensions-3.10.0.2-py3-none-any.whl (26 kB)\n",
            "Requirement already satisfied: keras-preprocessing~=1.1.2 in /usr/local/lib/python3.7/dist-packages (from tensorflow==2.6.4->pykospacing==0.5) (1.1.2)\n",
            "Requirement already satisfied: google-pasta~=0.2 in /usr/local/lib/python3.7/dist-packages (from tensorflow==2.6.4->pykospacing==0.5) (0.2.0)\n",
            "Requirement already satisfied: six~=1.15.0 in /usr/local/lib/python3.7/dist-packages (from tensorflow==2.6.4->pykospacing==0.5) (1.15.0)\n",
            "Requirement already satisfied: protobuf>=3.9.2 in /usr/local/lib/python3.7/dist-packages (from tensorflow==2.6.4->pykospacing==0.5) (3.17.3)\n",
            "Requirement already satisfied: google-auth-oauthlib<0.5,>=0.4.1 in /usr/local/lib/python3.7/dist-packages (from tensorboard<2.7,>=2.6.0->tensorflow==2.6.4->pykospacing==0.5) (0.4.6)\n",
            "Requirement already satisfied: google-auth<2,>=1.6.3 in /usr/local/lib/python3.7/dist-packages (from tensorboard<2.7,>=2.6.0->tensorflow==2.6.4->pykospacing==0.5) (1.35.0)\n",
            "Requirement already satisfied: tensorboard-data-server<0.7.0,>=0.6.0 in /usr/local/lib/python3.7/dist-packages (from tensorboard<2.7,>=2.6.0->tensorflow==2.6.4->pykospacing==0.5) (0.6.1)\n",
            "Requirement already satisfied: tensorboard-plugin-wit>=1.6.0 in /usr/local/lib/python3.7/dist-packages (from tensorboard<2.7,>=2.6.0->tensorflow==2.6.4->pykospacing==0.5) (1.8.1)\n",
            "Requirement already satisfied: markdown>=2.6.8 in /usr/local/lib/python3.7/dist-packages (from tensorboard<2.7,>=2.6.0->tensorflow==2.6.4->pykospacing==0.5) (3.3.7)\n",
            "Requirement already satisfied: werkzeug>=0.11.15 in /usr/local/lib/python3.7/dist-packages (from tensorboard<2.7,>=2.6.0->tensorflow==2.6.4->pykospacing==0.5) (1.0.1)\n",
            "Requirement already satisfied: requests<3,>=2.21.0 in /usr/local/lib/python3.7/dist-packages (from tensorboard<2.7,>=2.6.0->tensorflow==2.6.4->pykospacing==0.5) (2.23.0)\n",
            "Requirement already satisfied: setuptools>=41.0.0 in /usr/local/lib/python3.7/dist-packages (from tensorboard<2.7,>=2.6.0->tensorflow==2.6.4->pykospacing==0.5) (57.4.0)\n",
            "Requirement already satisfied: pyasn1-modules>=0.2.1 in /usr/local/lib/python3.7/dist-packages (from google-auth<2,>=1.6.3->tensorboard<2.7,>=2.6.0->tensorflow==2.6.4->pykospacing==0.5) (0.2.8)\n",
            "Requirement already satisfied: cachetools<5.0,>=2.0.0 in /usr/local/lib/python3.7/dist-packages (from google-auth<2,>=1.6.3->tensorboard<2.7,>=2.6.0->tensorflow==2.6.4->pykospacing==0.5) (4.2.4)\n",
            "Requirement already satisfied: rsa<5,>=3.1.4 in /usr/local/lib/python3.7/dist-packages (from google-auth<2,>=1.6.3->tensorboard<2.7,>=2.6.0->tensorflow==2.6.4->pykospacing==0.5) (4.8)\n",
            "Requirement already satisfied: requests-oauthlib>=0.7.0 in /usr/local/lib/python3.7/dist-packages (from google-auth-oauthlib<0.5,>=0.4.1->tensorboard<2.7,>=2.6.0->tensorflow==2.6.4->pykospacing==0.5) (1.3.1)\n",
            "Requirement already satisfied: importlib-metadata>=4.4 in /usr/local/lib/python3.7/dist-packages (from markdown>=2.6.8->tensorboard<2.7,>=2.6.0->tensorflow==2.6.4->pykospacing==0.5) (4.11.3)\n",
            "Requirement already satisfied: zipp>=0.5 in /usr/local/lib/python3.7/dist-packages (from importlib-metadata>=4.4->markdown>=2.6.8->tensorboard<2.7,>=2.6.0->tensorflow==2.6.4->pykospacing==0.5) (3.8.0)\n",
            "Requirement already satisfied: pyasn1<0.5.0,>=0.4.6 in /usr/local/lib/python3.7/dist-packages (from pyasn1-modules>=0.2.1->google-auth<2,>=1.6.3->tensorboard<2.7,>=2.6.0->tensorflow==2.6.4->pykospacing==0.5) (0.4.8)\n",
            "Requirement already satisfied: urllib3!=1.25.0,!=1.25.1,<1.26,>=1.21.1 in /usr/local/lib/python3.7/dist-packages (from requests<3,>=2.21.0->tensorboard<2.7,>=2.6.0->tensorflow==2.6.4->pykospacing==0.5) (1.24.3)\n",
            "Requirement already satisfied: idna<3,>=2.5 in /usr/local/lib/python3.7/dist-packages (from requests<3,>=2.21.0->tensorboard<2.7,>=2.6.0->tensorflow==2.6.4->pykospacing==0.5) (2.10)\n",
            "Requirement already satisfied: chardet<4,>=3.0.2 in /usr/local/lib/python3.7/dist-packages (from requests<3,>=2.21.0->tensorboard<2.7,>=2.6.0->tensorflow==2.6.4->pykospacing==0.5) (3.0.4)\n",
            "Requirement already satisfied: certifi>=2017.4.17 in /usr/local/lib/python3.7/dist-packages (from requests<3,>=2.21.0->tensorboard<2.7,>=2.6.0->tensorflow==2.6.4->pykospacing==0.5) (2022.5.18.1)\n",
            "Requirement already satisfied: oauthlib>=3.0.0 in /usr/local/lib/python3.7/dist-packages (from requests-oauthlib>=0.7.0->google-auth-oauthlib<0.5,>=0.4.1->tensorboard<2.7,>=2.6.0->tensorflow==2.6.4->pykospacing==0.5) (3.2.0)\n",
            "Building wheels for collected packages: pykospacing, clang, wrapt\n",
            "  Building wheel for pykospacing (setup.py) ... \u001b[?25l\u001b[?25hdone\n",
            "  Created wheel for pykospacing: filename=pykospacing-0.5-py3-none-any.whl size=2268580 sha256=38ae8fba9a6cce4e54ba88f97650c8ffe3697ea78c83796502d9d7b2d8ed34a5\n",
            "  Stored in directory: /tmp/pip-ephem-wheel-cache-j1nhdi4y/wheels/9b/93/81/a2a7dc8c66ede5bf30634d20635f32b95eac7ca2ea8844058b\n",
            "  Building wheel for clang (setup.py) ... \u001b[?25l\u001b[?25hdone\n",
            "  Created wheel for clang: filename=clang-5.0-py3-none-any.whl size=30694 sha256=bcb116f03b3550de7fc008be37e5f41ed3d22bf1d6c0fce207c53131fe9735b1\n",
            "  Stored in directory: /root/.cache/pip/wheels/98/91/04/971b4c587cf47ae952b108949b46926f426c02832d120a082a\n",
            "  Building wheel for wrapt (setup.py) ... \u001b[?25l\u001b[?25hdone\n",
            "  Created wheel for wrapt: filename=wrapt-1.12.1-cp37-cp37m-linux_x86_64.whl size=68725 sha256=3b7bfee64c43351ef6ccd65f48e72ac6ce2ee2a11f1ea464d6965885a5835295\n",
            "  Stored in directory: /root/.cache/pip/wheels/62/76/4c/aa25851149f3f6d9785f6c869387ad82b3fd37582fa8147ac6\n",
            "Successfully built pykospacing clang wrapt\n",
            "Installing collected packages: typing-extensions, numpy, absl-py, wrapt, tensorflow-estimator, tensorboard, keras, gast, flatbuffers, clang, tensorflow, argparse, pykospacing\n",
            "  Attempting uninstall: typing-extensions\n",
            "    Found existing installation: typing-extensions 4.2.0\n",
            "    Uninstalling typing-extensions-4.2.0:\n",
            "      Successfully uninstalled typing-extensions-4.2.0\n",
            "  Attempting uninstall: numpy\n",
            "    Found existing installation: numpy 1.21.6\n",
            "    Uninstalling numpy-1.21.6:\n",
            "      Successfully uninstalled numpy-1.21.6\n",
            "  Attempting uninstall: absl-py\n",
            "    Found existing installation: absl-py 1.0.0\n",
            "    Uninstalling absl-py-1.0.0:\n",
            "      Successfully uninstalled absl-py-1.0.0\n",
            "  Attempting uninstall: wrapt\n",
            "    Found existing installation: wrapt 1.14.1\n",
            "    Uninstalling wrapt-1.14.1:\n",
            "      Successfully uninstalled wrapt-1.14.1\n",
            "  Attempting uninstall: tensorflow-estimator\n",
            "    Found existing installation: tensorflow-estimator 2.8.0\n",
            "    Uninstalling tensorflow-estimator-2.8.0:\n",
            "      Successfully uninstalled tensorflow-estimator-2.8.0\n",
            "  Attempting uninstall: tensorboard\n",
            "    Found existing installation: tensorboard 2.8.0\n",
            "    Uninstalling tensorboard-2.8.0:\n",
            "      Successfully uninstalled tensorboard-2.8.0\n",
            "  Attempting uninstall: keras\n",
            "    Found existing installation: keras 2.8.0\n",
            "    Uninstalling keras-2.8.0:\n",
            "      Successfully uninstalled keras-2.8.0\n",
            "  Attempting uninstall: gast\n",
            "    Found existing installation: gast 0.5.3\n",
            "    Uninstalling gast-0.5.3:\n",
            "      Successfully uninstalled gast-0.5.3\n",
            "  Attempting uninstall: flatbuffers\n",
            "    Found existing installation: flatbuffers 2.0\n",
            "    Uninstalling flatbuffers-2.0:\n",
            "      Successfully uninstalled flatbuffers-2.0\n",
            "  Attempting uninstall: tensorflow\n",
            "    Found existing installation: tensorflow 2.8.0+zzzcolab20220506162203\n",
            "    Uninstalling tensorflow-2.8.0+zzzcolab20220506162203:\n",
            "      Successfully uninstalled tensorflow-2.8.0+zzzcolab20220506162203\n",
            "\u001b[31mERROR: pip's dependency resolver does not currently take into account all the packages that are installed. This behaviour is the source of the following dependency conflicts.\n",
            "xarray-einstats 0.2.2 requires numpy>=1.21, but you have numpy 1.19.5 which is incompatible.\n",
            "datascience 0.10.6 requires folium==0.2.1, but you have folium 0.8.3 which is incompatible.\n",
            "albumentations 0.1.12 requires imgaug<0.2.7,>=0.2.5, but you have imgaug 0.2.9 which is incompatible.\u001b[0m\n",
            "Successfully installed absl-py-0.15.0 argparse-1.4.0 clang-5.0 flatbuffers-1.12 gast-0.4.0 keras-2.6.0 numpy-1.19.5 pykospacing-0.5 tensorboard-2.6.0 tensorflow-2.6.4+zzzcolab20220516125453 tensorflow-estimator-2.6.0 typing-extensions-3.10.0.2 wrapt-1.12.1\n"
          ]
        },
        {
          "output_type": "display_data",
          "data": {
            "application/vnd.colab-display-data+json": {
              "pip_warning": {
                "packages": [
                  "argparse",
                  "numpy",
                  "typing_extensions"
                ]
              }
            }
          },
          "metadata": {}
        }
      ]
    },
    {
      "cell_type": "code",
      "source": [
        "#rom pykospacing import Spacing"
      ],
      "metadata": {
        "id": "8UtN9uK8uKAd"
      },
      "execution_count": null,
      "outputs": []
    },
    {
      "cell_type": "code",
      "source": [
        "#spacing = Spacing()\n",
        "print(spacing(df['lyrics'][0:60]))"
      ],
      "metadata": {
        "colab": {
          "base_uri": "https://localhost:8080/"
        },
        "id": "GOUA6DMZ0ENL",
        "outputId": "cce3f05c-7c58-45f4-c166-1a9031fa0b05"
      },
      "execution_count": null,
      "outputs": [
        {
          "output_type": "stream",
          "name": "stdout",
          "text": [
            "사랑을 했다 우리가 만나 지우지 못할 추억이 됐다 볼만한 멜로드라마 괜찮은 결말 그거면 됐다 널 사랑했다 우리가 만든 LOVE SCENARIO 이젠 조명이 꺼지고 마지막 페이지를 넘기면 조용히 막을 내리죠 에이 괜찮지만은 않아 이별을 마주한다는 건 오늘이었던 우리의 어제에 더는 내일이 없다는 건 아프긴 해도 더 끌었음 상처가 덧나니까 Ye 널 사랑했고 사랑 받았으니 난 이걸로 됐어 나 살아가면서 가끔씩 떠오를 기억 그 안에 네가 있다면 그거면 충분해 사랑을 했다 우리가 만나 지우지 못할 추억이 됐다 볼만한 멜로드라마 괜찮은 결말 그거면 됐다 널 사랑했다 우리가 만든 LOVE SCENARIO 이젠 조명이 꺼지고 마지막 페이지를 넘기면 조용히 막을 내리죠 갈비뼈 사이사이가 찌릿찌릿한 느낌 나 사랑받고 있음을 알게 해주는 눈빛 너에게 참 많이도 배웠다 반쪽을 채웠다 과거로 두기엔 너무 소중한 사람이었다 나 살아가면서 가끔씩 떠오를 기억 그 안에 네가 있다면 그거면 충분해 사랑을 했다 우리가 만나 지우지 못할 추억이 됐다 볼만한 멜로드라마 괜찮은 결말 그거면 됐다 널 사랑했다 네가 벌써 그립지만 그리워하지 않으려 해 한 편의 영화 따스했던 봄으로 너를 기억할게 우리가 만든 LOVE SCENARIO 이젠 조명이 꺼지고 마지막 페이지를 넘기면 조용히 막을 내리죠 우린 아파도 해봤고 우습게 질투도 했어 미친 듯이 사랑했고 우리 이 정도면 됐어 사랑을 했다 우리가 만나 그거면 됐다 널 사랑했다참 많은 시간이 흘러가고 넌 어떻게 사는지 참 궁금해 날 걱정하는 사람들에게 다 잊었단 거짓말하는 내가 참 미운 날 아름다운 이별은 세상에 없다지만 그때 내가 조금 더 너를 편하게 보내줬다면 다른 사람 또 만나 행복할 니가 가끔은 내 생각할 때에 지을 표정이 참 궁금해 날 보는 네 눈이 좋아서 얼굴 붉히며 딴청 피던 아름답던 그날처럼 좋은 사람 만나 사랑 받고 너도 이젠 웃을 수 있길 찬란했던 우리 그날처럼 비어있는 지갑에 음식점을 서성이면 월급날이라며 손잡아 이끌어주던 만 원짜리 커플링 고맙다며 펑펑 울던 과분한 네 사랑 받을 사람 참 부러워 날 보는 네 눈이 좋아서 얼굴 붉히며 딴청 피던 아름답던 그날처럼 좋은 사람 만나 사랑 받고 너도 이젠 웃을 수 있길 찬란했던 우리 그날처럼 문득 들려오는 너의 소식에 가끔씩은 혼자 울 수 있길 끝까지 이기적인 내가 이젠 나 없이도 괜찮다 너에게 듣고 싶던 말 좋은 사람 만나 미안해 다시 돌아갈 순 없지만 아름답던 우리 그날네가 없이 웃을 수 있을까 생각만 해도 눈물이나 힘든 시간 날 지켜준 사람 이제는 내가 그댈 지킬 테니 너의 품은 항상 따뜻했어 고단했던 나의 하루에 유일한 휴식처 나는 너 하나로 충분해 긴 말 안 해도 눈빛으로 다 아니깐 한 송이의 꽃이 피고 지는 모든 날 모든 순간 함께해 햇살처럼 빛나고 있었지 나를 보는 네 눈빛은 꿈이라고 해도 좋을 만큼 그 모든 순간은 눈부셨다 불안했던 나의 고된 삶에 한줄기 빛처럼 다가와 날 웃게 해준 너 나는 너 하나로 충분해 긴 말 안 해도 눈빛으로 다 아니깐 한 송이의 꽃이 피고 지는 모든 날 모든 순간 함께해 알 수 없는 미래지만 네 품속에 있는 지금 순간 순간이 영원 했으면 해 갈게 바람이 좋은 날에 햇살 눈부신 어떤 날에 너에게로 처음 내게 왔던 그날처럼 모든 날 모든 순간 함께해이별을 말하고 넌 괜찮은 거니 여전히 내 하루는 온통 네 생각에 뜬 눈으로 밤을 지새고 난 두려워 시간이 쌓여갈수록 내가 잊혀질까 봐 우리 시간마저 모두 무너질까 봐 나도 모르게 너무 보고 싶어서 네 집 앞을 찾아가 너도 나만큼은 아닐지라도 보고 싶었다고 말해줘 지금 나 너의 집 앞에 있어 우리의 시간을 되돌려줘 아무 일도 없던 것처럼 날 안아줘 끝이라는 게 난 너무나 두려워서 다가가지도 못하고 한참 서성이다 말도 못하고 다시 돌아가는 나 하루가 가고 또 하루가 지나도 갈수록 커져만 가 맘에 없는 거짓말이라도 날 사랑한다고 말해줘 지금 나 너의 집 앞에 있어 우리의 시간을 되돌려줘 아무 일도 없던 것처럼 날 안아줘 끝이라는 게 난 너무나 두려워서 다가가지도 못하고 한참 서성이면 우리 한 번은 단 한 번쯤은 마주치진 않을까 당장이라도 전활 걸어 네 목소리 듣고 싶은데 내가 더 싫어지게 될까 봐 작은 감정마저 그렇게 사라질까 봐 마음이란 게 말처럼 되질 않잖아 보다 조금만 널 사랑했더라면 스치는 바람처럼 스쳐 지나갈 텐데 끝이라는 게 난 너무나 두려워서 다가가지도 못하고 한참 서성이다 혹시 마주치게 된다면 나처럼 아픈 시간 속에 살았기를 오늘도 난 돌아서지만설레어 너와 나의 랑데뷰 랑데뷰 내 마음을 들었다 놨다 해 맘대루 맘대루 지금 내 눈엔 눈엔 눈엔 네 어깨 무릎 발 Oh 숨이 탁 막힐 것 같아 난 너만 보면 wow wow 정신을 또 놔 놔 네 매력에 난 난 놀라게 돼 또 Hit it Hit it Hit it HO 우우우 무슨 말이 필요해 넌 숨이 콱 막힐 것 같아 넌 자꾸만 봐 자꾸 와 이제 나만 보게 될 거야 너를 들었다 놓을 거야 넌 점점 더 Fall in love Give it to you My 눈눈눈눈눈눈 눈빛 쏟아지는 My 터터터터터터 터치 하나뿐인 My 럽럽럽럽럽 My Luver 내 머리부터 뿜뿜 내 발끝까지 뿜뿜 뿜뿜 어 Just feel it 뿜뿜 네 앞에서 난 뿜뿜 네게 줄게 뿜뿜 뿜뿜 어 지금 보고 있는 게 꿈은 아닐 걸 Wake Up Wake Up 땡땡이치고 날 만나게 될 걸 Take off Take off 매력을 야 뿜어뿜어뿜어뿜어 보여줄게 Pic up the phone Now or Never Pick up Pick up wow wow 정신없이 쿵 쿵 내 마음을 뿜 뿜 사정없이 또 Hit it Hit it Hit it HO 우우우 여기서 뭘 어떻게 더 낮이나 밤이나 빛이나 미쳤나봐 떨리지 막 떨려와 이제 나만 생각 날 거야 밤에 잠도 잘 못 잘 거야 점점 더 Fall in love Give it to you My 눈눈눈눈눈눈 눈빛 쏟아지는 My 터터터터터터 터치 하나뿐인 My 럽럽럽럽럽 My Luver 내 머리부터 뿜뿜 내 발끝까지 뿜뿜 뿜뿜 어 우 너만 보면 너만 보면 내 가슴이 뿜뿜뿜뿜 뿜뿜뿜뿜 뿜 우 자꾸 봐도 자꾸 봐도 내 가슴이 쿵쿵쿵쿵 뿜뿜뿜뿜 Give it to you My 눈눈눈눈눈눈 눈빛 쏟아지는 My 터터터터터터 터치 하나뿐인 My 럽럽럽럽럽 My Luver 내 머리부터 뿜뿜 내 발끝까지 뿜뿜 뿜뿜 어 Just feel it 뿜뿜 네 앞에서 난 뿜뿜 네게 줄게 뿜뿜 뿜뿜 어착한 얼굴에 그렇지 못한 태도 가녀린 몸매 속 가려진 volume은 두 배로 거침없이 직진 굳이 보진 않지 눈치 Black 하면 Pink 우린 예쁘장한 Savage 원할 땐 대놓고 뺏지 넌 뭘 해도 칼로 물 베기 두 손엔 가득한 fat check 궁금하면 해봐 fact check 눈 높인 꼭대기 물 만난 물고기 좀 독해 난 Toxic You 혹해 I`m Foxy 두 번 생각해 흔한 남들처럼 착한 척은 못 하니까 착각하지 마 쉽게 웃어주는 건 날 위한 거야 아직은 잘 모르겠지 굳이 원하면 test me 넌 불 보듯이 뻔해 만만한 걸 원했다면 Oh wait til’ I do what I do Hit you with that ddudu ddudu du Hit you with that ddudu ddudu du 지금 내가 걸어가는 거린 BLACKPINK 4 way 사거리 동서남북 사방으로 run it 너네 버킷리스트 싹 다 I bought it 널 당기는 것도 멀리 밀치는 것도 제멋대로 하는 bad girl 좋건 싫어하건 누가 뭐라 하던 When the bass drop it’s another banger 두 번 생각해 흔한 남들처럼 착한 척은 못 하니까 착각하지 마 쉽게 웃어주는 건 날 위한 거야 아직은 잘 모르겠지 굳이 원하면 test me 넌 불 보듯이 뻔해 만만한 걸 원했다면 Oh wait til’ I do what I do Hit you with that ddudu ddudu du Hit you with that ddudu ddudu du What you gonna do when I come come through with that that uh uh huh What you gonna do when I come come through with that that uh uh huh 뜨거워 뜨거워 뜨거워 like fire 뜨거워 뜨거워 뜨거워 like fire 뜨거워 뜨거워 뜨거워 like fire 뜨거워 뜨거워 뜨거워 like fire Hit you with that ddudu ddudu du 빛이 들어오면 자연스레 뜨던 눈 그렇게 너의 눈빛을 보곤 사랑에 눈을 떴어 항상 알고 있던 것들도 어딘가 새롭게 바뀐 것 같아 남의 얘기 같던 설레는 일들이 내게 일어나고 있어 나에게만 준비된 선물 같아 자그마한 모든 게 커져만 가 항상 평범했던 일상도 특별해지는 이 순간 별생각 없이 지나치던 것들이 이제는 마냥 내겐 예뻐 보이고 내 맘을 설레게 해 항상 어두웠던 것들도 어딘가 빛나고 있는 것 같아 남의 얘기 같던 설레는 일들이 내게 일어나고 있어 나에게만 준비된 선물 같아 자그마한 모든 게 커져만 가 항상 평범했던 일상도 특별해지는 이 순간 너를 알게 된 뒤 보이는 모든 것들이 너무 예뻐 보여 그렇게 신난 아이처럼 순수한 사람이 된 것 같아 나에게만 준비된 선물 같아 자그마한 모든 게 커져만 가 항상 평범했던 일상도 특별해지는 이 순간 깊은 사랑에 빠진 순간멈춘 시간 속 잠든 너를 찾아가 아무리 막아도 결국 너의 곁인 걸 길고 긴 여행을 끝내 이젠 돌아가 너라는 집으로 지금 다시 way back home 아무리 힘껏 닫아도 다시 열린 서랍 같아 하늘로 높이 날린 넌 자꾸 내게 되돌아와 힘들게 삼킨 이별도 다 그대로인 걸 oh oh oh 수없이 떠난 길 위에서 난 너를 발견하고 비우려 했던 맘은 또 이렇게 너로 차올라 발걸음의 끝에 늘 니가 부딪혀 그만 그만 멈춘 시간 속 잠든 너를 찾아가 아무리 막아도 결국 너의 곁인 걸 길고 긴 여행을 끝내 이젠 돌아가 너라는 집으로 지금 다시 way back home 조용히 잠든 방을 열어 기억을 꺼내 들어 부서진 시간 위에서 선명히 너는 떠올라 길 잃은 맘 속에 널 가둔 채 살아 그만 그만 멈춘 시간 속 잠든 너를 찾아가 아무리 막아도 결국 너의 곁인 걸 길고 긴 여행을 끝내 이젠 돌아가 너라는 집으로 지금 다시 way back home 세상을 뒤집어 찾으려 해 오직 너로 완결된 이야기를 모든 걸 잃어도 난 너 하나면 돼 빛이 다 꺼진 여기 나를 안아줘 눈을 감으면 소리 없이 밀려와 이 마음 그 위로 넌 또 한 겹 쌓여가 내겐 그 누구도 아닌 니가 필요해 돌아와 내 곁에 그날까지 I’m not done나를 사랑하는 법은 어렵지 않아요 지금 모습 그대로 나를 꼭 안아주세요 우리 나중에는 어떻게 될진 몰라도 정해지지 않아서 그게 나는 좋아요 남들이 뭐라는 게 뭐가 중요해요 서로가 없음 죽겠는데 뭐를 고민해요 우리 함께 더 사랑해도 되잖아요 네가 다른 사람이 좋아지면 내가 너 없는 게 익숙해지면 그때가 오면 그때가 되면 그때 헤어지면 돼 너를 사랑하는 법도 어렵지 않아요 한 번 더 웃어주고 조금 더 아껴주면 우리 사랑하는 법도 어렵지 않아요 매일 처음 만난 눈빛으로 서로를 바라봐 주면 남들이 뭐라는 게 뭐가 중요해요 서로가 없음 죽겠는데 뭐를 고민해요 우리 함께 더 사랑해도 되잖아요 네가 다른 사람이 좋아지면 내가 너 없는 게 익숙해지면 그때가 오면 그때가 되면 그때 그때 그때 네가 원하든 말든 널 잡을 거고 내가 더 이상 지쳐 걷지 못할 때 그때가 오면 그때가 되면 그때 헤어지면 돼 그때 헤어지면 돼저 오늘 떠나요 공항으로 핸드폰 꺼 놔요 제발 날 찾진 말아줘 시끄럽게 소리를 질러도 어쩔 수 없어 나 가볍게 손을 흔들며 bye bye 쉬지 않고 빛났던 꿈같은 my youth 이리저리 치이고 또 망가질 때쯤 지쳤어 나 미쳤어 나 떠날 거야 다 비켜 I fly away Take me to London Paris New York city들 아름다운 이 도시에 빠져서 나 Like I'm a bird bird 날아다니는 새처럼 난 자유롭게 fly fly 나 숨을 셔 Take me to new world anywhere 어디든 답답한 이 곳을 벗어 나기만 하면 Shining light light 빛나는 my youth 자유롭게 fly fly 나 숨을 셔 저 이제 쉬어요 떠날 거예요 노트북 꺼 놔요 제발 날 잡진 말아줘 시끄럽게 소리를 질러도 어쩔 수 없어 나 가볍게 손을 흔들며 see ya 쉬지 않고 빛났던 꿈같은 my youth 이리 저리 치이고 또 망가질 때쯤 지쳤어 나 미쳤어 나 떠날 거야 다 비켜 I fly away Take me to London Paris New York city들 아름다운 이 도시에 빠져서 나 Like I'm a bird bird 날아 다니는 새처럼 난 자유롭게 fly fly 나 숨을 셔 Take me to new world anywhere 어디든 답답한 이 곳을 벗어 나기만 하면 Shining light light 빛나는 my youth 자유롭게 fly fly 나 숨을 셔 I can fly away Fly always always always Take me to new world anywhere 어디든 답답한 이 곳을 벗어 나기만 하면 Shining light light 빛나는 my youth 자유롭게 fly fly 나 숨을 셔어떻게 난 해야 해 니가 떠난다고 말하면 난 혼자 남겨지는 게 더 두려울 텐데 이유를 말해준다면 조금 편할 것 같아 아주 작은 손짓조차도 내겐 소중한 너를 잊을 수 없는 슬픈 기억 속으로 보내 잠 못 이루겠지 YOU 비가 오는 거리에 혼자 버려진 채로 서 있는 날 생각해 봤니 혼자 있는 밤이면 니가 잠이 들던 자리엔 슬피 우는 나의 눈물로 모두 젖어 들 거야 모두가 말했었어 둘이 잘 어울린다고 그럴 땐 넌 내 품에 기대어왔어 이젠 눈을 감으면 꿈속에서 널 만나 긴 밤을 지내다 널 아침이 되면 난 잠에서 깨어 다시 보내고 난 후 아파 눈물 흘리겠지 YOU 비가 오는 거리에 혼자 버려진 채로 서 있는 날 생각해 봤니 혼자 있는 밤이면 니가 잠이 들던 자리에 슬피 우는 나의 눈물로 모두 젖어 들 거야 YOU 비가 오는 거리에 혼자 버려진 채로 서 있는 날 생각해봤니 혼자 있는 밤이면 니가 잠이 들던 자리에 슬피 우는 나의 눈물로 모두 젖어 들 거야손끝이 시리더니 벌써 봄이 왔네 꿈같은 바람이 불어 곳곳에 여느 때 와는 다른 듯한 이 기분이 반가워 내일은 좀 다른 날이 되려나 어둠의 그림자 깊은 이 밤에 남겨진 달이 달이 밝아와 빛을 그리고 있어 내 몸에서 널 뺀 만큼 욕조에 물이 미련이 되어 넘쳐흘러 한숨이 가득 그 공간을 채워 새벽이 찾아오면 혼자 남겨질 때면 Starry night 별이 빛나는 밤 네가 휘휘휘 불어와 너와 나 나눈 수많은 밤 나를 취하게 만들어 별이 빛나는 밤 야야야야이야 별이 빛나는 밤 야야야야야야야 별이 빛나는 밤 겨울이 지나고 또다시 꽃은 피고 따뜻한 공기 냄새가 날 감싸 달라진 거 없는 똑같은 일상이 반복돼 그래도 내일을 기다려봐 하루에 끝에서 이 자리에 남아서 날이 날이 새도록 너를 그리고 있어 Do you want me to leave No 난 그 자리 그대로 까만 밤하늘에 가려 잠시 보이지 않는 거야 새벽이 찾아오면 혼자 남겨질 때면 Starry night 별이 빛나는 밤 네가 휘휘휘 불어와 너와 나 나눈 수많은 밤 나를 취하게 만들어 별이 빛나는 밤 야야야야이야 별이 빛나는 밤 야야야야야야야 별이 빛나는 밤 Starry Starry Night 네가 없는 밤 가슴이 공허해 우리의 풍경이 저물어가 현실을 부정해 눈을 감아도 네가 보여 왜 아른거려 Leave me alone 무너져 가네 Starry night 별이 빛나는 밤 네가 휘휘휘 불어와 너와 나 나눈 수많은 밤 나를 취하게 만들어 별이 빛나는 밤 야야야야이야 별이 빛나는 밤 야야야야야야야 별이 빛나는 밤위험해 아슬아슬해 간신히 끈을 잡았는데 넌 가위질을 하려고 해 너의 호의는 필요 없어 인내심이 많지 않아 내겐 유혹으로밖에 안 보여 오지마 내게 오지마 선 넘지마 please 주지마 술은 주지마 취하면 너 어떻게 해볼라니까 넌 내게 술을 권하지마 후회할 걸 알아 넌 내게 용기를 주지마 오늘뿐인 걸 알고 있어 내게 진심을 바라면 그 술은 절대 주지마 헛소릴 하고 악마의 춤을 출거니까 마치 밖엔 시원한 바람이 불지만 세상이 너무 험해서 널 내 옆에만 둘 거니까 남자는 전부 똑같대 아니 술 마신 남잔 다 똑같애 너 말곤 아무것도 안 보인다는 건 니가 아닌 다른 것들은 다 잊고 있는 거야 그러니까 내게 술을 주지마 맨 정신에도 충분히 외로우니까 가위질을 하게 날 내버려 두지마 사랑 찍고 본능 알기 전에 너부터 먼저 알고 싶으니까 야 이성적이고 싶어 이게 나잇값이라는데 싸게 주고 싶어 굳이 움직이지 않아도 돼 내가 하는 말이 수작이 되지 않게 기분 좋게 우리 물 잔으로 짠 해 넌 내게 술을 권하지마 후회할 걸 알아 넌 내게 용기를 주지마 오늘뿐인 걸 알고 있어 한잔 두잔 비워내기 싫어 더 이상 내게 높은 기분을 주지마 한잔 두잔 비워내기 싫어 자꾸 건배하듯이 눈을 맞추지마 한잔 두잔 비워내기 싫어 한잔 두잔 비워내기 싫어 I DON’T CARE WHO YOU ARE DON’T MAKE ME CRY I DON’T CARE WHO YOU ARE I DON’T CARE WHO YOU ARE DON’T LET ME LIE I DON’T CARE WHO YOU ARE I DON’T CARE WHO YOU ARE DON’T MAKE ME CRY I DON’T CARE WHO YOU ARE I DON’T CARE WHO YOU ARE DON’T LET ME LIE I DON’T CARE WHO YOU AREI remember very first time in love I remember oh oh I remember oh oh 너도 같은 기분일까 so I'm in love I remember oh oh I remember oh 어머 이래도 되는지 싶어 aha 그래 너 때문에 매일 즐거워 조금 서두르는 것 같아도 baby I need your love oh oh I need your love oh oh oh 심장이 훅 내려앉게 달콤해 가끔은 상처받을까 걱정돼 처음부터 모든 걸 알 순 없겠지 하지만 난 다 던져볼래 자꾸 아찔한 이 느낌 위험한 이 느낌 내 손을 꼭 잡아줘 I want you 흔들리지 않게 조금 더 뜨겁게 나를 꼭 더 안아줘 넌 롤러코스터 ooh ahh 롤러코스터 uh woh ahh I need your love ooh ahh baby your love uh woh ahh 빤히 바라볼 때 가슴이 떨려 아닌 척 해봐도 뻔히 다 걸려 내가 먼저 말하지 않아도 이미 다 알아 넌 내 맘과 같아 aha 너무 빠른 건 아닐까 싶어 aha 근데 너 때문에 매일 새로워 조금 서툴러도 눈 감아줘 baby I need your love oh oh I need your love oh oh oh 시간이 멈춘 것처럼 달콤해 갑자기 날 떠날까 봐 걱정돼 처음부터 모든 걸 알 순 없겠지 하지만 난 다 던져볼래 자꾸 아찔한 이 느낌 위험한 이 느낌 내 손을 꼭 잡아줘 I want you 흔들리지 않게 조금 더 뜨겁게 나를 꼭 더 안아줘 넌 롤러코스터 ooh ahh 롤러코스터 uh woh ahh I need your love ooh ahh Baby your love uh woh ahh 어쩌다 찾아온 내 사랑 I love you I love you 모든 게 꿈이 아니기를 I love you I love you Look 넌 롤러코스터 ooh ahh 넌 롤러코스터 baby 롤러코스터 uh woh ahh 롤러코스터 baby I need your love ooh ahh baby I need you love baby your love uh woh ahh 롤러코스터 롤러코스터흐르는 물결이 내 발목에 감겨 나가면 깊은 곳에 숨겨둔 아픈 기억 모두 살아나고 어디에 기대 살아갈까 나를 스쳐가는 그 모든 것들이 상처인데 그댈 그린 밤들이 내게 욕심이란 걸 맘 아프게 알아 나를 택한 운명이 행여 그댈 맴돌아 붙잡지 못하게 이제 그대 곁에서 떠나가 내뱉는 숨마다 가시 돋친 고통이어서 깊은 곳에 숨겨둔 사랑 또한 그저 지워 내고 어디에 기대 살아갈까 나를 스쳐가는 그 모든 것들이 상처인데 그댈 그린 밤들이 내게 사치라는 걸 맘 아프게 알아 나를 택한 운명이 행여 그댈 맴돌아 붙잡지 못하게 이제 그대 곁에서 떠나가 언젠가 그대 곁에 다시 돌아갈 수 있다면 그때가 언제라도 나를 잊지 않았다면 그댈 그린 날들이 내게 마지막 남은 기쁨이었단 걸 내가 택한 운명이 다른 무엇이 아닌 그대뿐이라는 걸 이제 그대 곁에서 영원히첫눈에 널 알아보게 됐어 서롤 불러왔던 것처럼 내 혈관 속 DNA가 말해줘 내가 찾아 헤매던 너라는 걸 우리 만남은 수학의 공식 종교의 율법 우주의 섭리 내게 주어진 운명의 증거 너는 내 꿈의 출처 Take it take it 너에게 내민 내 손은 정해진 숙명 걱정하지 마 love 이 모든 건 우연이 아니니까 우린 완전 달라 baby 운명을 찾아낸 둘이니까 우주가 생긴 그 날부터 계속 무한의 세기를 넘어서 계속 우린 전생에도 아마 다음 생에도 영원히 함께니까 이 모든 건 우연이 아니니까 운명을 찾아낸 둘이니까 DNA I want it this love I want it real love 난 너에게만 집중해 좀 더 세게 날 이끄네 태초의 DNA 가 널 원하는데 이건 필연이야 I love us 우리만이 true lovers 그녀를 볼 때마다 소스라치게 놀라 신기하게 자꾸만 숨이 멎는 게 참 이상해 설마 이런 게 말로만 듣던 사랑이란 감정일까 애초부터 내 심장은 널 향해 뛰니까 걱정하지 마 love 이 모든 건 우연이 아니니까 우린 완전 달라 baby 운명을 찾아낸 둘이니까 우주가 생긴 그 날부터 계속 무한의 세기를 넘어서 계속 우린 전생에도 아마 다음 생에도 영원히 함께니까 이 모든 건 우연이 아니니까 운명을 찾아낸 둘이니까 DNA 돌아보지 말아 운명을 찾아낸 우리니까 후회하지 말아 baby 영원히 영원히 영원히 영원히 함께니까 걱정하지 마 love 이 모든 건 우연이 아니니까 우린 완전 달라 baby 운명을 찾아낸 둘이니까 La la la la la La la la la la 우연이 아니니까 La la la la la La la la la la 우연이 아니니까 DNA어떠니 잘 지냈니 지난 여름 유난히도 힘에 겹더라 올핸 새벽녘엔 제법 쌀쌀한 바람이 어느덧 니가 좋아하던 그 가을이 와 사랑도 그러게 별수없나 봐 언제 그랬냐는 듯 계절처럼 변해가 그리워져 미치도록 사랑한 그날들이 내 잃어버린 날들이 참 많이 웃고 울었던 그때 그 시절의 우리 니가 떠올라 밤새 참 아프다 니가 너무 아프다 너를 닮은 이 시린 가을이 오면 보고 싶어서 너를 안고 싶어서 가슴이 너를 앓는다 어떠니 넌 괜찮니 지금쯤은 나를 잊고 편안해졌니 이젠 우습지 잘살길 바라면서도 막상 날 잊었을 널 떠올리면 서글퍼 그리워져 미치도록 사랑한 그날들이 내 잃어버린 날들이 참 많이 웃고 울었던 그때 그 시절의 우리 니가 떠올라 밤새 참 아프다 니가 너무 아프다 너를 닮은 이 시린 가을이 오면 보고 싶어서 너를 안고 싶어서 가슴이 너를 앓는다 너라는 계절 안에 살아 여전히 너를 꿈꾸며 고마워져 그 날들이 내 지나버린 날들이 추억은 짐이 아니라 살게 하는 힘이란 걸 가르쳐준 너니까 또 설렌다 아프도록 설렌다 너를 닮은 눈부신 가을이 오면 니가 떠올라 그리움이 차올라 눈물로 너를 앓는다 밤새 또 너를 앓는다널 위해서라면 난 슬퍼도 기쁜 척 할 수가 있었어 널 위해서라면 난 아파도 강한 척 할 수가 있었어 사랑이 사랑만으로 완벽하길 내 모든 약점들은 다 숨겨지길 이뤄지지 않는 꿈속에서 피울 수 없는 꽃을 키웠어 I'm so sick of this Fake Love Fake Love Fake Love I'm so sorry but it's Fake Love Fake Love Fake Love I wanna be a good man just for you 세상을 줬네 just for you 전부 바꿨어 just for you Now I dunno me who are you 우리만의 숲 너는 없었어 내가 왔던 route 잊어버렸어 나도 내가 누구였는지도 잘 모르게 됐어 거울에다 지껄여봐 너는 대체 누구니 널 위해서라면 난 슬퍼도 기쁜 척 할 수가 있었어 널 위해서라면 난 아파도 강한 척 할 수가 있었어 사랑이 사랑만으로 완벽하길 내 모든 약점들은 다 숨겨지길 이뤄지지 않는 꿈속에서 피울 수 없는 꽃을 키웠어 Love you so bad Love you so bad 널 위해 예쁜 거짓을 빚어내 Love it’s so mad Love it’s so mad 날 지워 너의 인형이 되려 해 Love you so bad Love you so bad 널 위해 예쁜 거짓을 빚어내 Love it’s so mad Love it’s so mad 날 지워 너의 인형이 되려 해 I'm so sick of this Fake Love Fake Love Fake Love I'm so sorry but it's Fake Love Fake Love Fake Love Why you sad I don't know 난 몰라 웃어봐 사랑해 말해봐 나를 봐 나조차도 버린 나 너조차 이해할 수 없는 나 낯설다 하네 니가 좋아하던 나로 변한 내가 아니라 하네 예전에 니가 잘 알고 있던 내가 아니긴 뭐가 아냐 난 눈 멀었어 사랑은 뭐가 사랑 It's all fake love Woo I dunno I dunno I dunno why Woo 나도 날 나도 날 모르겠어 Woo I just know I just know I just know why Cuz it’s all Fake Love Fake Love Fake Love Love you so bad Love you so bad 널 위해 예쁜 거짓을 빚어내 Love it’s so mad Love it’s so mad 날 지워 너의 인형이 되려 해 Love you so bad Love you so bad 널 위해 예쁜 거짓을 빚어내 Love it’s so mad Love it’s so mad 날 지워 너의 인형이 되려 해 I'm so sick of this Fake Love Fake Love Fake Love I'm so sorry but it's Fake Love Fake Love Fake Love 널 위해서라면 난 슬퍼도 기쁜 척 할 수가 있었어 널 위해서라면 난 아파도 강한 척 할 수가 있었어 사랑이 사랑만으로 완벽하길 내 모든 약점들은 다 숨겨지길 이뤄지지 않는 꿈속에서 피울 수 없는 꽃을 키웠어보고 싶다 이렇게 말하니까 더 보고 싶다 너희 사진을 보고 있어도 보고 싶다 너무 야속한 시간 나는 우리가 밉다 이젠 얼굴 한번 보는 것 조차 힘들어진 우리가 여긴 온통 겨울 뿐이야 8월에도 겨울이 와 마음은 시간을 달려가네 홀로 남은 설국열차 니 손 잡고 지구 반대편까지 가 겨울을 끝내고파 그리움들이 얼마나 눈처럼 내려야 그 봄날이 올까 Friend 허공을 떠도는 작은 먼지처럼 작은 먼지처럼 날리는 눈이 나라면 조금 더 빨리 네게 닿을 수 있을 텐데 눈꽃이 떨어져요 또 조금씩 멀어져요 보고 싶다 보고 싶다 보고 싶다 보고 싶다 얼마나 기다려야 또 몇 밤을 더 새워야 널 보게 될까 널 보게 될까 만나게 될까 만나게 될까 추운 겨울 끝을 지나 다시 봄날이 올 때까지 꽃 피울 때까지 그곳에 좀 더 머물러줘 머물러줘 니가 변한 건지 니가 변한 건지 아니면 내가 변한 건지 내가 변한 건지 이 순간 흐르는 시간조차 미워 우리가 변한 거지 뭐 모두가 그런 거지 뭐 그래 밉다 니가 넌 떠났지만 단 하루도 너를 잊은 적이 없었지 난 솔직히 보고 싶은데 이만 너를 지울게 그게 널 원망하기보단 덜 아프니까 시린 널 불어내 본다 연기처럼 하얀 연기처럼 말로는 지운다 해도 사실 난 아직 널 보내지 못하는데 눈꽃이 떨어져요 또 조금씩 멀어져요 보고 싶다 보고 싶다 보고 싶다 보고 싶다 얼마나 기다려야 또 몇 밤을 더 새워야 널 보게 될까 널 보게 될까 만나게 될까 만나게 될까 You know it all You're my best friend 아침은 다시 올 거야 어떤 어둠도 어떤 계절도 영원할 순 없으니까 벚꽃이 피나봐요 이 겨울도 끝이 나요 보고 싶다 보고 싶다 보고 싶다 보고 싶다 조금만 기다리면 며칠 밤만 더 새우면 만나러 갈게 만나러 갈게 데리러 갈게 데리러 갈게 추운 겨울 끝을 지나 다시 봄날이 올 때까지 꽃 피울 때까지 그곳에 좀 더 머물러줘 머물러줘라라라라라라라 라라라라라라라 You and me in the moonlight 별 꽃 축제 열린 밤 파도 소리를 틀고 춤을 추는 이 순간 이 느낌 정말 딱야 바다야 우리와 같이 놀아 바람아 너도 이쪽으로 와 달빛 조명 아래서 너와 나와 세상과 다 같이 Party all night long yeah it’s good If you wanna have some fun 짭짤한 공기처럼 이 순간의 특별한 행복을 놓치지마 One two three let’s go 저 우주 위로 날아갈 듯 춤추러 가 Hey Let’s dance the night away Let’s dance the night away One two three let’s go 저 바다 건너 들릴 듯 소리 질러 let’s dance the night away Dance the night away Let’s dance the night away Dance the night away Let’s dance the night away You and me in this cool night 미소 짓는 반쪽 달 그 언젠가 너와 나 저 달 뒷면으로 가 파티를 열기로 약속 yeah it’s good If you wanna have some fun 은빛 모래알처럼 이 순간의 특별한 행복을 놓치지 마 One two three let’s go 저 우주 위로 날아갈 듯 춤추러 가 Hey Let’s dance the night away Let’s dance the night away One two three let’s go 저 바다 건너 들릴 듯 소리 질러 let’s dance the night away 오늘이 마지막인 듯 소리 질러 저 멀리 끝없이 날아오를 듯 힘껏 뛰어 더 높이 오늘이 마지막인 듯 소리 질러 저 멀리 쏟아지는 별빛과 Let’s dance the night away Let’s dance the night away One two three let’s go 저 바다 건너 들릴 듯 소리 질러 let’s dance the night away Let’s dance the night away Dance the night away Dance the night away Dance the night away Let’s dance the night away사랑에 연습이 있었다면 우리는 달라졌을까 내가 널 만난 시간 혹은 그 장소 상황이 달랐었다면 우린 맺어졌을까 하필 넌 왜 내가 그렇게 철없던 시절에 나타나서 그렇게 예뻤니 너처럼 좋은 여자가 왜 날 만나서 그런 과분한 사랑 내게 줬는지 우리 다시 그때로 돌아가자는게 그게 미친말인가 정신나간 소린가 나는 더 잘 할 수 있고 다신 울리지 않을 자신있는데 그게 왜 말이 안돼 시간이 너무 흘러 알게되었는데 너를 울리지 않고 아껴주는법 세월은 왜 철없는 날 기다려주지 않고 흘러갔는지 야속해 지금 너 만나는 그에게도 내게 그랬던 것처럼 예쁘게 웃어주니 너처럼 좋은 여자의 사랑 받는 그 남자 너무 부러워 넌 행복하니 니옆에 지금 그 남자가 있는게 우리 다시 맺어질수가 없는 이윤가 나는 더 잘 할 수 있고 다신 울리지 않을 자신있는데 그게 왜 말이 안돼 시간이 너무 흘러 알게 되었는데 너를 울리지 않고 아껴주는 법 세월은 왜 널 잊는 법을 알려주지 않고 흘러갔는지이젠 내가 편하니 작은 설렘조차 욕심이겠지 항상 곁에 있어서 계속 함께 있을 줄 알았나 봐 음 반복되는 시간에 지쳐가 더 이상 함께 웃을 일도 없어 봄처럼 따뜻했던 그때가 좋았어 너 하나로 충분했던 그때가 좋았어 헤어지고 나서야 깨닫게 됐어 참 좋았구나 참 예뻤구나 우리 지난날에 그때가 참 좋았어 그때 그때 그때 그때 음 이미 너도 다 알잖아 돌이킬 수 없이 멀리 왔다는 거 억지로 더 노력해도 안되는 건 어쩔 수가 없더라 음 우리 언제 이렇게 됐을까 더는 너를 만날 자신이 없어 봄처럼 따뜻했던 그때가 좋았어 행복해서 눈물 나던 그때가 좋았어 헤어지고 나서야 깨닫게 됐어 참 좋았구나 참 예뻤구나 우리 지난날에 그때가 참 좋았어 가진 것도 없고 초라했어도 서로만으로 충분했으니까 우린 너라서 좋았어 행복했어 사랑이 전부였던 그때가 좋았어 그때 알았더라면 더 사랑할 걸 더 안아줄 걸 후회가 돼 사랑했던 우리가 참 그리워 그때 그때 그때 그때 음모든 게 궁금해 How’s your day Oh tell me 뭐가 널 행복하게 하는지 Oh text me Your every picture 내 머리맡에 두고 싶어 oh bae Come be my teacher 네 모든 걸 다 가르쳐줘 Your 1 your 2 Listen my my baby 나는 저 하늘을 높이 날고 있어 그때 니가 내게 줬던 두 날개로 이제 여긴 너무 높아 난 내 눈에 널 맞추고 싶어 Yeah you makin’ me a boy with luv Oh my my my oh my my my I've waited all my life 네 전부를 함께하고 싶어 Oh my my my oh my my my Looking for something right 이제 조금은 나 알겠어 I want something stronger Than a moment than a moment love I have waited longer For a boy with For a boy with luv 널 알게 된 이후 ya 내 삶은 온통 너 ya 사소한 게 사소하지 않게 만들어버린 너라는 별 하나부터 열까지 모든 게 특별하지 너의 관심사 걸음걸이 말투와 사소한 작은 습관들까지 다 말하지 너무 작던 내가 영웅이 된 거라고 Oh nah 난 말하지 운명 따윈 처음부터 내 게 아니었다고 Oh nah 세계의 평화 No way 거대한 질서 No way 그저 널 지킬 거야 난 Boy with luv Listen my my baby 나는 저 하늘을 높이 날고 있어 그때 니가 내게 줬던 두 날개로 이제 여긴 너무 높아 난 내 눈에 널 맞추고 싶어 Yeah you makin’ me a boy with luv Oh my my my oh my my my You got me high so fast 네 전부를 함께하고 싶어 Oh my my my oh my my my You got me fly so fast 이제 조금은 나 알겠어 Love is nothing stronger Than a boy with luv Love is nothing stronger Than a boy with luv 툭 까놓고 말할게 나도 모르게 힘이 들어가기도 했어 높아버린 sky 커져버린 hall 때론 도망치게 해달라며 기도했어 But 너의 상처는 나의 상처 깨달았을 때 나 다짐했던 걸 니가 준 이카루스의 날개로 태양이 아닌 너에게로 Let me fly Oh my my my oh my my my I've waited all my life 네 전부를 함께하고 싶어 Oh my my my oh my my my Looking for something right 이제 조금은 나 알겠어 I want something stronger Than a moment than a moment love Love is nothing stronger Than a boy with luv나는 그대를 뒤로한 채로 우리 사랑을 놓아요 차오르는 추억을 헝클어뜨려 모두 일어나지 않았던 일처럼 고갤 저어 모르는 꿈이라 말하고 있네요 남았는지 모를 마음이 나를 향해 힘껏 달려도 어느 끝 멈춰질 그 거리에 그대 다 찢겨져버린 사이 더 기워봐도 다시 그때로 우리 되돌려 놓을 수 없는 그 얘기 날카롭게 패인 이 상처가 깊어 나을 수 없으니 떠나가요 떨궈진 눈물은 가슴에 담아지고 이제 더는 채울 자리 없이 넘쳐흐르네요 그대인지 모를 얼굴이 나를 향해 웃음 지어도 손 내밀 수도 없는 거리에 그대 또 주저앉을 수밖에 무너진 이 사랑과 그대의 모든 흔적을 그리워하는 일만이 더 할 게 없어서 무력해져 가는 내가 싫어 그대를 보내기 싫지만 다 찢겨져버린 사이 더 기워봐도 다시 그때로 우릴 되돌려 놓을 수 없는 그 얘기 날카롭게 패인 이 상처가 깊어 나을 수 없으니 떠나가요네가 없이 웃을 수 있을까 생각만 해도 눈물이나 힘든 시간 날 지켜준 사람 이제는 내가 그댈 지킬 테니 너의 품은 항상 따뜻했어 고단했던 나의 하루에 유일한 휴식처 나는 너 하나로 충분해 긴 말 안 해도 눈빛으로 다 아니깐 한 송이의 꽃이 피고 지는 모든 날 모든 순간 함께해 햇살처럼 빛나고 있었지 나를 보는 네 눈빛은 꿈이라고 해도 좋을 만큼 그 모든 순간은 눈부셨다 불안했던 나의 고된 삶에 한줄기 빛처럼 다가와 날 웃게 해준 너 나는 너 하나로 충분해 긴 말 안 해도 눈빛으로 다 아니깐 한 송이의 꽃이 피고 지는 모든 날 모든 순간 함께해 알 수 없는 미래지만 네 품속에 있는 지금 순간 순간이 영원 했으면 해 갈게 바람이 좋은 날에 햇살 눈부신 어떤 날에 너에게로 처음 내게 왔던 그날처럼 모든 날 모든 순간 함께해너를 만난 그 이후로 사소한 변화들에 행복해져 눈이 부시게 빛 나는 아침 너를 떠올리며 눈 뜨는 하루 식탁 위에 마주 앉아 너의 하루는 어땠는지 묻거나 나의 하루도 썩 괜찮았어 웃으며 대답해 주고 싶어 별것 아닌 일에 맘이 통할 때면 익숙해진 서로가 놀라웠어 널 사랑해 평온한 지금처럼만 영원하고 싶다고 너를 바라보다 생각했어 너를 만나 참 행복했어 나 이토록 사랑할 수 있었던 건 아직 어리고 모자란 내 맘 따뜻한 이해로 다 안아줘서 무심한 말투에 서로 아플 때면 차가워진 사이가 견딜 수 없어 미안해 불안한 지금이라도 영원하고 싶다고 너를 바라보다 생각했어 너를 만나 참 행복했어 나 이토록 사랑할 수 있었던 건 아직 어리고 모자란 내 맘 따뜻한 이해로 다 안아줘서 뜨거웠던 여름 지나 그리워질 빗소리에 하나 둘 수줍어 또 얼굴 붉히면 생각이 많아진 너의 눈에 입 맞출 테니 우리 함께 걸어가기로 해 나를 만나 너도 행복하니 못 해준 게 더 많아서 미안해 이기적이고 불안한 내가 너에게만은 잘하고 싶었어 오랫동안 나 기다려온 완벽한 사랑을 찾은 것 같아 날 잡아줘서 힘이 돼줘서 소중한 배려로 날 안아줘서 너를 만나사계절이 와 그리고 또 떠나 내 겨울을 주고 또 여름도 주었던 온 세상이던 널 보낼래 정말 너를 사랑했을까 언제야 봄이던가 맞아 그땐 한참 서로가 셰익스피어의 연극 같은 마지막이 될 사랑 마주한 듯 둘밖에 안 보였나 봐 다른 걸 좀 보고파 I gave you the world 너만이 전부라 내 겨울을 주고 또 여름도 주었지 뜨겁고 차갑던 그 계절에 정말 너를 사랑했을까 내가 너를 사랑했을까 서로를 그리워했고 서로를 지겨워하지 그 긴 낮과 밤들이 낡아 녹슬기 전에 우리 다시 반짝이자 또 계절이 바뀌잖아 I gave you the world 너만이 전부라 내 겨울을 주고 또 여름도 주었지 뜨겁고 차갑던 그 계절에 정말 너를 사랑했을까 내가 너를 사랑했을까 가도 돼 뒤돌아볼 때쯤엔 난 없어 우리 꽤 괜찮았어 그거면 된 거야 떠날 때 사계절이 와 그리고 또 떠나 내 겨울을 주고 또 여름도 주었던 온 세상이던 널 보낼래 정말 너를 사랑했을까 내가 너를 사랑했을까 내가 너를 사랑했을까나는 읽기 쉬운 마음이야 당신도 스윽 훑고 가셔요 달랠 길 없는 외로운 마음 있지 머물다 가셔요 음 내게 긴 여운을 남겨줘요 사랑을 사랑을 해줘요 할 수 있다면 그럴 수만 있다면 새하얀 빛으로 그댈 비춰 줄게요 그러다 밤이 찾아오면 우리 둘만의 비밀을 새겨요 추억할 그 밤 위에 갈피를 꽂고선 남몰래 펼쳐보아요 나의 자라나는 마음을 못 본 채 꺾어 버릴 순 없네 미련 남길바엔 그리워 아픈 게 나아 서둘러 안겨본 그 품은 따스할 테니 그러다 밤이 찾아오면 우리 둘만의 비밀을 새겨요 추억할 그 밤 위에 갈피를 꽂고선 남몰래 펼쳐보아요 언젠가 또 그날이 온대도 우린 서둘러 뒤돌지 말아요 마주보던 그대로 뒷걸음치면서 서로의 안녕을 보아요 피고 지는 마음을 알아요 다시 돌아온 계절도 난 한 동안 새 활짝 피었다 질래 또 한번 영원히 그럼에도 내 사랑은 또 같은 꿈을 꾸고 그럼에도 꾸던 꿈을 난 또 미루진 않을거야그때의 우리 사랑 뜨겁고 치열했는데 끝나보니 남는건 미움뿐 몇번의 계절을 더 보내야 괜찮아 질까 미련이 듬뿍 남은 하루를 보내 친구들과 통화에 우연히 들은 니 소식 다른 사랑을 시작해 잘 지낸다고 한땐 소중했었고 많이 사랑했었던 우리둘은 이젠 남이 됐고 모르는 사람이야 넌 완벽히 잊었나봐 이렇게 넌 잘사는데 괜한 걱정을 했나봐 나만 힘든가봐 너도 내 소식을 전해 들었으면 좋겠어 아직은 좀 힘들어 한다는 미안한 마음갖고 가끔씩 날 생각해줘 그래야 내 맘이 좀 편할거 같아 니옆에 다른 사람 있다는게 참 낯설어 뭔지 모를 서운함은 이기적인 거니 한땐 소중했었고 많이 사랑했었던 우리둘은 이젠 남이 됐고 모르는 사람이야 넌 완벽히 잊었나봐 이렇게 넌 잘사는데 나만 끝을 미뤘나봐 나만 그랬나봐 솔직한 맘을 말하면 좋은 사랑 안했으면 해 가슴아프게 지내길 바랬어 너는 행복하겠지 많이 설레이겠지 나 없이도 웃는 니 모습에 이제야 실감이나 넌 완벽히 떠났나봐 확실히 날 떠났나봐 난 니가 너무 미워져 행복하지 말아줘 잘지내지 말아줘 좋은 사람 만나 다행이란 말은 거짓말이야 네 소식 들은 그날밤 펑펑 울다가 밤을 샜어 늦어버린걸 알지만 어쩔수 없나봐별빛이 내린 밤 그 풍경 속 너와 나 날 새롭게 하는 따뜻하게 만드는 니 눈빛 니 미소 영원히 담아둘게 너로 가득한 맘 널 닮아가는 나 날 위한 선물 꿈보다 더 아름다운 서로의 품에서 끝 없는 밤을 걷자 나의 모든 날들을 다 주고싶어 내 이 맘을 모두 전하고 싶어 잠들지 못한 푸른 바람들 이렇게 밝게 이 밤을 비춰 너와 작은 일상을 함께 하는게 내 가장 큰 기쁨인걸 넌 알까 내 세상 속에 넌 빛이 되어 지금 모습 그대로 내 곁에만 행복이 짙은 날 어둠이 없는 밤 같은 맘 속에 같은 꿈이 피어난 건 우리의 정해진 운명이 맞닿은거야 나의 모든 날들을 다 주고싶어 내 이 맘을 모두 전하고 싶어 잠들지 못한 푸른 바람들 이렇게 밝게 이 밤을 비춰 너와 작은 일상을 함께 하는게 내 가장 큰 기쁨인걸 넌 알까 내 세상 속에 넌 빛이 되어 지금 모습 그대로 내 곁에만 내게 온 너란 빛이 눈 부셔도 네 앞에서 한 순간도 눈 감지 않아 다가올 시간도 계절의 바람도 널 데려가지 못하게 내가 더 좋은 사람이 되고 싶어 더 아름답게 널 안을 수 있게 잠들지 못한 잠들 수 없는 바람들이 널 부르고 있어 언제까지나 너와 함께 할거야 내 마지막 숨결도 너일거야 내 세상 속에 넌 빛이 되어 지금 모습 그대로 내 곁에만 이렇게 밝게 이 밤을 비춰Yeah I like it 네가 말을 놓는 것도 Like it 너의 작은 말투도 나쁘지 않은걸 Boy you know know know know Like the way 말없이 손을 잡고 Like the way 조금은 놀래도 싫지가 않은걸 You know boy boy boy boy 물감처럼 파랗던 하늘은 벌써 까맣고 감정은 더 깊어져 yeah I gotta tell you this 우리 둘만 느껴지는 이상한 느낌 나도 너무 좋아 but it’s too late 아쉬워 벌써 12시 어떡해 벌써 12시네 보내주기 싫은걸 알고 있어 how you feel it 음악에 맞춰 사랑을 속삭이고 싶어 솔직히 우리 둘 맘이 같은 걸 Gotta go gotta go 12시 같은 생각인 걸 알고 있는데 더 이상은 솔직할 수 없는 걸 Gotta go gotta go 12시 어쩜 우린 닮은 것도 많아 취향 취미 먹을 때도 말야 You’re reading my heart 좀 더 일찍 알았다면 어땠을까 생각하게 돼 yeah 별들은 더 빛나고 시간은 점점 지나고 감성은 더 짙어져 yeah I gotta tell you this 너에게만 느껴지는 포근한 느낌 나도 너무 좋아 but it’s too late 아쉬워 벌써 12시 어떡해 벌써 12시네 보내주기 싫은 걸 알고 있어 how you feel it 음악에 맞춰 사랑을 속삭이고 싶어 솔직히 우리 둘 맘이 같은 걸 Gotta go gotta go 12시 같은 생각인 걸 알고 있는데 더 이상은 솔직할 수 없는 걸 Gotta go gotta go 12시 구석에 맘 한구석에 조그만 끈 붙잡고 있는 걸 Baby don’t wanna be alone 늦으면 더 늦어지면 어쩌면 다 놓아버릴지 몰라 I’m really trying to make you see 아쉬워 벌써 12시 어떡해 벌써 12시네 보내주기 싫은걸 알고 있어 how you feel it Gotta go gotta go 12시그리워서 한 잔 생각나서 한 잔 내 눈물 섞어 한 잔 또 한 잔 마시다 우리 옛 추억에 취해 독한 네 사랑에 취해 너의 전화 번홀 누르게 돼 아마 받지 않겠지만 미안해 술이 문제야 문제 자꾸 너를 떠올리게 해 술이 문제야 문제 자꾸 네가 생각나게 해 정말 미친 듯이 보고 싶어 한 잔 정말 미친 듯이 그리워서 한 잔 한 잔 두 잔 기울이면 너의 기억 모두 끊어질까 봐 술 한잔했어요 잊어보려 한 잔 지워보려 한 잔 내 눈물 섞어 한 잔 또 한 잔 마시다 흐릿한 얼굴에 취해 희미한 기억에 취해 다시 전화 번홀 누르게 돼 절대 받지 않겠지만 미안해 술이 문제야 문제 자꾸 너를 떠올리게 해 술이 문제야 문제 자꾸 네가 생각나게 해 정말 미친 듯이 보고 싶어 한 잔 정말 미친 듯이 그리워서 한 잔 한 잔 두 잔 기울이면 너의 기억 모두 끊어질까 봐 나 맨정신에 살 수 없어서 술 한잔했어요 나 제정신에 살 수 없어서 술 한잔했어요 딱 한 잔만 딱 한 잔만 딱 한 잔만 더 마시면 너 돌아올까 봐 미안해 다 내가 문제야 문제 바보같이 널 또 기다려 아니야 내가 문제야 문제 아직까지 너만 사랑해 정말 보고 싶은 너를 위해 한 잔 정말 사랑했던 우릴 위해 한 잔 한 잔 두 잔 기울이면 너의 기억 모두 끊어질까 봐 술 한잔했어요너는 별을 보자며 내 몸을 당겨서 단 한 번에 달빛을 내 눈에 담았어 Every time I look up in the sky 근데 단 한 개도 없는 Star 혼자 두지 않을게 저 달이 외롭지 않게 해 줘 너는 별을 보자며 내 손을 끌어서 저녁노을이 진 옥상에 걸터앉아 Every time I look up in the sky 근데 단 한 개도 없는 Star 괜찮아 네가 내 우주고 밝게 빛나 줘 이런 가사 한 마디가 널 위로한다면 나 펜을 잡을게 자극적인 것보다 진심만으로 말할 수 있어 All day 고양이보다 넌 강아지같이 날 기다렸지 하루 종일 뭐가 그리 슬펐지 이 별에서 네가 가장 특별해 너는 그런 거 전혀 몰랐지 You want some more 왜 자꾸만 널 가두려 하는 건지 You want some more Sky is nothing to believe 너는 별을 보자며 내 손을 끌어서 저녁노을이 진 옥상에 걸터앉아 Every time I look up in the sky 근데 단 한 개도 없는 Star 괜찮아 네가 내 우주고 밝게 빛나 줘 있잖아 난 네가 아주 가끔씩 무겁게 할 때마다 움칫 널 위로할 손이 난 없네 지금 난 갈 길을 잃은 별 날 당기는 힘은 너 넌 별을 잃은 하늘처럼 떠돌고 다녀 우리가 지난 길이 별자리처럼 나와 너 그 길을 따라서 날 기억해줘 You want some more 왜 자꾸만 널 가두려 하는 건지 You want some more Sky is nothing to believe 너는 별을 보자며 내 손을 끌어서 저녁노을이 진 옥상에 걸터앉아 Every time I look up in the sky 근데 단 한 개도 없는 Star 괜찮아 네가 내 우주고 밝게 빛나 줘 Girl I don’t know why I’m leaving Girl I don’t know why 처음부터 다시 알려 줘 Girl I don’t know why I’m leaving Girl I don’t know why 너는 별을 보자며 내 손을 끌어서 저녁노을이 진 옥상에 걸터앉아 Every time I look up in the sky 근데 단 한 개도 없는 Star 괜찮아 네가 내 우주고 밝게 빛나 줘 꼭 닮은 너를 찾아 나섰지 너를 당겨 보려 해도 Every time I look up in the sky 근데 단 한 개도 없는 Star 괜찮아 네가 내 우주고 밝게 빛나 줘DDA DDA LA DDA LA DDA LA People look at me and they tell me 외모만 보고 내가 날라리 같대요 So what 신경 안 써 I'm sorry I don't care don't care really don't care because 사랑 따위에 목매지 않아 세상엔 재밌는 게 더 많아 언니들이 말해 철들려면 멀었대 I'm sorry sorry 철들 생각 없어요 예쁘기만 하고 매력은 없는 애들과 난 달라 달라 달라 DDA DDA LA DDA LA 네 기준에 날 맞추려 하지 마 난 지금 내가 좋아 나는 나야 DDA DDA LA DDA LA DDA LA I love myself 난 뭔가 달라 달라 YEAH I love myself 난 뭔가 달라 달라 YEAH 난 너랑 달라 달라 YEAH Bad bad I'm sorry I'm bad I'm just the way I am 남 신경 쓰고 살긴 아까워 하고 싶은 일 하기도 바빠 My life 내 맘대로 살 거야 말리지 마 난 특별하니까 YEAH 남들의 시선 중요치 않아 내 style이 좋아 그게 나니까 언니들이 말해 내가 너무 당돌하대 I'm sorry sorry 바꿀 생각 없어요 Nope 예쁘기만 하고 매력은 없는 애들과 난 달라 달라 달라 DDA DDA LA DDA LA 네 기준에 날 맞추려 하지 마 난 지금 내가 좋아 나는 나야 DDA DDA LA DDA LA DDA LA Don’t care what people say 나는 내가 알아 I’m talkin' to myself 기죽지 마 절대로 고개를 들고 네 꿈을 쫓아 Just keep on dreamin' Keep your chin up We got your back Keep your head up Just keep on dreamin' Keep your chin up We got your back Keep your head up Just keep on dreamin' 예쁘기만 하고 매력은 없는 애들과 난 달라 달라 달라 DDA DDA LA DDA LA 네 기준에 날 맞추려 하지 마 난 지금 내가 좋아 나는 나야 DDA DDA LA DDA LA DDA LA I love myself 난 뭔가 달라 달라 YEAH I love myself 난 뭔가 달라 달라 YEAH 난 너랑 달라 달라 YEAH나는 사랑이 어떻게 이뤄지는 지 연구 했지 여러가지 상황의 수를 계산 해 봤지 그땐 내가 좀 못 생겨서 흑흑 니가 좋아하는 노랠 알아내는 것은 필수 가성이 많이 들어가서 마이크 조절이 굉장히 조심스러웠었지 그렇게 노래방으로 가서 그녀가 좋아하는 노랠해 무심한 척 준비안한 척 노랠 불렀네 어어 그렇게 내가 노랠 부른뒤 그녀의 반응을 상상하고 좀더 잘 불러볼걸 노랠 흥얼 거렸네 사랑때문에 노랠 연습하는 건 자연의 이치 날으는 새들도 모두 사랑노래 부르는 게 뭔가 가능성만 열어 준다면 근데 그년 남자친구가 있었지 그것은 내 실수 그 후로 혼자 노래방에서 복잡한 맘을 달랬네 몇 달을 혼자 노래방에 갔는지 그렇게 노래방이 취미가 되고 그녀가 좋아하는 노랠해 괜찮은 척 안슬픈 척 노랠 불렀네 어어 그렇게 내가 노랠 부른뒤 우연히 집에 가려 하는데 갑자기 그녀가 노래방에 가자 하네 그렇게 나는 그녀를 따라 걸어보지만 괜찮은 척 사실 난 너무 많이 떨려요 그녀 아무렇지 않아도 나는 아무렇지 않지 않아요 근데 그녀는 나를 바라보고는 자기도 지금 아무 렇지 않지 않대요 무슨 말이 냐고 물어보네 그렇게 노래방을 나오고 그녀를 집에 데려다 준뒤 무슨일 인가 괜찮은 건가 멍해 버렸네 어어 핸드폰도 없는 늦은 새벽 집에서 계속 잠은 안오고 그녀가 좋아하던 노랠 흥얼 거렸네 그녀가 좋아하던 노랠 흥얼 거렸네이 노래가 클럽에서 나온다면 네가 이 음악에 춤출 수 있을까요 이 노래가 클럽에서 나온다면 혹시 그녀가 내게 전화할까요 이 노래가 흘러 네게 닿는다면 그대는 웃을까요 눈물 흘릴까요 궁금하죠 과연 You still have fire You still have fire 해가 지고 나서 눈이 떠진 날 침대가 너무 넓다고 느껴진 날 베개 하나가 할 일을 잃은 날 잠깐만 오늘 꿈에서 널 본 것 같아 난 한 번 더 보려고 눈을 감네 But I can do a nothing 적적한 마음에 떠날 거라면 이 맘도 가져가 어차피 넌 내 말 듣지 않을 거니까 이 노래가 클럽에서 나온다면 네가 이 음악에 춤출 수 있을까요 이 노래가 클럽에서 나온다면 혹시 그녀가 내게 전화할까요 이 노래가 흘러 네게 닿는다면 그대는 웃을까요 눈물 흘릴까요 궁금하죠 과연 과연 You still have fire fire Fire up fire up fire up You still have fire You still have fire Fire up fire up fire up You still have fire You still have fire Fire up fire up fire up You still have fire You still have fire 궁금하죠 과연 과연 You still have fire fire 그래 네가 맞아 네가 했던 말 다 맞는 말이고 이미 떠나보낸 막차 내가 전화해도 너는 받질 않아 손을 뻗어봤자 전혀 널 지워 버리려고 해 술에 힘을 빌려 Oh oh But 또 가지 널 만나러 꿈속으로 3 2 1 이 노래가 클럽에서 나온다면 네가 이 음악에 춤출 수 있을까요 이 노래가 클럽에서 나온다면 혹시 그녀가 내게 전화할까요 이 노래가 흘러 네게 닿는다면 그대는 웃을까요 눈물 흘릴까요 궁금하죠 과연 과연 You still have fire fire 걸어와 줘 넌 내게로 여전히 넌 예쁜 채로 내 곁에 있어 내 옆에 있어 아직도 멈춘 시간 그곳에 있어 내 노래가 들리면 지금 전화해줘 1 2 3 이 노래가 클럽에서 나온다면 네가 이 음악에 춤출 수 있을까요 이 노래가 클럽에서 나온다면 혹시 그녀가 내게 전화할까요 이 노래가 흘러 네게 닿는다면 그대는 웃을까요 눈물 흘릴까요 궁금하죠 과연 과연 You still have fire fire Fire up fire up fire up You still have fire You still have fire Fire up fire up fire up You still have fire You still have fire Fire up fire up fire up You still have fire You still have fire 궁금하죠 과연 과연 You still have fire fire그대와 자주 가던 그 술집에 혼자 널 생각하며 소주 한잔해 그대가 좋아하던 김치찌개를 가만히 바라보다 눈물 한잔해 그 사람 왔었나요 아니 소식이라도 그녀에게 전해줘요 늘 지금처럼 기다린다고 포장마차 그때 그 자리에서 네가 있던 그곳에 서서 날 사랑한다 말했잖아 영원할 거라고 말했잖아 포장마차 그때 그 자리에서 돌아오라는 말을 다시 되뇌이고 되뇌어도 네가 돌아오지 않을 걸 알잖아 그 사람 왔었다면 혹시 혼자였나요 그녀에게 전해줘요 나 그때처럼 기다린다고 포장마차 그때 그 자리에서 네가 있던 그곳에 서서 날 사랑한다 말했잖아 영원할 거라고 말했잖아 포장마차 그때 그 자리에서 돌아오라는 말을 다시 되뇌이고 되뇌어도 네가 돌아오지 않을 걸 알잖아 다 잊으려고 노력해봐도 그게 잘 안되나봐 습관처럼 아니 예전처럼 우리 두 번 다시 돌아갈 수 없나요 내가 싫은 건가요 날 사랑한다 말했잖아 영원할 거라고 말했잖아 포장마차 그때 그 자리에서 네가 있던 그곳에 서서 날 사랑한다 말했잖아 영원할 거라고 말했잖아 그댈 다시 부르고 또 불러도 아무 말 없는 너를 다시 되뇌이고 되뇌어도 네가 돌아오지 않을 걸 알잖아안돼 그만둬 거기까지 해 더 다가가면 너 정신 못 차려 안돼 그만해 꽃은 넣어둬 그냥 좀 바람이 불게 놔줘 왜 그럴까 사람들은 그냥 봄기운이 좋아 눈치 없이 밖을 나가는 걸까 왜 이럴까 뭐가 설렌다고 봄바람이 좋아 내 맘도 모르고 더 불어와 flower sunshine 완벽한 하루를 사실 너와 걸을 수 있다면 얼마나 좋을까 좋아한다고 말하기가 무서워서 네 곁을 맴돌고 있는 난 벚꽃도 뭐고 다 필요 없어 나는 네 곁에 있고 싶어 딱 붙어서 봄이 지나갈 때까지 다른 사람 다 사라져라 나만 봄 왜 그럴까 사람들은 그냥 봄기운이 좋아 눈치 없이 밖을 나가는 걸까 왜 이럴까 뭐가 설렌다고 봄바람이 좋아 내 맘도 모르고 더 불어와 flower sunshine 완벽한 하루를 사실 너와 걸을 수 있다면 얼마나 좋을까 좋아한다고 말하기가 무서워서 네 곁을 맴돌고 있는 난 벚꽃도 뭐고 다 필요 없어 나는 네 곁에 있고 싶어 딱 붙어서 봄이 지나갈 때까지 다른 사람 다 사라져라 언제 봄이 왔는지 내 맘도 모르고 봄바람이 자꾸만 불어와 네 곁에 딱 붙어서 떨어지지 않고 싶어 내 맘을 이제 말하고 싶어 벚꽃도 뭐고 다 필요 없어 나는 네 곁에 있고 싶어 딱 붙어서 봄이 지나갈 때까지 다른 사람 다 사라져라 나만 봄슬픈 예감 앞에 굳게 감아진 두 눈 지금 고개 들면 넌 떠나갈 텐데 못난 걸음은 멈춰버리고 숨소리마저 다 아는 듯 적막한 두려움 속에 결국 너를 놓치고 말겠지 널 그리면서 매일 울며 보내겠지 겨우 눈을 뜨고서 너를 보내면 나는 어쩌면 나는 어쩌면 하루도 못 살 것 같아 이제 난 하루살이 하루하루 내일도 잃어버린 채 너를 사랑했던 오늘만을 살고 내게 웃어 준 네 얼굴을 그리다 사라지겠지 어둠 속으로 너의 뒷모습만 내게 남아 날 원망하고 매일 취한 채 살겠지 그렇게도 기다린 봄은 오지만 나는 어쩌면 여기 너 없는 겨울에 갇힌 채 살아 겨우겨우 살아내도 사랑한 네가 없는데 여름 장마처럼 울다 보면 올까 낙엽 되어 내 마음 위로 내릴까 의미 없겠지 모든 계절의 난 너의 곁에 머물던 너를 사랑했던 너를 안았던 나의 마음을 기억해줘 하루하루 내일도 잃어버린 채 너를 사랑했던 오늘만을 살고 내게 웃어 준 네 얼굴을 그리다 사라지겠지 기억 속으로안녕 이라는 말을해 짧은 시간을 뒤로 한채로 여전히 아프겠지만 하룻밤 자고 나면 사라지는 꿈처럼 너를 oh 잊게될까 두려워져 무심히 널 떠올리게 되면 불안해지는 맘 어떻게 해야하니 안녕 이제는 안녕 이 말 도저히 할 수가 없어 너로 가득찬 내 마음 겨우 내가 할 수 있는 일 너를 사랑하는 거 다시 널 만날 수 있길 아주 오래 전부터 정해진 연일지도 너밖에 모를 내가 되었던 그때가 두려워져 널 안고 있으면 자꾸 욕심이나 어쩔 수 없는걸 안녕 이제는 안녕 이 말 도저히 할 수가 없어 너로 가득찬 내 마음 겨우 내가 할 수 있는 일 너를 사랑하는 거 다시 널 만날 수 있길 굳게 닫힌 저 문이 열리면 그때는 널 다시 볼 수 있을까 잠시 스치듯 만나 운명처럼 날 꽃 피우게 해 매일 널 꿈꾸겠지만 가득 채울 그리움만큼 바라는 건 단 하나 계속 내 곁에 있어줘왜들 그리 다운돼있어 뭐가 문제야 say something 분위기가 겁나 싸해 요새는 이런 게 유행인가 왜들 그리 재미없어 아 그건 나도 마찬가지 Tell me what I got to do 급한 대로 블루투스 켜 아무 노래나 일단 틀어 아무거나 신나는 걸로 아무렇게나 춤춰 아무렇지 않아 보이게 아무 생각 하기 싫어 아무개로 살래 잠시 I’m sick and tired of my everyday Keep it up 한 곡 더 아무 노래나 일단 틀어 아무렴 어때 It’s so boring 아무래도 refresh가 시급한 듯해 쌓여가 스트레스가 배꼽 빠질 만큼만 폭소하고 싶은 날이야 What up my dawgs 어디야 너희 올 때 병맥주랑 까까 몇 개 사 와 huh 클럽은 구미가 잘 안 당겨 우리 집 거실로 빨랑 모여 외부인은 요령껏 차단 시켜 밤새 수다 떨 시간도 모자라 누군 힘들어 죽겠고 누군 축제 괜히 싱숭생숭 I want my youth back 좀 전까지 왁자지껄 하다 한 명 두 명씩 자릴 떠 왜들 그리 다운돼있어 뭐가 문제야 say something 분위기가 겁나 싸해 요새는 이런 게 유행인가 왜들 그리 재미없어 아 그건 나도 마찬가지 Tell me what I got to do 급한 대로 블루투스 켜 아무 노래나 일단 틀어 아무거나 신나는 걸로 아무렇게나 춤춰 아무렇지 않아 보이게 아무 생각 하기 싫어 아무개로 살래 잠시 I’m sick and tired of my everyday Keep it up 한 곡 더 떠나질 못할 바엔 창밖은 쳐다도 안 봐 회까닥해서 추태를 부려도 No worries at all 이미지 왜 챙겨 그래 봤자 우리끼린데 Ohh 늦기 전에 막판 스퍼트 20대가 얼마 안 남았어 편한 옷으로 갈아입어 You look nice get’em high 얼핏 보면 그냥 코미디 이렇게 무해한 파티 처음이지 만감이 교차하는 새벽 2시경 술잔과 감정이 소용돌이쳐 왜들 그리 다운돼있어 뭐가 문제야 say something 분위기가 겁나 싸해 요새는 이런 게 유행인가 왜들 그리 재미없어 아 그건 나도 마찬가지 Tell me what I got to do 급한 대로 블루투스 켜 아무 노래나 일단 틀어 아무거나 신나는 걸로 아무렇게나 춤춰 아무렇지 않아 보이게 아무 생각 하기 싫어 아무개로 살래 잠시 I’m sick and tired of my everyday Keep it up 한 곡 더 아무 노래나 일단 아무 노래 아무 노래 아무 노래나 틀어봐 아무 노래 아무 노래 아무 노래나 틀어봐 아무 노래 아무 노래 아무 노래나 틀어봐 아무 노래 아무 노래 아무 노래나 KOZYeah ha Yeah ha Yeah ha Yeah ha Yeah ha Yeah ha Yeah ha Yeah ha Yeah ha Yeah ha Yeah ha Yeah ha 모두 그에게 말해 또 왔네 새꺄 whut 죽지 않고 왔다 이렇게 새꺄 뭐 Snacky chan의 라인을 빌릴래 했어 예수처럼 이렇게 부활을 031 팔 안쪽의 tatt freaky woah 어젠 시장님이 만나쟤 motown 어수룩해 엄마 속에 걱정 한 톤만큼 쌓고 스물한살에 독립했던 얘는 여섯이 되었고 발견했지 우연히 5년 전의 노트 정말 스타 되고 싶어 그럴려면 가서 만나면 돼 악마 노트를 덮고 거울에 비춰진 남자를 보니 와 저 손목이 너무 부러워 저 금 daydate rollie 넘을걸 천백은 더 전국 사람들이 외치네 저 괴물체는 뭘까 Meteor 거대 Meteor 난 네게 처박힐 Meteor야 별빛이 내려오지 마구 내려오지 경고 경고 그래도 처박힐 Meteor야 motown의 1번 노랠 기억해 니들 뭐였지 뭐였나 음 음 i’m the man in the mirror 그러니 light me up 1절의 그 별이 2절의 그 별이 그래 모두 나였지 실화가 된 동화이지 힘들 때면 홀로 쓴 노래를 불러 환상들을 보던 성냥팔이 소년이였던 나날들이 365 24 730 24에 7 1095 아 그만 세자 1400이 되니 oh 그 애랑도 하고 돔페리뇽이 만든 숙취 땜에 넋을 놓은 나를 향해 몇천 명이 와 해 본 적은 없지만 때론 어떤 존재가 내 인생을 왔다 간 듯해 그냥 그런 느낌이 들지 상관없어 환상이던 현실이던지 hands up high 전국 사람들이 외치네 저 괴물체는 뭘까 Meteor 거대 Meteor 난 네게 처박힐 Meteor야 별빛이 내려오지 마구 내려오지 경고 경고 그래도 처박힐 Meteor야 영 영 영원히 약속해 영원하기로 어둠 가득한 저 뒤로 돌려보내지 말아요 제발 제발 영 영 영원히 난 영원할 거라 믿어 흥분으로 가득차 이 도시에 나 외칠 꺼야 드디어 내가 여 왔다어두운 불빛아래 촛불 하나 와인 잔에 담긴 약속하나 항상 너의 곁에서 널 지켜줄거야 날 믿어준 너였잖아 나 바라는 건 오직 하나 영원한 행복을 꿈꾸지만 화려하지 않아도 꿈같진 않아도 너만 있어주면 돼 걱정 마 I believe 언제나 I believe 이 순간을 잊지 않을게 내 품에 I believe 안긴 너의 미소가 영원히 빛을 잃어 가지 않게 Cause your love is so sweet You are my everything 첫날 밤에 단 꿈에 젖어 하는 말이 아냐 난 변하지 않아 오직 너만 바라볼거야 oh You’re light of my life You are the one in my life 내 모든걸 다 잃는대도 후회하지 않아 오직 너를 위한 변하지 않는 사랑으로 나 바라는 건 오직 하나 영원한 행복을 꿈꾸지만 화려하지 않아도 꿈같진 않아도 너만 있어주면 돼 약속해 I believe 힘들 땐 I believe 너의 그늘이 되어줄게 내품에 I believe 안긴 너의 미소가 영원히 빛을 잃어 가지 않게 Cause your love is so sweet You are my everything 첫날 밤에 단 꿈에 젖어 하는 말이 아냐 난 변하지 않아 오직 너만 바라볼거야 oh You’re light of my life You are the one in my life 내 모든걸 다 잃는대도 후회하지 않아 오직 너를 위한 변하지 않는 사랑으로 You’re light of my life You are the one in my life 내 모든걸 다 잃는대도 후회하지 않아 오직 너를 위한 변하지 않는 사랑으로 All I ever want is your love흔들리는 꽃들 속에서 네 샴푸향이 느껴진거야 스쳐지나간건가 뒤돌아보지만 그냥 사람들만 보이는거야 다와가는 집근처에서 괜히 핸드폰만 만지는거야 한번 연락해 볼까 용기내 보지만 그냥 내 마음만 아쉬운 거야 걷다가 보면 항상 이렇게 너를 바라만 보던 너를 기다린다고 말할까 지금 집앞에 계속 이렇게 너를 아쉬워 하다 너를 연락했다 할까 지나치는 꽃들 속에서 네 샴푸향만 보이는거야 스쳐지나간건가 뒤 돌아보지만 그냥 내 마음만 바빠진거야 걷다가 보면 항상 이렇게 너를 바라만 보던 너를 기다린다고 말할까 지금 집앞에 계속 이렇게 너를 아쉬워 하다 너를 연락했다 할까 어떤 계절이 너를 우연히라도 너를 마주치게 할까 난 이대로 아쉬워하다 너를 바라만 보던 너를 기다리면서 아무말 못하고 그리워만 할까 걷다가 보면 항상 이렇게 너를 바라만 보던 너를 생각한다고 말할까 지금 집앞에 기다리고 때론 지나치고 다시 기다리는 꽃이 피는 거리에 보고파라 이밤에 걷다가 보면 항상 이렇게 너를 아쉬워 하다 너를 기다린다고 말할까 지금 집앞에 계속 이렇게 너를 아쉬워 하다 너를 연락했다 할까So are you happy now Finally happy now are you 뭐 그대로야 난 다 잃어버린 것 같아 모든 게 맘대로 왔다가 인사도 없이 떠나 이대로는 무엇도 사랑하고 싶지 않아 다 해질 대로 해져버린 기억 속을 여행해 우리는 오렌지 태양 아래 그림자 없이 함께 춤을 춰 정해진 이별 따위는 없어 아름다웠던 그 기억에서 만나 Forever young 우우우 우우우우 우우우 우우우우 Forever we young 우우우 우우우우 이런 악몽이라면 영영 깨지 않을게 섬 그래 여긴 섬 서로가 만든 작은 섬 예 음 forever young 영원이란 말은 모래성 작별은 마치 재난문자 같지 그리움과 같이 맞이하는 아침 서로가 이 영겁을 지나 꼭 이 섬에서 다시 만나 지나듯 날 위로하던 누구의 말대로 고작 한 뼘짜리 추억을 잊는 게 참 쉽지 않아 시간이 지나도 여전히 날 붙드는 그곳에 우리는 오렌지 태양 아래 그림자 없이 함께 춤을 춰 정해진 안녕 따위는 없어 아름다웠던 그 기억에서 만나 우리는 서로를 베고 누워 슬프지 않은 이야기를 나눠 우울한 결말 따위는 없어 난 영원히 널 이 기억에서 만나 Forever young 우우우 우우우우 우우우 우우우우 Forever we young 우우우 우우우우‘뭐해‘라는 두 글자에 ‘네가 보고 싶어’ 나의 속마음을 담아 우 이모티콘 하나하나 속에 달라지는 내 미묘한 심리를 알까 우 아니 바쁘지 않아 nothing no no 잠들어 있지 않아 insomnia nia nia 지금 다른 사람과 함께이지 않아 응, 나도 너를 생각 중 우리의 네모 칸은 bloom 엄지손가락으로 장미꽃을 피워 향기에 취할 것 같아 우 오직 둘만의 비밀의 정원 I feel bloom I feel bloom I feel bloom 너에게 한 송이를 더 보내 밤샘 작업으로 업데이트 흥미로운 이 작품의 지은이 that’s me 우 어쩜 이 관계의 클라이맥스 2막으로 넘어가기엔 지금이 good timing 우 같은 맘인 걸 알아 realize la lize 말을 고르지 말아 just reply la la ly 조금 장난스러운 나의 은유에 네 해석이 궁금해 우리의 색은 gray and blue 엄지손가락으로 말풍선을 띄워 금세 터질 것 같아 우 호흡이 가빠져 어지러워 I feel blue. I feel blue. I feel blue. 너에게 가득히 채워 띄어쓰기없이보낼게사랑인것같애 백만송이장미꽃을, 나랑피워볼래 꽃잎의 색은 우리 마음 가는 대로 칠해 시들 때도 예쁘게 우리의 네모 칸은 bloom 엄지손가락으로 장미꽃을 피워 향기에 취할 것 같아 우 오직 둘만의 비밀의 정원 I feel bloom I feel bloom I feel bloom 너에게 한 송이를 더 보내오래되었어 그때 너의 웃음 너의 목소리 잊혀진거 같아 시간의 위로 그 말의 의미를 이젠 알아 아픈 니 얘기도 적당히 할 수 있어 그런데 이게 뭐랄까 난 난 술 한잔하면서 괜찮은 듯 얘기하며 널 털어냈는데 집으로 돌아오면서 한 번 더 떠오른 기억에 걸음을 멈춰 서서 이렇게 울고 있어 자연스럽게 발걸음을 돌려 나 바래다주던 익숙한 길을 가 밤이 깊어져서 아무것도 보이지 않아도 손을 흔들면서 인사하던 널 봤어 그런데 이게 뭐랄까 난 난 술 한잔하면서 괜찮은 듯 얘기하며 널 털어냈는데 집으로 돌아오면서 한 번 더 떠오른 기억에 걸음을 멈춰 서서 이렇게 울고 있어 아무도 없어서 참 다행이야 나 이렇게 편안히 너를 부를 수 있는 걸 외로운 위로겠지만 그래서 이젠 뭘 할까 난 난 널 생각했어도 괜찮은 듯 얘기하며 다 지워냈는데 집으로 돌아오면서 한 번 더 떠오른 추억에 걸음을 멈춰 서서 또다시 울고 있어새로운 시작은 늘 설레게 하지 모든 걸 이겨낼 것처럼 시간을 뒤쫓는 시계바늘처럼 앞질러 가고 싶어 하지 그어 놓은 선을 넘어 저마다 삶을 향해 때론 원망도 하겠지 그 선을 먼저 넘지 말라고 I can fly the sky Never gonna stay 내가 지쳐 쓰러질 때까진 어떤 이유도 어떤 변명도 지금 내겐 용기가 필요해 빛나지 않아도 내 꿈을 응원해 그 마지막을 가질 테니 부러진 것처럼 한 발로 뛰어도 난 나의 길을 갈 테니까 지금 나를 위한 약속 멈추지 않겠다고 또 하나를 앞지르면 곧 너의 뒤를 따라잡겠지 원하는 대로 다 가질 거야 그게 바로 내 꿈일 테니까 변한 건 없어 버티고 버텨 내 꿈은 더 단단해질 테니 다시 시작해 Ah ah ah ah ah Ah ah ah ah ah ah Ah ah ah ah ah Ah ah ah ah 다시는 나를 잃고 싶지 않아 내 전부를 걸었으니까 원하는 대로 다 가질 거야 그게 바로 내 꿈일 테니까 변한 건 없어 버티고 버텨 내 꿈은 더 단단해질 테니 다시 시작해 Ah ah ah ah ah Ah ah ah ah ah ah Ah ah ah ah ah Ah ah ah ah모든 게 궁금해 How’s your day Oh tell me 뭐가 널 행복하게 하는지 Oh text me Your every picture 내 머리맡에 두고 싶어 oh bae Come be my teacher 네 모든 걸 다 가르쳐줘 Your 1 your 2 Listen my my baby 나는 저 하늘을 높이 날고 있어 그때 니가 내게 줬던 두 날개로 이제 여긴 너무 높아 난 내 눈에 널 맞추고 싶어 Yeah you makin’ me a boy with luv Oh my my my oh my my my I've waited all my life 네 전부를 함께하고 싶어 Oh my my my oh my my my Looking for something right 이제 조금은 나 알겠어 I want something stronger Than a moment than a moment love I have waited longer For a boy with For a boy with luv 널 알게 된 이후 ya 내 삶은 온통 너 ya 사소한 게 사소하지 않게 만들어버린 너라는 별 하나부터 열까지 모든 게 특별하지 너의 관심사 걸음걸이 말투와 사소한 작은 습관들까지 다 말하지 너무 작던 내가 영웅이 된 거라고 Oh nah 난 말하지 운명 따윈 처음부터 내 게 아니었다고 Oh nah 세계의 평화 No way 거대한 질서 No way 그저 널 지킬 거야 난 Boy with luv Listen my my baby 나는 저 하늘을 높이 날고 있어 그때 니가 내게 줬던 두 날개로 이제 여긴 너무 높아 난 내 눈에 널 맞추고 싶어 Yeah you makin’ me a boy with luv Oh my my my oh my my my You got me high so fast 네 전부를 함께하고 싶어 Oh my my my oh my my my You got me fly so fast 이제 조금은 나 알겠어 Love is nothing stronger Than a boy with luv Love is nothing stronger Than a boy with luv 툭 까놓고 말할게 나도 모르게 힘이 들어가기도 했어 높아버린 sky 커져버린 hall 때론 도망치게 해달라며 기도했어 But 너의 상처는 나의 상처 깨달았을 때 나 다짐했던 걸 니가 준 이카루스의 날개로 태양이 아닌 너에게로 Let me fly Oh my my my oh my my my I've waited all my life 네 전부를 함께하고 싶어 Oh my my my oh my my my Looking for something right 이제 조금은 나 알겠어 I want something stronger Than a moment than a moment love Love is nothing stronger Than a boy with luvPsycho 널 어쩌면 좋을까 이런 맘은 또 첨이라 Up &amp; Down이 좀 심해 조절이 자꾸 잘 안돼 하나 확실한 건 I don’t play the game 우리 진짜 별나대 그냥 내가 너무 좋아해 넌 그걸 너무 잘 알고 날 쥐락펴락해 나도 마찬가지인걸 우린 참 별나고 이상한 사이야 서로를 부서지게 (부서지게) 그리곤 또 껴안아 (그리곤 또 껴안아) You got me feeling like a psycho psycho 우릴 보고 말해 자꾸 자꾸 다시 안 볼 듯 싸우다가도 붙어 다니니 말야 이해가 안 간대 웃기지도 않대 맞아 Psycho psycho 서로 좋아 죽는 바보 바보 너 없인 어지럽고 슬퍼져 기운도 막 없어요 둘이 잘 만났대 Hey now we’ll be ok Hey trouble 경고 따윈 없이 오는 너 I’m original visual 우린 원래 이랬어 Yeah 두렵지는 않아 (흥미로울 뿐) It’s hot Let me just hop 어떻게 널 다룰까 Ooh 어쩔 줄을 몰라 너를 달래고 매섭게 발로 차도 가끔 내게 미소 짓는 널 어떻게 놓겠어 Ooh 우린 아름답고 참 슬픈 사이야 서로를 빛나게 해 (Tell me now) 마치 달과 강처럼 그리곤 또 껴안아 You got me feeling like a psycho psycho 우릴 보고 말해 자꾸 자꾸 다시 안 볼 듯 싸우다가도 붙어 다니니 말야 이해가 안 간대 웃기지도 않대 맞아 Psycho psycho 서로 좋아 죽는 바보 바보 너 없인 어지럽고 슬퍼져 기운도 막 없어요 둘이 잘 만났대 Hey now we’ll be ok Don’t look back 그렇게 우리답게 가보자 난 온몸으로 널 느끼고 있어 Everything will be ok (You got me feeling like a psycho) Like a psycho psycho 우릴 보고 말해 자꾸 자꾸 다시 안 볼 듯 싸우다가도 붙어 다니니 말야 둘이 잘 만났대 Hey now we’ll be ok Hey now we’ll be ok Hey now we’ll be ok Hey now we’ll be ok Hey now we’ll be ok It’s alright It’s alright Hey now we’ll be ok Hey now we’ll be ok Hey now we’ll be ok Hey now we’ll be ok It’s alright It’s alright 우린 좀 이상해일부러 몇 발자국 물러나 내가 없이 혼자 걷는 널 바라본다 옆자리 허전한 너의 풍경 흑백 거리 가운데 넌 뒤돌아본다 그때 알게 되었어 난 널 떠날 수 없단 걸 우리 사이에 그 어떤 힘든 일도 이별보단 버틸 수 있는 것들이었죠 어떻게 이별까지 사랑하겠어 널 사랑하는 거지 사랑이라는 이유로 서로를 포기하고 찢어질 것같이 아파할 수 없어 난 두세 번 더 길을 돌아갈까 적막 짙은 도로 위에 걸음을 포갠다 아무 말 없는 대화 나누며 주마등이 길을 비춘 먼 곳을 본다 그때 알게 되었어 난 더 갈 수 없단 걸 한 발 한 발 이별에 가까워질수록 너와 맞잡은 손이 사라지는 것 같죠 어떻게 이별까지 사랑하겠어 널 사랑하는 거지 사랑이라는 이유로 서로를 포기하고 찢어질 것같이 아파할 수 없어 난 어떻게 내가 어떻게 너를 이후에 우리 바다처럼 깊은 사랑이 다 마를 때까지 기다리는 게 이별일 텐데 어떻게 내가 어떻게 너를 이후에 우리 바다처럼 깊은 사랑이 다 마를 때까지 기다리는 게 이별일 텐데Cos ah ah I’m in the stars tonight So watch me bring the fire and set the night alight Shoes on get up in the morn Cup of milk let’s rock and roll King Kong kick the drum rolling on like a rolling stone Sing song when I’m walking home Jump up to the top LeBron Ding dong call me on my phone Ice tea and a game of ping pong This is getting heavy Can you hear the bass boom I’m ready Life is sweet as honey Yeah this beat cha ching like money Disco overload I’m into that I’m good to go I'm diamond you know I glow up Hey so let’s go Cos ah ah I’m in the stars tonight So watch me bring the fire and set the night alight Shining through the city with a little funk and soul So I’mma light it up like dynamite woah Bring a friend join the crowd Whoever wanna come along Word up talk the talk just move like we off the wall Day or night the sky’s alight So we dance to the break of dawn Ladies and gentlemen I got the medicine so you should keep ya eyes on the ball huh This is getting heavy Can you hear the bass boom I’m ready Life is sweet as honey Yeah this beat cha ching like money Disco overload I’m into that I’m good to go I'm diamond you know I glow up Let’s go Cos ah ah I’m in the stars tonight So watch me bring the fire and set the night alight Shining through the city with a little funk and soul So I’mma light it up like dynamite woah Dynnnnnanana life is dynamite Dynnnnnanana life is dynamite Shining through the city with a little funk and soul So I’mma light it up like dynamite woah Dynnnnnanana eh Dynnnnnanana eh Dynnnnnanana eh Light it up like dynamite Dynnnnnanana eh Dynnnnnanana eh Dynnnnnanana eh Light it up like dynamite Cos ah ah I’m in the stars tonight So watch me bring the fire and set the night alight Shining through the city with a little funk and soul So I’mma light it up like dynamite Cos ah ah I’m in the stars tonight So watch me bring the fire and set the night alight Shining through the city with a little funk and soul So I’mma light it up like dynamite woah Dynnnnnanana life is dynamite Dynnnnnanana life is dynamite Shining through the city with a little funk and soul So I’mma light it up like dynamite woah당신에게 드릴 게 없어서 나의 마음을 드려요 그대에게 받은 게 많아서 표현을 다 할 수가 없어요 나지막한 인사에 수많은 내 마음 고이 담아 그대에게로 건네면 내 마음 조금 알까요 어떤 이유로 만나 나와 사랑을 하고 어떤 이유로 내게 와 함께 있어준 당신 부디 행복한 날도 살다 지치는 날도 모두 그대의 곁에 내가 있어줄 수 있길 어떤 소식보다 더 애타게 기다려지는 그대 엇갈리지 않게 여기 기다릴게요 눌러 적은 편지에 수많은 그리움 고이 담아 그대 내게로 올 때면 그 손에 쥐어줄게요 어떤 이유로 만나 나와 사랑을 하고 어떤 이유로 내게 와 함께 있어준 당신 부디 행복한 날도 살다 지치는 날도 모두 그대의 곁에 내가 있어줄 수 있길 네 번의 모든 계절들과 열두 달의 시간을 너와 숨이 차게 매일 사랑하며 함께 할게 어떤 이유로 만나 우리 사랑을 했던 지금 이 순간처럼 매일 바라보며 애써주기를 부디 행복한 날도 살다 지치는 날도 모두 그대의 곁에 내가 있어줄 수 있길 부디눈이 부시게 웃던 널 기억해 이제는 다시 볼 수 없게 됐지만 끝내 붙잡았던 기억들만 이 겨울을 지나간다 나지막이 들리지 않게 전하는 기다릴게 이 한마디 대신 피고 진다 뜨겁게 시린 우리 사랑 보내지 못한 계절처럼 피어나 단 한 번도 겨울이 없었던 것처럼 피어나 언제라도 사랑스러운 그대로 추억은 지나버린 계절에 그대로 놓아두고서 그래 처음처럼 가슴속에 켜켜이 쌓은 그리움 이 눈물로 흘려내면 그뿐 이 눈물이 그댈 피워낼 수 있다면 그걸로 나는 괜찮은걸 피어나 단 한 번도 겨울이 없었던 것처럼 피어나 언제라도 사랑스러운 그대로 스치듯 그대 곁에 맴도는 이 작은 한마디조차 여기 남겨두고 아픈 기억은 여기 남기고 피어나 우리 처음 만났던 그때 그대처럼 피어나 사랑했던 그대 모습 그대로 추억은 지나버린 계절에 그대로 놓아두고서 마치 처음처럼보란 듯이 무너졌어 바닥을 뚫고 저 지하까지 옷 끝자락 잡겠다고 저 높이 두 손을 뻗어봐도 다시 캄캄한 이곳에 light up the sky 네 두 눈을 보며 I’ll kiss you goodbye 실컷 비웃어라 꼴좋으니까 이제 너희 하나 둘 셋 Ha how you like that You gon’ like that that that that that How you like that How you like that that that that that Now look at you now look at me Look at you now look at me Look at you now look at me How you like that Now look at you now look at me Look at you now look at me Look at you now look at me How you like that Your girl need it all and that’s a hundred 백 개 중에 백 내 몫을 원해 Karma come and get some 딱하지만 어쩔 수 없잖아 What’s up, I’m right back 방아쇠를 cock back Plain Jane get hijacked Don’t like me Then tell me how you like that 더 캄캄한 이곳에 shine like the stars 그 미소를 띠며 I’ll kiss you goodbye 실컷 비웃어라 꼴좋으니까 이제 너희 하나 둘 셋 Ha how you like that You gon’ like that that that that that How you like that How you like that that that that that Now look at you now look at me Look at you now look at me Look at you now look at me How you like that Now look at you now look at me Look at you now look at me Look at you now look at me How you like that 날개 잃은 채로 추락했던 날 어두운 나날 속에 갇혀 있던 날 그때쯤에 넌 날 끝내야 했어 Look up in the sky it’s a bird it’s a plane Bring out your boss bish BLACKPINK How you like that You gon’ like that going nonstop 말도 안 되잖아 그치 yayayaya 우린 서로가 모르는 게 없는 사인 걸 이토록 빤히 nanananana like nanananana 우리 사이 비밀 따위 있을 리 없는 걸 다 봤지 우린 hi hi weak body like them burning and burn but 쉿 요즘 오늘 또 내일 매일 다른 아는 옷 이렇게 달라 보인다고 hoo 흑역사까지 전부 알고 있는 널 yeah 절대 그럴 리는 없어 난 never ever 그래야만 해 무인도에 어느 날 떨어진 거야 둘만 남게 됐다면 넌 어떨 것 같아 생각만 해도 무섭다 얼굴을 찌푸렸지만 너에겐 얘기 못 해 절대로 살짝 설렜어 난 oh nanananana 살짝 설렜어 난 oh nanananana 그럴 일 없지만 살짝 설렜어 난 nonstop nonstop nonstop nonstop nonstop 그럴 일 없지만 살짝 설렜어 난 요즘 나 너무 외로워 좀 이상해진 것 같아 너를 보면서 심장이 뛴 건 back it up pack it up 비켜 서 있어 두근거렸던 게 문제야 아냐 그게 대체 왜 죄야 선을 넘은 거야 fz 레이더 오르락내리락 여긴 friend zone 무인도에 어느 날 떨어진 거야 둘만 남게 됐다면 넌 어떨 것 같아 생각만 해도 무섭다 얼굴을 찌푸렸지만 너에겐 얘기 못 해 절대로 살짝 설렜어 난 oh nanananana 살짝 설렜어 난 oh nanananana 그럴 일 없지만 살짝 설렜어 난 I have to go to the bed by night 졸음이 오는 걸까 time 필요하지 않지 아마 머릿속은 이미 지름길이잖아 네가 원한다면 내가 뒤로 두 칸 Did you wanna twin spot nop 한 칸 유감인 척 하지 마 설레는 거 맞잖아 꽤나 혼란스러워 이러는 나도 누구보다 더 이럴 땐 너를 찾아갔지만 이 고민만큼은 네게 말할 수 없어 언제부턴가 널 보면 살짝 설렜어 난 살짝 설렜어 난 oh nanananana 살짝 설렜어 난 oh nanananana 그럴 일 없지만 살짝 설렜어 난 nonstop nonstop nonstop nonstop nonstop 그럴 일 없지만 살짝 설렜어 난 nonstop nonstop nonstop nonstop nonstop 넌 알 리 없지만 살짝 설렜어 난I can't understand what people are sayin 어느 장단에 맞춰야 될지 한 발자국 떼면 한 발자국 커지는 shadow 잠에서 눈을 뜬 여긴 또 어디 어쩜 서울 또 New York or Paris 일어나니 휘청이는 몸 Look at my feet, look down 날 닮은 그림자 흔들리는 건 이놈인가 아니면 내 작은 발끝인가 두렵잖을 리 없잖아 다 괜찮을 리 없잖아 그래도 I know 서툴게 I flow 저 까만 바람과 함께 날아 Hey na na na 미치지 않으려면 미쳐야 해 Hey na na na 나를 다 던져 이 두 쪽 세상에 Hey na na na Can’t hold me down cuz you know I’m a fighter 제 발로 들어온 아름다운 감옥 Find me and I'm gonna live with ya (Eh oh) 가져와 bring the pain oh yeah (Eh oh) 올라타봐 bring the pain oh yeah Rain be pourin Sky keep fallin Everyday oh na na na (Eh oh) 가져와 bring the pain oh yeah Bring the pain 모두 내 피와 살이 되겠지 Bring the pain No fear, 방법을 알겠으니 작은 것에 breathe 그건 어둠 속 내 산소와 빛 내가 나이게 하는 것들의 힘 넘어져도 다시 일어나 scream 넘어져도 다시 일어나 scream 언제나 우린 그랬으니 설령 내 무릎이 땅에 닿을지언정 파묻히지 않는 이상 그저 그런 해프닝쯤 될 거란 걸 Win no matter what Win no matter what Win no matter what 네가 뭐라던 누가 뭐라던 I don't give a uhh I don't give a uhh I don't give a uhh Hey na na na 미치지 않으려면 미쳐야 해 Hey na na na 나를 다 던져 이 두 쪽 세상에 Hey na na na Can’t hold me down cuz you know I’m a fighter 제 발로 들어온 아름다운 감옥 Find me and I'm gonna live with ya (Eh oh) 가져와 bring the pain oh yeah (Eh oh) 올라타봐 bring the pain oh yeah Rain be pourin' Sky keep fallin' Everyday oh na na na (Eh oh) 가져와 bring the pain oh yeah 나의 고통이 있는 곳에 내가 숨 쉬게 하소서 My everythin’ My blood and tears Got no fears I'm singin’ ohhhhh Oh I’m takin’ over You should know yeah Can’t hold me down cuz you know I’m a fighter 깜깜한 심연 속 기꺼이 잠겨 Find me and I’m gonna bleed with ya (Eh oh) 가져와 bring the pain oh yeah (Eh oh) 올라타봐 bring the pain oh yeah Rain be pourin Sky keep fallin Everyday oh na na na (Eh oh) Find me and I’m gonna bleed with ya (Eh oh) 가져와 bring the pain oh yeah (Eh oh) 올라타봐 bring the pain oh yeah All that I know is just goin on on on on (Eh oh)별빛이 내린 밤 그 풍경 속 너와 나 날 새롭게 하는 따뜻하게 만드는 니 눈빛 니 미소 영원히 담아둘게 너로 가득한 맘 널 닮아가는 나 날 위한 선물 꿈보다 더 아름다운 서로의 품에서 끝 없는 밤을 걷자 나의 모든 날들을 다 주고싶어 내 이 맘을 모두 전하고 싶어 잠들지 못한 푸른 바람들 이렇게 밝게 이 밤을 비춰 너와 작은 일상을 함께 하는게 내 가장 큰 기쁨인걸 넌 알까 내 세상 속에 넌 빛이 되어 지금 모습 그대로 내 곁에만 행복이 짙은 날 어둠이 없는 밤 같은 맘 속에 같은 꿈이 피어난 건 우리의 정해진 운명이 맞닿은거야 나의 모든 날들을 다 주고싶어 내 이 맘을 모두 전하고 싶어 잠들지 못한 푸른 바람들 이렇게 밝게 이 밤을 비춰 너와 작은 일상을 함께 하는게 내 가장 큰 기쁨인걸 넌 알까 내 세상 속에 넌 빛이 되어 지금 모습 그대로 내 곁에만 내게 온 너란 빛이 눈 부셔도 네 앞에서 한 순간도 눈 감지 않아 다가올 시간도 계절의 바람도 널 데려가지 못하게 내가 더 좋은 사람이 되고 싶어 더 아름답게 널 안을 수 있게 잠들지 못한 잠들 수 없는 바람들이 널 부르고 있어 언제까지나 너와 함께 할거야 내 마지막 숨결도 너일거야 내 세상 속에 넌 빛이 되어 지금 모습 그대로 내 곁에만 이렇게 밝게 이 밤을 비춰너는 나의 다운타운 베이비야 너의 눈은 밤하늘에 별이야 매일마다 꾸고 싶은 꿈이야 Baby without you I can’t do this anymore 너는 나의 다운타운 베이비야 너의 눈은 밤하늘에 별이야 매일마다 꾸고 싶은 꿈이야 Baby without you I can’t do this anymore 628 너 집 번호 네 집 앞이니까 나와 Let’s Roll 시간 아까우니 잡아 나의 두 손 I don’t wanna let go 핑크머리색에 피어싱은 세 개 너는 좋아했지 나의 팔베개 우린 서로 아파하는 짓도 나빠 하나밖에 없는 Downtown Baby 너는 나의 다운타운 베이비야 너의 눈은 밤하늘에 별이야 매일마다 꾸고 싶은 꿈이야 Baby without you I can’t do this anymore 너는 나의 다운타운 베이비야 너의 눈은 밤하늘에 별이야 매일마다 꾸고 싶은 꿈이야 Baby without you I can’t do this anymore 영화 보고 Let’s drink all night long 담배 한 대 피며 Talk all night long 힘든 일이 있을 땐 내게 와 일로 너의 얇은 팔로 감싸 나를 사이로 지금 아프더라도 It’s alright 시간은 다 지나가 It’s alright 항상 그랬지 넌 손발이 차가워 그래서 내게 말했지 빨리 안아줘 I’ll make you Rich 조금만 기다려 네가 없는 날에는 Raining I’ll do anything 조금만 기다려 맑았던 하늘도 다시 보니 Gray 술도 한잔 못 했던 네가 날 만나 와인을 사와 술도 한잔 못 했던 네가 날 만나 마음이 아파 너는 나의 다운타운 베이비야 너의 눈은 밤하늘에 별이야 매일마다 꾸고 싶은 꿈이야 Baby without you I can’t do this anymore 너는 나의 다운타운 베이비야 너의 눈은 밤하늘에 별이야 매일마다 꾸고 싶은 꿈이야 Baby without you I can’t do this anymore It’s okay baby 항상 같은 자리에서 있을게 It’s okay baby 널 위해 내 핸드폰을 켜 놓을게 It’s okay baby 항상 같은 자리에서 있을게 It’s okay baby 널 위해 내 핸드폰을 켜 놓을게 너는 나의 다운타운 베이비야 너의 눈은 밤하늘에 별이야 매일마다 꾸고 싶은 꿈이야 Baby without you I can’t do this anymore 너는 나의 다운타운 베이비야 너의 눈은 밤하늘에 별이야 매일마다 꾸고 싶은 꿈이야 Baby without you I can’t do this anymore욕을 하도 먹어 체했어 하도 서러워도 어쩌겠어 I do 모두들 미워하느라 애썼네 날 무너뜨리면 밥이 되나 외로워서 어떡해 미움마저 삼켰어 화낼 힘도 없어 여유도 없고 뭐 그리 아니꼬와 가던 길 그냥 가 왜들 그래 서럽게 마리아 마리아 널 위한 말이야 빛나는 밤이야 널 괴롭히지마 오 마리아 널 위한 말이야 뭐 하러 아등바등해 이미 아름다운데 (yeah) Oh na ah ah (yeah) 널 위한 말이야 (yeah) Oh na ah ah (yeah) 아름다워 마리아 No frame no fake 지끈 지끈거려 하늘은 하늘색 사는 게 다 뻔해 내가 갈 길은 내가 바꾸지 뭐 위기는 기회로 다 바꾸지 뭐 굳이 우는 꼴이 보고 싶다면 옜다 눈물 외로워서 어떡해 미움마저 삼켰어 화낼 힘도 없어 이유도 없고 마음을 더럽히지마 타락하기엔 아직 일러 마리아 마리아 널 위한 말이야 빛나는 밤이야 널 괴롭히지마 오 마리아 널 위한 말이야 뭐 하러 아등바등해 이미 아름다운데 (yeah) Oh na ah ah (yeah) 널 위한 말이야 (yeah) Oh na ah ah (yeah) 아름다워 마리아 마리아 마리아 널 위한 말이야 빛나는 밤이야 널 괴롭히지마 오 마리아 널 위한 말이야 뭐 하러 아등바등해 이미 아름다운데 (yeah) Oh na ah ah (yeah) 널 위한 말이야 (yeah) 널 위한 말이야\n"
          ]
        }
      ]
    },
    {
      "cell_type": "markdown",
      "source": [
        "## 각 시기 별 가사 수 비교"
      ],
      "metadata": {
        "id": "WbX4L6jzZCX1"
      }
    },
    {
      "cell_type": "markdown",
      "source": [
        "70"
      ],
      "metadata": {
        "id": "I9wgKZTMcInX"
      }
    },
    {
      "cell_type": "code",
      "source": [
        "import re\n",
        "\n",
        "# 새로운 리스트\n",
        "\n",
        "list_par = []\n",
        "\n",
        "# 텍스트를 가지고 있는 리스트\n",
        "\n",
        "for i in song70:\n",
        "\n",
        "    # 영어,숫자 및 공백 제거.\n",
        "\n",
        "    text = re.sub('[^a-zA-Z0-9]',' ',i).strip()\n",
        "\n",
        "    # 빈 리스트는 제거.\n",
        "\n",
        "    if(text != ''):\n",
        "\n",
        "        list_par.append(text)"
      ],
      "metadata": {
        "id": "_43pRrkDnY6-"
      },
      "execution_count": null,
      "outputs": []
    },
    {
      "cell_type": "code",
      "source": [
        "df70['lyrics']=df70['lyrics'].str.replace(pat=r'[ㄱ-ㅣ가-힣]+', repl= r'', regex=True)"
      ],
      "metadata": {
        "id": "26CXNBuhqu_E"
      },
      "execution_count": null,
      "outputs": []
    },
    {
      "cell_type": "code",
      "source": [
        "df70['lyrics']"
      ],
      "metadata": {
        "colab": {
          "base_uri": "https://localhost:8080/"
        },
        "id": "2Yduw-KToo0m",
        "outputId": "b9fa3be9-f799-4178-db73-c1510241dfa0"
      },
      "execution_count": null,
      "outputs": [
        {
          "output_type": "execute_result",
          "data": {
            "text/plain": [
              "0                                                   ...\n",
              "1                                                   ...\n",
              "2                                                      \n",
              "3                                                   ...\n",
              "4                                                      \n",
              "                            ...                        \n",
              "91                                                     \n",
              "92                                                  ...\n",
              "93                                                  ...\n",
              "94                                                     \n",
              "95                                                  ...\n",
              "Name: lyrics, Length: 96, dtype: object"
            ]
          },
          "metadata": {},
          "execution_count": 24
        }
      ]
    },
    {
      "cell_type": "markdown",
      "source": [
        "80"
      ],
      "metadata": {
        "id": "qDLeFeLfqkkL"
      }
    },
    {
      "cell_type": "code",
      "source": [
        "song80 = df80['lyrics']\n",
        "\n",
        "def count_character(song80):\n",
        " \n",
        "    count = 0\n",
        "    \n",
        "    for i in song80 :\n",
        "    \n",
        "        count += len(i)\n",
        " \n",
        "    return  count"
      ],
      "metadata": {
        "id": "rKmGA6X6qWtr"
      },
      "execution_count": null,
      "outputs": []
    },
    {
      "cell_type": "code",
      "source": [
        "print(\"공백을 제외한 문자수 : \",count_character(song80))"
      ],
      "metadata": {
        "colab": {
          "base_uri": "https://localhost:8080/"
        },
        "id": "OlZuO-89qWvZ",
        "outputId": "1ae76be6-b6cb-431c-a686-930166bb661e"
      },
      "execution_count": null,
      "outputs": [
        {
          "output_type": "stream",
          "name": "stdout",
          "text": [
            "공백을 제외한 문자수 :  31781\n"
          ]
        }
      ]
    },
    {
      "cell_type": "code",
      "source": [
        "df80['lyrics']=df80['lyrics'].str.replace(pat=r'[ㄱ-ㅣ가-힣]+', repl= r'', regex=True)\n",
        "df80['lyrics']"
      ],
      "metadata": {
        "colab": {
          "base_uri": "https://localhost:8080/"
        },
        "id": "NprKvXTiqWxK",
        "outputId": "e8b29947-5179-44e5-9ff4-7cd99e38dd23"
      },
      "execution_count": null,
      "outputs": [
        {
          "output_type": "stream",
          "name": "stderr",
          "text": [
            "/usr/local/lib/python3.7/dist-packages/ipykernel_launcher.py:1: SettingWithCopyWarning: \n",
            "A value is trying to be set on a copy of a slice from a DataFrame.\n",
            "Try using .loc[row_indexer,col_indexer] = value instead\n",
            "\n",
            "See the caveats in the documentation: https://pandas.pydata.org/pandas-docs/stable/user_guide/indexing.html#returning-a-view-versus-a-copy\n",
            "  \"\"\"Entry point for launching an IPython kernel.\n"
          ]
        },
        {
          "output_type": "execute_result",
          "data": {
            "text/plain": [
              "96                                                   ...\n",
              "97                                                   ...\n",
              "98                                                   ...\n",
              "99                                                   ...\n",
              "100                                                  ...\n",
              "                             ...                        \n",
              "191                                                  ...\n",
              "192                                                  ...\n",
              "193                                                  ...\n",
              "194                                                  ...\n",
              "195    J   J         J   J         J      J      j   ...\n",
              "Name: lyrics, Length: 100, dtype: object"
            ]
          },
          "metadata": {},
          "execution_count": 33
        }
      ]
    },
    {
      "cell_type": "code",
      "source": [
        "song80 = df80['lyrics']\n",
        "\n",
        "def count_character(song80):\n",
        " \n",
        "    count = 0\n",
        "    \n",
        "    for i in song80 :\n",
        "    \n",
        "        count += len(i)\n",
        " \n",
        "    return  count\n",
        "\n",
        "\n",
        "\n",
        "print(\"공백을 제외한 문자수 : \",count_character(song80))"
      ],
      "metadata": {
        "colab": {
          "base_uri": "https://localhost:8080/"
        },
        "id": "ogsUyHrRq8AH",
        "outputId": "069183b0-0120-47d1-8fcd-b53fd17f73fb"
      },
      "execution_count": null,
      "outputs": [
        {
          "output_type": "stream",
          "name": "stdout",
          "text": [
            "공백을 제외한 문자수 :  8619\n"
          ]
        }
      ]
    },
    {
      "cell_type": "markdown",
      "source": [
        "90"
      ],
      "metadata": {
        "id": "JoUUsT5erbfp"
      }
    },
    {
      "cell_type": "code",
      "source": [
        "song90 = df90['lyrics']\n",
        "\n",
        "def count_character(song90):\n",
        " \n",
        "    count = 0\n",
        "    \n",
        "    for i in song90 :\n",
        "    \n",
        "        count += len(i)\n",
        " \n",
        "    return  count\n",
        "\n",
        "\n",
        "\n",
        "print(\"공백을 제외한 문자수 : \",count_character(song90))"
      ],
      "metadata": {
        "colab": {
          "base_uri": "https://localhost:8080/"
        },
        "id": "U0RmxoaPqWzF",
        "outputId": "3e2b8b4a-e7d1-4d1c-f980-8ca871092b76"
      },
      "execution_count": null,
      "outputs": [
        {
          "output_type": "stream",
          "name": "stdout",
          "text": [
            "공백을 제외한 문자수 :  41052\n"
          ]
        }
      ]
    },
    {
      "cell_type": "code",
      "source": [
        "df90['lyrics']=df90['lyrics'].str.replace(pat=r'[ㄱ-ㅣ가-힣]+', repl= r'', regex=True)\n",
        "df90['lyrics']"
      ],
      "metadata": {
        "colab": {
          "base_uri": "https://localhost:8080/"
        },
        "id": "S959lZ6VrgM0",
        "outputId": "5fd7a35c-69bf-42fe-ab1a-57715d56df65"
      },
      "execution_count": null,
      "outputs": [
        {
          "output_type": "stream",
          "name": "stderr",
          "text": [
            "/usr/local/lib/python3.7/dist-packages/ipykernel_launcher.py:1: SettingWithCopyWarning: \n",
            "A value is trying to be set on a copy of a slice from a DataFrame.\n",
            "Try using .loc[row_indexer,col_indexer] = value instead\n",
            "\n",
            "See the caveats in the documentation: https://pandas.pydata.org/pandas-docs/stable/user_guide/indexing.html#returning-a-view-versus-a-copy\n",
            "  \"\"\"Entry point for launching an IPython kernel.\n"
          ]
        },
        {
          "output_type": "execute_result",
          "data": {
            "text/plain": [
              "196                                                  ...\n",
              "197                                                  ...\n",
              "198                                                  ...\n",
              "199                                                  ...\n",
              "200                                                  ...\n",
              "                             ...                        \n",
              "291                                                  ...\n",
              "292                                                  ...\n",
              "293                                                  ...\n",
              "294                                                  ...\n",
              "295                                                  ...\n",
              "Name: lyrics, Length: 100, dtype: object"
            ]
          },
          "metadata": {},
          "execution_count": 37
        }
      ]
    },
    {
      "cell_type": "code",
      "source": [
        "song90 = df90['lyrics']\n",
        "\n",
        "def count_character(song90):\n",
        " \n",
        "    count = 0\n",
        "    \n",
        "    for i in song90 :\n",
        "    \n",
        "        count += len(i)\n",
        " \n",
        "    return  count\n",
        "\n",
        "\n",
        "\n",
        "print(\"공백을 제외한 문자수 : \",count_character(song90))"
      ],
      "metadata": {
        "colab": {
          "base_uri": "https://localhost:8080/"
        },
        "id": "AG7x4PR-rl1Q",
        "outputId": "8c618560-f41d-4429-fff7-03de5d4ba794"
      },
      "execution_count": null,
      "outputs": [
        {
          "output_type": "stream",
          "name": "stdout",
          "text": [
            "공백을 제외한 문자수 :  11839\n"
          ]
        }
      ]
    },
    {
      "cell_type": "markdown",
      "source": [
        "00"
      ],
      "metadata": {
        "id": "UB8VOCNOrtN5"
      }
    },
    {
      "cell_type": "code",
      "source": [
        "song00 = df00['lyrics']\n",
        "\n",
        "def count_character(song00):\n",
        " \n",
        "    count = 0\n",
        "    \n",
        "    for i in song00 :\n",
        "    \n",
        "        count += len(i)\n",
        " \n",
        "    return  count\n",
        "\n",
        "\n",
        "\n",
        "print(\"공백을 제외한 문자수 : \",count_character(song00))"
      ],
      "metadata": {
        "colab": {
          "base_uri": "https://localhost:8080/"
        },
        "id": "yStjAJpWrtv3",
        "outputId": "a11ce6b9-3118-4ce8-d373-7390daa96846"
      },
      "execution_count": null,
      "outputs": [
        {
          "output_type": "stream",
          "name": "stdout",
          "text": [
            "공백을 제외한 문자수 :  84687\n"
          ]
        }
      ]
    },
    {
      "cell_type": "code",
      "source": [
        "df00['lyrics']=df00['lyrics'].str.replace(pat=r'[ㄱ-ㅣ가-힣]+', repl= r'', regex=True)\n",
        "df00['lyrics']"
      ],
      "metadata": {
        "colab": {
          "base_uri": "https://localhost:8080/"
        },
        "id": "FZeyEznfrt__",
        "outputId": "209ac3f8-a110-4149-dd59-3d229eab5a86"
      },
      "execution_count": null,
      "outputs": [
        {
          "output_type": "stream",
          "name": "stderr",
          "text": [
            "/usr/local/lib/python3.7/dist-packages/ipykernel_launcher.py:1: SettingWithCopyWarning: \n",
            "A value is trying to be set on a copy of a slice from a DataFrame.\n",
            "Try using .loc[row_indexer,col_indexer] = value instead\n",
            "\n",
            "See the caveats in the documentation: https://pandas.pydata.org/pandas-docs/stable/user_guide/indexing.html#returning-a-view-versus-a-copy\n",
            "  \"\"\"Entry point for launching an IPython kernel.\n"
          ]
        },
        {
          "output_type": "execute_result",
          "data": {
            "text/plain": [
              "296                                                  ...\n",
              "297          BOUNCE with me BOUNCE with me BOUNCE wit...\n",
              "298                                                  ...\n",
              "299                                                  ...\n",
              "300                                                  ...\n",
              "                             ...                        \n",
              "431                                                  ...\n",
              "432                                   My love        ...\n",
              "433                                                  ...\n",
              "434    Yes Turtles Forth album New mind New song     ...\n",
              "435                                                  ...\n",
              "Name: lyrics, Length: 140, dtype: object"
            ]
          },
          "metadata": {},
          "execution_count": 40
        }
      ]
    },
    {
      "cell_type": "code",
      "source": [
        "song00 = df00['lyrics']\n",
        "\n",
        "def count_character(song00):\n",
        " \n",
        "    count = 0\n",
        "    \n",
        "    for i in song00 :\n",
        "    \n",
        "        count += len(i)\n",
        " \n",
        "    return  count\n",
        "\n",
        "\n",
        "\n",
        "print(\"공백을 제외한 문자수 : \",count_character(song00))"
      ],
      "metadata": {
        "colab": {
          "base_uri": "https://localhost:8080/"
        },
        "id": "ESocLUbtruCB",
        "outputId": "98c5e967-c812-4bc9-f14a-aa13532872df"
      },
      "execution_count": null,
      "outputs": [
        {
          "output_type": "stream",
          "name": "stdout",
          "text": [
            "공백을 제외한 문자수 :  31693\n"
          ]
        }
      ]
    },
    {
      "cell_type": "markdown",
      "source": [
        "07~"
      ],
      "metadata": {
        "id": "oxMu_-h9r-BC"
      }
    },
    {
      "cell_type": "code",
      "source": [
        "song07 = df07['lyrics']\n",
        "\n",
        "def count_character(song07):\n",
        " \n",
        "    count = 0\n",
        "    \n",
        "    for i in song07 :\n",
        "    \n",
        "        count += len(i)\n",
        " \n",
        "    return  count\n",
        "\n",
        "\n",
        "\n",
        "print(\"공백을 제외한 문자수 : \",count_character(song07))"
      ],
      "metadata": {
        "colab": {
          "base_uri": "https://localhost:8080/"
        },
        "id": "Koa2giD3sBeG",
        "outputId": "dfbff664-e34c-49d4-f21d-754f0fc32718"
      },
      "execution_count": null,
      "outputs": [
        {
          "output_type": "stream",
          "name": "stdout",
          "text": [
            "공백을 제외한 문자수 :  107424\n"
          ]
        }
      ]
    },
    {
      "cell_type": "code",
      "source": [
        "df07['lyrics']=df07['lyrics'].str.replace(pat=r'[ㄱ-ㅣ가-힣]+', repl= r'', regex=True)\n",
        "df07['lyrics']"
      ],
      "metadata": {
        "colab": {
          "base_uri": "https://localhost:8080/"
        },
        "id": "bduWrFE4sBgb",
        "outputId": "db0eb11c-76ef-42e3-c75c-09f924a482a1"
      },
      "execution_count": null,
      "outputs": [
        {
          "output_type": "stream",
          "name": "stderr",
          "text": [
            "/usr/local/lib/python3.7/dist-packages/ipykernel_launcher.py:1: SettingWithCopyWarning: \n",
            "A value is trying to be set on a copy of a slice from a DataFrame.\n",
            "Try using .loc[row_indexer,col_indexer] = value instead\n",
            "\n",
            "See the caveats in the documentation: https://pandas.pydata.org/pandas-docs/stable/user_guide/indexing.html#returning-a-view-versus-a-copy\n",
            "  \"\"\"Entry point for launching an IPython kernel.\n"
          ]
        },
        {
          "output_type": "execute_result",
          "data": {
            "text/plain": [
              "436                       .  .                 ..   ....\n",
              "437                           Do It      Take It     ...\n",
              "438                                                  ...\n",
              "439                                                  ...\n",
              "440     12      2        I can't stop Love Love Love ...\n",
              "                             ...                        \n",
              "551                                                  ...\n",
              "552    I Need You                                   o...\n",
              "553              I’m singing my blues      I’m singin...\n",
              "554                        Cuz I’m so lonely         ...\n",
              "555    Like this yo Like this    Like this Like this ...\n",
              "Name: lyrics, Length: 120, dtype: object"
            ]
          },
          "metadata": {},
          "execution_count": 43
        }
      ]
    },
    {
      "cell_type": "code",
      "source": [
        "song07 = df07['lyrics']\n",
        "\n",
        "def count_character(song07):\n",
        " \n",
        "    count = 0\n",
        "    \n",
        "    for i in song07 :\n",
        "    \n",
        "        count += len(i)\n",
        " \n",
        "    return  count\n",
        "\n",
        "\n",
        "\n",
        "print(\"공백을 제외한 문자수 : \",count_character(song07))"
      ],
      "metadata": {
        "colab": {
          "base_uri": "https://localhost:8080/"
        },
        "id": "AYLGmyf9sBiP",
        "outputId": "88361e87-81af-4c31-b0d5-d6df81989eeb"
      },
      "execution_count": null,
      "outputs": [
        {
          "output_type": "stream",
          "name": "stdout",
          "text": [
            "공백을 제외한 문자수 :  56272\n"
          ]
        }
      ]
    },
    {
      "cell_type": "markdown",
      "source": [
        "10~"
      ],
      "metadata": {
        "id": "CYu322B_cXyU"
      }
    },
    {
      "cell_type": "code",
      "source": [
        "song10 = df10['lyrics']\n",
        "\n",
        "def count_character(song10):\n",
        " \n",
        "    count = 0\n",
        "    \n",
        "    for i in song10 :\n",
        "    \n",
        "        count += len(i)\n",
        " \n",
        "    return  count\n",
        "\n",
        "\n",
        "\n",
        "print(\"공백을 제외한 문자수 : \",count_character(song10))"
      ],
      "metadata": {
        "colab": {
          "base_uri": "https://localhost:8080/"
        },
        "id": "zW7YrN7EsBjT",
        "outputId": "075040bf-b39b-4b48-e19a-977da489c942"
      },
      "execution_count": null,
      "outputs": [
        {
          "output_type": "stream",
          "name": "stdout",
          "text": [
            "공백을 제외한 문자수 :  63574\n"
          ]
        }
      ]
    },
    {
      "cell_type": "code",
      "source": [
        "df10['lyrics']=df10['lyrics'].str.replace(pat=r'[ㄱ-ㅣ가-힣]+', repl= r'', regex=True)\n",
        "df10['lyrics']"
      ],
      "metadata": {
        "colab": {
          "base_uri": "https://localhost:8080/"
        },
        "id": "j7t_34yasR13",
        "outputId": "705e0da3-b001-4f2b-cf2d-ba8ad19f4932"
      },
      "execution_count": null,
      "outputs": [
        {
          "output_type": "stream",
          "name": "stderr",
          "text": [
            "/usr/local/lib/python3.7/dist-packages/ipykernel_launcher.py:1: SettingWithCopyWarning: \n",
            "A value is trying to be set on a copy of a slice from a DataFrame.\n",
            "Try using .loc[row_indexer,col_indexer] = value instead\n",
            "\n",
            "See the caveats in the documentation: https://pandas.pydata.org/pandas-docs/stable/user_guide/indexing.html#returning-a-view-versus-a-copy\n",
            "  \"\"\"Entry point for launching an IPython kernel.\n"
          ]
        },
        {
          "output_type": "execute_result",
          "data": {
            "text/plain": [
              "556                                                  ...\n",
              "557                                                  ...\n",
              "558      No No No   No No No                         ...\n",
              "559                                                  ...\n",
              "560                                                  ...\n",
              "                             ...                        \n",
              "631                                                  ...\n",
              "632                                                  ...\n",
              "633    Don't worry about money        groove   alrigh...\n",
              "634                         I Love You   Only You    ...\n",
              "635                         Me gustas tu gustas tu su...\n",
              "Name: lyrics, Length: 80, dtype: object"
            ]
          },
          "metadata": {},
          "execution_count": 46
        }
      ]
    },
    {
      "cell_type": "code",
      "source": [
        "song10 = df10['lyrics']\n",
        "\n",
        "def count_character(song10):\n",
        " \n",
        "    count = 0\n",
        "    \n",
        "    for i in song10 :\n",
        "    \n",
        "        count += len(i)\n",
        " \n",
        "    return  count\n",
        "\n",
        "\n",
        "\n",
        "print(\"공백을 제외한 문자수 : \",count_character(song10))"
      ],
      "metadata": {
        "colab": {
          "base_uri": "https://localhost:8080/"
        },
        "id": "twbfbElPsR4I",
        "outputId": "2410800d-0b82-4d24-a816-ff2fbb9f75e7"
      },
      "execution_count": null,
      "outputs": [
        {
          "output_type": "stream",
          "name": "stdout",
          "text": [
            "공백을 제외한 문자수 :  29538\n"
          ]
        }
      ]
    },
    {
      "cell_type": "markdown",
      "source": [
        "17~"
      ],
      "metadata": {
        "id": "RhbKLb9xsYU_"
      }
    },
    {
      "cell_type": "code",
      "source": [
        "song17 = df17['lyrics']\n",
        "\n",
        "def count_character(song17):\n",
        " \n",
        "    count = 0\n",
        "    \n",
        "    for i in song17 :\n",
        "    \n",
        "        count += len(i)\n",
        " \n",
        "    return  count\n",
        "\n",
        "\n",
        "\n",
        "print(\"공백을 제외한 문자수 : \",count_character(song17))"
      ],
      "metadata": {
        "colab": {
          "base_uri": "https://localhost:8080/"
        },
        "id": "KetRwAX4sY_S",
        "outputId": "cb3c1764-fd30-487c-a47e-5fe65261078d"
      },
      "execution_count": null,
      "outputs": [
        {
          "output_type": "stream",
          "name": "stdout",
          "text": [
            "공백을 제외한 문자수 :  63408\n"
          ]
        }
      ]
    },
    {
      "cell_type": "code",
      "source": [
        "df17['lyrics']=df17['lyrics'].str.replace(pat=r'[ㄱ-ㅣ가-힣]+', repl= r'', regex=True)\n",
        "df17['lyrics']"
      ],
      "metadata": {
        "colab": {
          "base_uri": "https://localhost:8080/"
        },
        "id": "lbpOxE7esZCW",
        "outputId": "3d35c375-0a12-498f-c543-524a53c83cd2"
      },
      "execution_count": null,
      "outputs": [
        {
          "output_type": "stream",
          "name": "stderr",
          "text": [
            "/usr/local/lib/python3.7/dist-packages/ipykernel_launcher.py:1: SettingWithCopyWarning: \n",
            "A value is trying to be set on a copy of a slice from a DataFrame.\n",
            "Try using .loc[row_indexer,col_indexer] = value instead\n",
            "\n",
            "See the caveats in the documentation: https://pandas.pydata.org/pandas-docs/stable/user_guide/indexing.html#returning-a-view-versus-a-copy\n",
            "  \"\"\"Entry point for launching an IPython kernel.\n"
          ]
        },
        {
          "output_type": "execute_result",
          "data": {
            "text/plain": [
              "636                                                  ...\n",
              "637                                                  ...\n",
              "638                                                  ...\n",
              "639               Hi               Last Night        ...\n",
              "640                                          Marry Me...\n",
              "                             ...                        \n",
              "711    going nonstop     yayayaya          nanananana...\n",
              "712    I can't understand what people are sayin      ...\n",
              "713                                                  ...\n",
              "714                Baby without you I can’t do this a...\n",
              "715           I do                                   ...\n",
              "Name: lyrics, Length: 80, dtype: object"
            ]
          },
          "metadata": {},
          "execution_count": 49
        }
      ]
    },
    {
      "cell_type": "code",
      "source": [
        "song17 = df17['lyrics']\n",
        "\n",
        "def count_character(song17):\n",
        " \n",
        "    count = 0\n",
        "    \n",
        "    for i in song17 :\n",
        "    \n",
        "        count += len(i)\n",
        " \n",
        "    return  count\n",
        "\n",
        "\n",
        "\n",
        "print(\"공백을 제외한 문자수 : \",count_character(song17))"
      ],
      "metadata": {
        "id": "a2gm4FResZES"
      },
      "execution_count": null,
      "outputs": []
    },
    {
      "cell_type": "markdown",
      "source": [
        "20~22"
      ],
      "metadata": {
        "id": "iSRUAm9zsm7M"
      }
    },
    {
      "cell_type": "code",
      "source": [
        "song20 = df20['lyrics']\n",
        "\n",
        "def count_character(song20):\n",
        " \n",
        "    count = 0\n",
        "    \n",
        "    for i in song20 :\n",
        "    \n",
        "        count += len(i)\n",
        " \n",
        "    return  count\n",
        "\n",
        "\n",
        "\n",
        "print(\"공백을 제외한 문자수 : \",count_character(song20))"
      ],
      "metadata": {
        "colab": {
          "base_uri": "https://localhost:8080/"
        },
        "id": "GT7Zr-G0sniV",
        "outputId": "fb3f7638-dd3f-46d0-c595-e49026885c21"
      },
      "execution_count": null,
      "outputs": [
        {
          "output_type": "stream",
          "name": "stdout",
          "text": [
            "공백을 제외한 문자수 :  36320\n"
          ]
        }
      ]
    },
    {
      "cell_type": "code",
      "source": [
        "df20['lyrics']=df20['lyrics'].str.replace(pat=r'[ㄱ-ㅣ가-힣]+', repl= r'', regex=True)\n",
        "df20['lyrics']"
      ],
      "metadata": {
        "colab": {
          "base_uri": "https://localhost:8080/"
        },
        "id": "sTAzdXZ8snj4",
        "outputId": "560f5e60-6855-461a-97d3-06c72535af7a"
      },
      "execution_count": null,
      "outputs": [
        {
          "output_type": "stream",
          "name": "stderr",
          "text": [
            "/usr/local/lib/python3.7/dist-packages/ipykernel_launcher.py:1: SettingWithCopyWarning: \n",
            "A value is trying to be set on a copy of a slice from a DataFrame.\n",
            "Try using .loc[row_indexer,col_indexer] = value instead\n",
            "\n",
            "See the caveats in the documentation: https://pandas.pydata.org/pandas-docs/stable/user_guide/indexing.html#returning-a-view-versus-a-copy\n",
            "  \"\"\"Entry point for launching an IPython kernel.\n"
          ]
        },
        {
          "output_type": "execute_result",
          "data": {
            "text/plain": [
              "716         outsider , ,   play list   minor         ...\n",
              "717        babe         I'm fall in love But        b...\n",
              "718    Cos ah ah I’m in the stars tonight So watch me...\n",
              "719    I’m on the Next Level Yeah               Home ...\n",
              "720        ()                        Love me only til...\n",
              "721                                                  ...\n",
              "722                                                  ...\n",
              "723    Smooth like butter Like a criminal undercover ...\n",
              "724                                                  ...\n",
              "725                                                  ...\n",
              "726                                                  ...\n",
              "727                                                  ...\n",
              "728                                                  ...\n",
              "729           love What can we say    love           ...\n",
              "730                                                  ...\n",
              "731                     My life's shining like a VVS ...\n",
              "732                               We just walking dow...\n",
              "733    Dun Dun Dance Dun Dun Dance Dun Dun Dance Just...\n",
              "734    ‘?‘   ‘  ’                 nothing no no    in...\n",
              "735    So are you happy now Finally happy now are you...\n",
              "736    Long time no see huh?  huh?       Let’s get lo...\n",
              "737                  1                 “Four seasons ...\n",
              "738                           Woo   Woo    Woo yeah I...\n",
              "739    Look at you     Ya took off hook  Coke like br...\n",
              "740                                                  ...\n",
              "741                                                  ...\n",
              "742    Red Velvet       This is gonna be a crazy nigh...\n",
              "743                                                  ...\n",
              "744    Hey girl, Where you at? (Where you at?)       ...\n",
              "745                              I don’t know    I do...\n",
              "746                                                  ...\n",
              "747    Back to the day  10             You say       ...\n",
              "748                                                  ...\n",
              "749    Lights Camera Action I see you lookin at my P ...\n",
              "750    Falling in love   Option      Heart   Mention ...\n",
              "751                                                  ...\n",
              "752                                                  ...\n",
              "753                                                  ...\n",
              "754                          Du Du Du Du Du          ...\n",
              "755                                                  ...\n",
              "Name: lyrics, dtype: object"
            ]
          },
          "metadata": {},
          "execution_count": 52
        }
      ]
    },
    {
      "cell_type": "code",
      "source": [
        "song20 = df20['lyrics']\n",
        "\n",
        "def count_character(song20):\n",
        " \n",
        "    count = 0\n",
        "    \n",
        "    for i in song20 :\n",
        "    \n",
        "        count += len(i)\n",
        " \n",
        "    return  count\n",
        "\n",
        "\n",
        "\n",
        "print(\"공백을 제외한 문자수 : \",count_character(song20))"
      ],
      "metadata": {
        "colab": {
          "base_uri": "https://localhost:8080/"
        },
        "id": "WWqofVvJsnlK",
        "outputId": "78eb3b79-f694-4329-9d46-266002fe7c0e"
      },
      "execution_count": null,
      "outputs": [
        {
          "output_type": "stream",
          "name": "stdout",
          "text": [
            "공백을 제외한 문자수 :  22413\n"
          ]
        }
      ]
    },
    {
      "cell_type": "markdown",
      "source": [
        "### 형태소분석"
      ],
      "metadata": {
        "id": "a-x1GCm0ckX_"
      }
    },
    {
      "cell_type": "code",
      "source": [
        "pip install konlpy"
      ],
      "metadata": {
        "id": "TjngrsMycvA0"
      },
      "execution_count": null,
      "outputs": []
    },
    {
      "cell_type": "code",
      "source": [
        "import nltk"
      ],
      "metadata": {
        "id": "w6ogY9qoXBPI"
      },
      "execution_count": null,
      "outputs": []
    },
    {
      "cell_type": "code",
      "source": [
        "import konlpy\n",
        "from konlpy.tag import Okt\n",
        "okt = Okt()"
      ],
      "metadata": {
        "id": "OgyKBDuC4qXj"
      },
      "execution_count": null,
      "outputs": []
    },
    {
      "cell_type": "code",
      "source": [
        "len(words70)"
      ],
      "metadata": {
        "colab": {
          "base_uri": "https://localhost:8080/"
        },
        "id": "hIC6vzhH5nD-",
        "outputId": "4c87ab5c-2389-484f-8046-ae425f424aaa"
      },
      "execution_count": null,
      "outputs": [
        {
          "output_type": "execute_result",
          "data": {
            "text/plain": [
              "9722"
            ]
          },
          "metadata": {},
          "execution_count": 15
        }
      ]
    },
    {
      "cell_type": "code",
      "source": [
        "tagsets = pd.DataFrame()\n",
        "N = 18\n",
        "tagsets[\"OKT-품사\"] = list(okt.tagset.values()) + list(\"*\" * (N - len(okt.tagset)))\n",
        "tagsets[\"OKT-기호\"] = list(okt.tagset.keys()) + list(\"*\" * (N - len(okt.tagset)))\n",
        "tagsets"
      ],
      "metadata": {
        "id": "q9Fzy1Mu6-Fz"
      },
      "execution_count": null,
      "outputs": []
    },
    {
      "cell_type": "markdown",
      "source": [
        "품사태깅"
      ],
      "metadata": {
        "id": "Y-XS8Enx5K8c"
      }
    },
    {
      "cell_type": "code",
      "source": [
        "words70_tag = \" \".join(df70['lyrics'].tolist())\n",
        "words70_tag = okt.pos(words70_tag,norm=True, stem=True, join=True)\n",
        "words70_tag"
      ],
      "metadata": {
        "id": "Qins9vS2500y"
      },
      "execution_count": null,
      "outputs": []
    },
    {
      "cell_type": "markdown",
      "source": [
        "불용어 처리"
      ],
      "metadata": {
        "id": "ekyTsN1UnPVe"
      }
    },
    {
      "cell_type": "code",
      "source": [
        "with open('/content/drive/MyDrive/stopwords.txt', 'r',encoding='cp949') as f:\n",
        "    list_file = f.readlines()\n",
        "stopwords = list_file[0].split(\",\")\n"
      ],
      "metadata": {
        "id": "iXhEk-Danbwu"
      },
      "execution_count": null,
      "outputs": []
    },
    {
      "cell_type": "code",
      "source": [
        "words70_s = [x for x in words70 if x not in stopwords]\n",
        "len(words70_s)"
      ],
      "metadata": {
        "id": "5ymyZSe_jX3s"
      },
      "execution_count": null,
      "outputs": []
    },
    {
      "cell_type": "code",
      "source": [
        "words70_s"
      ],
      "metadata": {
        "id": "_pRWTI51oMTU"
      },
      "execution_count": null,
      "outputs": []
    },
    {
      "cell_type": "markdown",
      "source": [
        "# 빈도분석 (TF-IDF)"
      ],
      "metadata": {
        "id": "bDUG3xoXdyN4"
      }
    },
    {
      "cell_type": "markdown",
      "source": [
        "## 장르별 빈도분석"
      ],
      "metadata": {
        "id": "-pMaKW7icqea"
      }
    },
    {
      "cell_type": "code",
      "source": [
        "from sklearn.feature_extraction.text import TfidfVectorizer\n",
        "from sklearn.feature_extraction.text import CountVectorizer\n",
        "from collections import Counter"
      ],
      "metadata": {
        "id": "8vI-Cw8sYzWS"
      },
      "execution_count": null,
      "outputs": []
    },
    {
      "cell_type": "code",
      "source": [
        "df_t = df[df[\"genre\"]=='성인가요/트로트']\n",
        "df_r = df[df[\"genre\"]=='록/메탈']\n",
        "df_b = df[df[\"genre\"]=='발라드']\n",
        "df_d = df[df[\"genre\"]=='댄스']\n",
        "df_h = df[df[\"genre\"]=='랩/힙합']"
      ],
      "metadata": {
        "id": "MGtLRafMt2bH"
      },
      "execution_count": null,
      "outputs": []
    },
    {
      "cell_type": "markdown",
      "source": [
        "댄스"
      ],
      "metadata": {
        "id": "Q2f10eTpdgMx"
      }
    },
    {
      "cell_type": "code",
      "source": [
        "df_d"
      ],
      "metadata": {
        "colab": {
          "base_uri": "https://localhost:8080/",
          "height": 424
        },
        "id": "-hPN19unwt8G",
        "outputId": "7884aced-a5d6-49d8-9532-ae3a97bbec7a"
      },
      "execution_count": null,
      "outputs": [
        {
          "output_type": "execute_result",
          "data": {
            "text/plain": [
              "     year  rank            name genre        lyricist  \\\n",
              "116  1980    21       나홀로 뜰 앞에서    댄스             김창훈   \n",
              "128  1980    33             담다디    댄스             김남경   \n",
              "160  1980    65    아직도 어두운 밤인가봐    댄스             전영록   \n",
              "167  1980    72          영원한 친구    댄스             장세용   \n",
              "182  1980    87             종이학    댄스             이건우   \n",
              "..    ...   ...             ...   ...             ...   \n",
              "733  2021    18   Dun Dun Dance    댄스  Scott Stoddart   \n",
              "736  2022     1       That That    댄스        싸이, SUGA   \n",
              "738  2022     3       LOVE DIVE    댄스             서지음   \n",
              "742  2022     7  Feel My Rhythm    댄스             서지음   \n",
              "750  2022    15            INVU    댄스              진리   \n",
              "\n",
              "                                                lyrics  \n",
              "116  그리우면 나홀로 뜰앞에 나와 거닐었었네 아름답게 피어난 꽃을 바라보며 옛일을 생각하...  \n",
              "128  담다디 담다디 담다디담 담다디다담 담다디담 담다디 담다디 담다디담 담다디다담 다다담...  \n",
              "160  아직도 어두운 밤인가봐 하늘엔 반짝이는 별들이 내 모습을 가끔 쳐다보네 아직도 어두...  \n",
              "167  파란 하늘 맴도는 비둘기 날개처럼 우리들의 마음은 하늘을 날아가요 서로 다같이 웃으...  \n",
              "182  나너를 알고 사랑을 알고 종이학 슬픈꿈을 알게 되었네 어느날 나의손에 주었던 키작은...  \n",
              "..                                                 ...  \n",
              "733  Dun Dun Dance Dun Dun Dance Dun Dun Dance Just...  \n",
              "736  Long time no see huh? 오래간만이지 huh? 우리 다시 웃고 울고 ...  \n",
              "738  네가 참 궁금해 그건 너도 마찬가지 이거면 충분해 쫓고 쫓는 이런 놀이 참을 수 없...  \n",
              "742  Red Velvet 무도회를 뒤집어 작은 소란을 또 일으켜 This is gonna...  \n",
              "750  Falling in love 너에겐 난 Option 시작부터 다른 너와 나 깨지는 ...  \n",
              "\n",
              "[136 rows x 6 columns]"
            ],
            "text/html": [
              "\n",
              "  <div id=\"df-07d90d62-27a7-42ba-b47d-43fabd5b1368\">\n",
              "    <div class=\"colab-df-container\">\n",
              "      <div>\n",
              "<style scoped>\n",
              "    .dataframe tbody tr th:only-of-type {\n",
              "        vertical-align: middle;\n",
              "    }\n",
              "\n",
              "    .dataframe tbody tr th {\n",
              "        vertical-align: top;\n",
              "    }\n",
              "\n",
              "    .dataframe thead th {\n",
              "        text-align: right;\n",
              "    }\n",
              "</style>\n",
              "<table border=\"1\" class=\"dataframe\">\n",
              "  <thead>\n",
              "    <tr style=\"text-align: right;\">\n",
              "      <th></th>\n",
              "      <th>year</th>\n",
              "      <th>rank</th>\n",
              "      <th>name</th>\n",
              "      <th>genre</th>\n",
              "      <th>lyricist</th>\n",
              "      <th>lyrics</th>\n",
              "    </tr>\n",
              "  </thead>\n",
              "  <tbody>\n",
              "    <tr>\n",
              "      <th>116</th>\n",
              "      <td>1980</td>\n",
              "      <td>21</td>\n",
              "      <td>나홀로 뜰 앞에서</td>\n",
              "      <td>댄스</td>\n",
              "      <td>김창훈</td>\n",
              "      <td>그리우면 나홀로 뜰앞에 나와 거닐었었네 아름답게 피어난 꽃을 바라보며 옛일을 생각하...</td>\n",
              "    </tr>\n",
              "    <tr>\n",
              "      <th>128</th>\n",
              "      <td>1980</td>\n",
              "      <td>33</td>\n",
              "      <td>담다디</td>\n",
              "      <td>댄스</td>\n",
              "      <td>김남경</td>\n",
              "      <td>담다디 담다디 담다디담 담다디다담 담다디담 담다디 담다디 담다디담 담다디다담 다다담...</td>\n",
              "    </tr>\n",
              "    <tr>\n",
              "      <th>160</th>\n",
              "      <td>1980</td>\n",
              "      <td>65</td>\n",
              "      <td>아직도 어두운 밤인가봐</td>\n",
              "      <td>댄스</td>\n",
              "      <td>전영록</td>\n",
              "      <td>아직도 어두운 밤인가봐 하늘엔 반짝이는 별들이 내 모습을 가끔 쳐다보네 아직도 어두...</td>\n",
              "    </tr>\n",
              "    <tr>\n",
              "      <th>167</th>\n",
              "      <td>1980</td>\n",
              "      <td>72</td>\n",
              "      <td>영원한 친구</td>\n",
              "      <td>댄스</td>\n",
              "      <td>장세용</td>\n",
              "      <td>파란 하늘 맴도는 비둘기 날개처럼 우리들의 마음은 하늘을 날아가요 서로 다같이 웃으...</td>\n",
              "    </tr>\n",
              "    <tr>\n",
              "      <th>182</th>\n",
              "      <td>1980</td>\n",
              "      <td>87</td>\n",
              "      <td>종이학</td>\n",
              "      <td>댄스</td>\n",
              "      <td>이건우</td>\n",
              "      <td>나너를 알고 사랑을 알고 종이학 슬픈꿈을 알게 되었네 어느날 나의손에 주었던 키작은...</td>\n",
              "    </tr>\n",
              "    <tr>\n",
              "      <th>...</th>\n",
              "      <td>...</td>\n",
              "      <td>...</td>\n",
              "      <td>...</td>\n",
              "      <td>...</td>\n",
              "      <td>...</td>\n",
              "      <td>...</td>\n",
              "    </tr>\n",
              "    <tr>\n",
              "      <th>733</th>\n",
              "      <td>2021</td>\n",
              "      <td>18</td>\n",
              "      <td>Dun Dun Dance</td>\n",
              "      <td>댄스</td>\n",
              "      <td>Scott Stoddart</td>\n",
              "      <td>Dun Dun Dance Dun Dun Dance Dun Dun Dance Just...</td>\n",
              "    </tr>\n",
              "    <tr>\n",
              "      <th>736</th>\n",
              "      <td>2022</td>\n",
              "      <td>1</td>\n",
              "      <td>That That</td>\n",
              "      <td>댄스</td>\n",
              "      <td>싸이, SUGA</td>\n",
              "      <td>Long time no see huh? 오래간만이지 huh? 우리 다시 웃고 울고 ...</td>\n",
              "    </tr>\n",
              "    <tr>\n",
              "      <th>738</th>\n",
              "      <td>2022</td>\n",
              "      <td>3</td>\n",
              "      <td>LOVE DIVE</td>\n",
              "      <td>댄스</td>\n",
              "      <td>서지음</td>\n",
              "      <td>네가 참 궁금해 그건 너도 마찬가지 이거면 충분해 쫓고 쫓는 이런 놀이 참을 수 없...</td>\n",
              "    </tr>\n",
              "    <tr>\n",
              "      <th>742</th>\n",
              "      <td>2022</td>\n",
              "      <td>7</td>\n",
              "      <td>Feel My Rhythm</td>\n",
              "      <td>댄스</td>\n",
              "      <td>서지음</td>\n",
              "      <td>Red Velvet 무도회를 뒤집어 작은 소란을 또 일으켜 This is gonna...</td>\n",
              "    </tr>\n",
              "    <tr>\n",
              "      <th>750</th>\n",
              "      <td>2022</td>\n",
              "      <td>15</td>\n",
              "      <td>INVU</td>\n",
              "      <td>댄스</td>\n",
              "      <td>진리</td>\n",
              "      <td>Falling in love 너에겐 난 Option 시작부터 다른 너와 나 깨지는 ...</td>\n",
              "    </tr>\n",
              "  </tbody>\n",
              "</table>\n",
              "<p>136 rows × 6 columns</p>\n",
              "</div>\n",
              "      <button class=\"colab-df-convert\" onclick=\"convertToInteractive('df-07d90d62-27a7-42ba-b47d-43fabd5b1368')\"\n",
              "              title=\"Convert this dataframe to an interactive table.\"\n",
              "              style=\"display:none;\">\n",
              "        \n",
              "  <svg xmlns=\"http://www.w3.org/2000/svg\" height=\"24px\"viewBox=\"0 0 24 24\"\n",
              "       width=\"24px\">\n",
              "    <path d=\"M0 0h24v24H0V0z\" fill=\"none\"/>\n",
              "    <path d=\"M18.56 5.44l.94 2.06.94-2.06 2.06-.94-2.06-.94-.94-2.06-.94 2.06-2.06.94zm-11 1L8.5 8.5l.94-2.06 2.06-.94-2.06-.94L8.5 2.5l-.94 2.06-2.06.94zm10 10l.94 2.06.94-2.06 2.06-.94-2.06-.94-.94-2.06-.94 2.06-2.06.94z\"/><path d=\"M17.41 7.96l-1.37-1.37c-.4-.4-.92-.59-1.43-.59-.52 0-1.04.2-1.43.59L10.3 9.45l-7.72 7.72c-.78.78-.78 2.05 0 2.83L4 21.41c.39.39.9.59 1.41.59.51 0 1.02-.2 1.41-.59l7.78-7.78 2.81-2.81c.8-.78.8-2.07 0-2.86zM5.41 20L4 18.59l7.72-7.72 1.47 1.35L5.41 20z\"/>\n",
              "  </svg>\n",
              "      </button>\n",
              "      \n",
              "  <style>\n",
              "    .colab-df-container {\n",
              "      display:flex;\n",
              "      flex-wrap:wrap;\n",
              "      gap: 12px;\n",
              "    }\n",
              "\n",
              "    .colab-df-convert {\n",
              "      background-color: #E8F0FE;\n",
              "      border: none;\n",
              "      border-radius: 50%;\n",
              "      cursor: pointer;\n",
              "      display: none;\n",
              "      fill: #1967D2;\n",
              "      height: 32px;\n",
              "      padding: 0 0 0 0;\n",
              "      width: 32px;\n",
              "    }\n",
              "\n",
              "    .colab-df-convert:hover {\n",
              "      background-color: #E2EBFA;\n",
              "      box-shadow: 0px 1px 2px rgba(60, 64, 67, 0.3), 0px 1px 3px 1px rgba(60, 64, 67, 0.15);\n",
              "      fill: #174EA6;\n",
              "    }\n",
              "\n",
              "    [theme=dark] .colab-df-convert {\n",
              "      background-color: #3B4455;\n",
              "      fill: #D2E3FC;\n",
              "    }\n",
              "\n",
              "    [theme=dark] .colab-df-convert:hover {\n",
              "      background-color: #434B5C;\n",
              "      box-shadow: 0px 1px 3px 1px rgba(0, 0, 0, 0.15);\n",
              "      filter: drop-shadow(0px 1px 2px rgba(0, 0, 0, 0.3));\n",
              "      fill: #FFFFFF;\n",
              "    }\n",
              "  </style>\n",
              "\n",
              "      <script>\n",
              "        const buttonEl =\n",
              "          document.querySelector('#df-07d90d62-27a7-42ba-b47d-43fabd5b1368 button.colab-df-convert');\n",
              "        buttonEl.style.display =\n",
              "          google.colab.kernel.accessAllowed ? 'block' : 'none';\n",
              "\n",
              "        async function convertToInteractive(key) {\n",
              "          const element = document.querySelector('#df-07d90d62-27a7-42ba-b47d-43fabd5b1368');\n",
              "          const dataTable =\n",
              "            await google.colab.kernel.invokeFunction('convertToInteractive',\n",
              "                                                     [key], {});\n",
              "          if (!dataTable) return;\n",
              "\n",
              "          const docLinkHtml = 'Like what you see? Visit the ' +\n",
              "            '<a target=\"_blank\" href=https://colab.research.google.com/notebooks/data_table.ipynb>data table notebook</a>'\n",
              "            + ' to learn more about interactive tables.';\n",
              "          element.innerHTML = '';\n",
              "          dataTable['output_type'] = 'display_data';\n",
              "          await google.colab.output.renderOutput(dataTable, element);\n",
              "          const docLink = document.createElement('div');\n",
              "          docLink.innerHTML = docLinkHtml;\n",
              "          element.appendChild(docLink);\n",
              "        }\n",
              "      </script>\n",
              "    </div>\n",
              "  </div>\n",
              "  "
            ]
          },
          "metadata": {},
          "execution_count": 55
        }
      ]
    },
    {
      "cell_type": "code",
      "source": [
        "okt = Okt()\n",
        "tokenized = []\n",
        "for sentence in df_d['lyrics']: \n",
        "    tokens = okt.nouns(sentence)\n",
        "    tokenize = \" \".join(tokens) \n",
        "    tokenized.append(tokenize) \n",
        "df_d[\"lyrics_t\"] = pd.DataFrame(tokenized)"
      ],
      "metadata": {
        "id": "L7ItVFWudOBV"
      },
      "execution_count": null,
      "outputs": []
    },
    {
      "cell_type": "code",
      "source": [
        "tfidf = TfidfVectorizer(stop_words=stopwords)\n",
        "tfidf_matrix = tfidf.fit_transform(df_d['lyrics'])\n",
        "print(tfidf_matrix.shape)"
      ],
      "metadata": {
        "id": "zFUDGQZadQid"
      },
      "execution_count": null,
      "outputs": []
    },
    {
      "cell_type": "code",
      "source": [
        "word_count_d = pd.DataFrame({\n",
        "    '단어': tfidf.get_feature_names(),\n",
        "    'tf-idf': tfidf_matrix.sum(axis=0).flat\n",
        "})\n",
        "word_count_d.sort_values('tf-idf', ascending=False).head(10)"
      ],
      "metadata": {
        "colab": {
          "base_uri": "https://localhost:8080/",
          "height": 400
        },
        "id": "WqUjODsWvAE6",
        "outputId": "22bd5a6c-a7bb-410e-cafc-cf50cf16f95d"
      },
      "execution_count": null,
      "outputs": [
        {
          "output_type": "stream",
          "name": "stderr",
          "text": [
            "/usr/local/lib/python3.7/dist-packages/sklearn/utils/deprecation.py:87: FutureWarning: Function get_feature_names is deprecated; get_feature_names is deprecated in 1.0 and will be removed in 1.2. Please use get_feature_names_out instead.\n",
            "  warnings.warn(msg, category=FutureWarning)\n"
          ]
        },
        {
          "output_type": "execute_result",
          "data": {
            "text/plain": [
              "        단어    tf-idf\n",
              "553     oh  5.227207\n",
              "886    you  4.525961\n",
              "524     my  4.468795\n",
              "404     it  4.407119\n",
              "66    baby  3.856785\n",
              "491     me  3.316750\n",
              "469   love  3.315574\n",
              "1735    내가  3.080291\n",
              "698     so  2.852303\n",
              "451   like  2.745420"
            ],
            "text/html": [
              "\n",
              "  <div id=\"df-b960d477-df7b-4885-b896-2ebc46cab5f9\">\n",
              "    <div class=\"colab-df-container\">\n",
              "      <div>\n",
              "<style scoped>\n",
              "    .dataframe tbody tr th:only-of-type {\n",
              "        vertical-align: middle;\n",
              "    }\n",
              "\n",
              "    .dataframe tbody tr th {\n",
              "        vertical-align: top;\n",
              "    }\n",
              "\n",
              "    .dataframe thead th {\n",
              "        text-align: right;\n",
              "    }\n",
              "</style>\n",
              "<table border=\"1\" class=\"dataframe\">\n",
              "  <thead>\n",
              "    <tr style=\"text-align: right;\">\n",
              "      <th></th>\n",
              "      <th>단어</th>\n",
              "      <th>tf-idf</th>\n",
              "    </tr>\n",
              "  </thead>\n",
              "  <tbody>\n",
              "    <tr>\n",
              "      <th>553</th>\n",
              "      <td>oh</td>\n",
              "      <td>5.227207</td>\n",
              "    </tr>\n",
              "    <tr>\n",
              "      <th>886</th>\n",
              "      <td>you</td>\n",
              "      <td>4.525961</td>\n",
              "    </tr>\n",
              "    <tr>\n",
              "      <th>524</th>\n",
              "      <td>my</td>\n",
              "      <td>4.468795</td>\n",
              "    </tr>\n",
              "    <tr>\n",
              "      <th>404</th>\n",
              "      <td>it</td>\n",
              "      <td>4.407119</td>\n",
              "    </tr>\n",
              "    <tr>\n",
              "      <th>66</th>\n",
              "      <td>baby</td>\n",
              "      <td>3.856785</td>\n",
              "    </tr>\n",
              "    <tr>\n",
              "      <th>491</th>\n",
              "      <td>me</td>\n",
              "      <td>3.316750</td>\n",
              "    </tr>\n",
              "    <tr>\n",
              "      <th>469</th>\n",
              "      <td>love</td>\n",
              "      <td>3.315574</td>\n",
              "    </tr>\n",
              "    <tr>\n",
              "      <th>1735</th>\n",
              "      <td>내가</td>\n",
              "      <td>3.080291</td>\n",
              "    </tr>\n",
              "    <tr>\n",
              "      <th>698</th>\n",
              "      <td>so</td>\n",
              "      <td>2.852303</td>\n",
              "    </tr>\n",
              "    <tr>\n",
              "      <th>451</th>\n",
              "      <td>like</td>\n",
              "      <td>2.745420</td>\n",
              "    </tr>\n",
              "  </tbody>\n",
              "</table>\n",
              "</div>\n",
              "      <button class=\"colab-df-convert\" onclick=\"convertToInteractive('df-b960d477-df7b-4885-b896-2ebc46cab5f9')\"\n",
              "              title=\"Convert this dataframe to an interactive table.\"\n",
              "              style=\"display:none;\">\n",
              "        \n",
              "  <svg xmlns=\"http://www.w3.org/2000/svg\" height=\"24px\"viewBox=\"0 0 24 24\"\n",
              "       width=\"24px\">\n",
              "    <path d=\"M0 0h24v24H0V0z\" fill=\"none\"/>\n",
              "    <path d=\"M18.56 5.44l.94 2.06.94-2.06 2.06-.94-2.06-.94-.94-2.06-.94 2.06-2.06.94zm-11 1L8.5 8.5l.94-2.06 2.06-.94-2.06-.94L8.5 2.5l-.94 2.06-2.06.94zm10 10l.94 2.06.94-2.06 2.06-.94-2.06-.94-.94-2.06-.94 2.06-2.06.94z\"/><path d=\"M17.41 7.96l-1.37-1.37c-.4-.4-.92-.59-1.43-.59-.52 0-1.04.2-1.43.59L10.3 9.45l-7.72 7.72c-.78.78-.78 2.05 0 2.83L4 21.41c.39.39.9.59 1.41.59.51 0 1.02-.2 1.41-.59l7.78-7.78 2.81-2.81c.8-.78.8-2.07 0-2.86zM5.41 20L4 18.59l7.72-7.72 1.47 1.35L5.41 20z\"/>\n",
              "  </svg>\n",
              "      </button>\n",
              "      \n",
              "  <style>\n",
              "    .colab-df-container {\n",
              "      display:flex;\n",
              "      flex-wrap:wrap;\n",
              "      gap: 12px;\n",
              "    }\n",
              "\n",
              "    .colab-df-convert {\n",
              "      background-color: #E8F0FE;\n",
              "      border: none;\n",
              "      border-radius: 50%;\n",
              "      cursor: pointer;\n",
              "      display: none;\n",
              "      fill: #1967D2;\n",
              "      height: 32px;\n",
              "      padding: 0 0 0 0;\n",
              "      width: 32px;\n",
              "    }\n",
              "\n",
              "    .colab-df-convert:hover {\n",
              "      background-color: #E2EBFA;\n",
              "      box-shadow: 0px 1px 2px rgba(60, 64, 67, 0.3), 0px 1px 3px 1px rgba(60, 64, 67, 0.15);\n",
              "      fill: #174EA6;\n",
              "    }\n",
              "\n",
              "    [theme=dark] .colab-df-convert {\n",
              "      background-color: #3B4455;\n",
              "      fill: #D2E3FC;\n",
              "    }\n",
              "\n",
              "    [theme=dark] .colab-df-convert:hover {\n",
              "      background-color: #434B5C;\n",
              "      box-shadow: 0px 1px 3px 1px rgba(0, 0, 0, 0.15);\n",
              "      filter: drop-shadow(0px 1px 2px rgba(0, 0, 0, 0.3));\n",
              "      fill: #FFFFFF;\n",
              "    }\n",
              "  </style>\n",
              "\n",
              "      <script>\n",
              "        const buttonEl =\n",
              "          document.querySelector('#df-b960d477-df7b-4885-b896-2ebc46cab5f9 button.colab-df-convert');\n",
              "        buttonEl.style.display =\n",
              "          google.colab.kernel.accessAllowed ? 'block' : 'none';\n",
              "\n",
              "        async function convertToInteractive(key) {\n",
              "          const element = document.querySelector('#df-b960d477-df7b-4885-b896-2ebc46cab5f9');\n",
              "          const dataTable =\n",
              "            await google.colab.kernel.invokeFunction('convertToInteractive',\n",
              "                                                     [key], {});\n",
              "          if (!dataTable) return;\n",
              "\n",
              "          const docLinkHtml = 'Like what you see? Visit the ' +\n",
              "            '<a target=\"_blank\" href=https://colab.research.google.com/notebooks/data_table.ipynb>data table notebook</a>'\n",
              "            + ' to learn more about interactive tables.';\n",
              "          element.innerHTML = '';\n",
              "          dataTable['output_type'] = 'display_data';\n",
              "          await google.colab.output.renderOutput(dataTable, element);\n",
              "          const docLink = document.createElement('div');\n",
              "          docLink.innerHTML = docLinkHtml;\n",
              "          element.appendChild(docLink);\n",
              "        }\n",
              "      </script>\n",
              "    </div>\n",
              "  </div>\n",
              "  "
            ]
          },
          "metadata": {},
          "execution_count": 61
        }
      ]
    },
    {
      "cell_type": "markdown",
      "source": [
        "랩/힙합"
      ],
      "metadata": {
        "id": "Kf0re0uMdimk"
      }
    },
    {
      "cell_type": "code",
      "source": [
        "okt = Okt()\n",
        "tokenized = []\n",
        "for sentence in df_h['lyrics']: \n",
        "    tokens = okt.nouns(sentence)\n",
        "    tokenize = \" \".join(tokens) \n",
        "    tokenized.append(tokenize) \n",
        "df_h[\"lyrics_t\"] = pd.DataFrame(tokenized)"
      ],
      "metadata": {
        "colab": {
          "base_uri": "https://localhost:8080/"
        },
        "id": "NHPL67uPw_nD",
        "outputId": "2508dfb0-8832-4e76-fa79-577c32a245d7"
      },
      "execution_count": null,
      "outputs": [
        {
          "output_type": "stream",
          "name": "stderr",
          "text": [
            "/usr/local/lib/python3.7/dist-packages/ipykernel_launcher.py:7: SettingWithCopyWarning: \n",
            "A value is trying to be set on a copy of a slice from a DataFrame.\n",
            "Try using .loc[row_indexer,col_indexer] = value instead\n",
            "\n",
            "See the caveats in the documentation: https://pandas.pydata.org/pandas-docs/stable/user_guide/indexing.html#returning-a-view-versus-a-copy\n",
            "  import sys\n"
          ]
        }
      ]
    },
    {
      "cell_type": "code",
      "source": [
        "tfidf = TfidfVectorizer(stop_words=stopwords)\n",
        "tfidf_matrix = tfidf.fit_transform(df_h['lyrics'])\n",
        "print(tfidf_matrix.shape)"
      ],
      "metadata": {
        "colab": {
          "base_uri": "https://localhost:8080/"
        },
        "id": "QcV_XZUFxeP2",
        "outputId": "dea5ce02-7d41-4a65-83a7-abae608d06c1"
      },
      "execution_count": null,
      "outputs": [
        {
          "output_type": "stream",
          "name": "stdout",
          "text": [
            "(47, 4589)\n"
          ]
        },
        {
          "output_type": "stream",
          "name": "stderr",
          "text": [
            "/usr/local/lib/python3.7/dist-packages/sklearn/feature_extraction/text.py:401: UserWarning: Your stop_words may be inconsistent with your preprocessing. Tokenizing the stop words generated tokens ['가서', '같은', '것과', '결과에', '결론을', '관계가', '관련이', '그럼에도', '그에', '그치지', '김에', '까닭에', '낫다', '년도', '논하지', '누가', '달려', '되는', '되어', '들면', '들자면', '듯하다', '따르는', '따름이다', '따지지', '때가', '만은', '만이', '많은', '말하면', '말할것도', '몰라도', '몰랏다', '못하다', '미치다', '바꾸어서', '바꿔', '방면으로', '보면', '보아', '부류의', '비길수', '비추어', '뿐만', '사람들', '상대적으로', '생각이다', '서술한바와같이', '쓰여', '아니라', '안다', '안된다', '않고', '않기', '않는다면', '않다면', '않도록', '않으면', '알겠는가', '어쩔수', '없고', '예를', '외에', '요만한', '우에', '위에서', '이로', '이르다', '이와', '이유는', '인하여', '임에', '점에서', '정도에', '정도의', '종합한것과같이', '주저하지', '줄은', '지경이다', '틀림없다', '편이', '하기', '하기만', '하는', '하는것만', '하는것이', '하면', '하지', '한하다', '할수록', '함으로써', '해도', '해서는', '형식으로', '힘이'] not in stop_words.\n",
            "  % sorted(inconsistent)\n"
          ]
        }
      ]
    },
    {
      "cell_type": "code",
      "source": [
        "word_count_h = pd.DataFrame({\n",
        "    '단어': tfidf.get_feature_names(),\n",
        "    'tf-idf': tfidf_matrix.sum(axis=0).flat\n",
        "})\n",
        "word_count_h.sort_values('tf-idf', ascending=False).head(10)"
      ],
      "metadata": {
        "id": "iqOn2WtqxkYE",
        "outputId": "06034929-eaf6-4c20-af34-1f6d4a63e592",
        "colab": {
          "base_uri": "https://localhost:8080/",
          "height": 400
        }
      },
      "execution_count": null,
      "outputs": [
        {
          "output_type": "stream",
          "name": "stderr",
          "text": [
            "/usr/local/lib/python3.7/dist-packages/sklearn/utils/deprecation.py:87: FutureWarning: Function get_feature_names is deprecated; get_feature_names is deprecated in 1.0 and will be removed in 1.2. Please use get_feature_names_out instead.\n",
            "  warnings.warn(msg, category=FutureWarning)\n"
          ]
        },
        {
          "output_type": "execute_result",
          "data": {
            "text/plain": [
              "        단어    tf-idf\n",
              "290   love  2.794765\n",
              "550    you  2.301931\n",
              "347     oh  1.410018\n",
              "254     it  1.154761\n",
              "1197    내가  1.112828\n",
              "339     no  1.078437\n",
              "304     me  1.021552\n",
              "472    the  0.938062\n",
              "429     so  0.928897\n",
              "180   fire  0.876701"
            ],
            "text/html": [
              "\n",
              "  <div id=\"df-8dfd401a-06d5-456f-b243-5235045d9b98\">\n",
              "    <div class=\"colab-df-container\">\n",
              "      <div>\n",
              "<style scoped>\n",
              "    .dataframe tbody tr th:only-of-type {\n",
              "        vertical-align: middle;\n",
              "    }\n",
              "\n",
              "    .dataframe tbody tr th {\n",
              "        vertical-align: top;\n",
              "    }\n",
              "\n",
              "    .dataframe thead th {\n",
              "        text-align: right;\n",
              "    }\n",
              "</style>\n",
              "<table border=\"1\" class=\"dataframe\">\n",
              "  <thead>\n",
              "    <tr style=\"text-align: right;\">\n",
              "      <th></th>\n",
              "      <th>단어</th>\n",
              "      <th>tf-idf</th>\n",
              "    </tr>\n",
              "  </thead>\n",
              "  <tbody>\n",
              "    <tr>\n",
              "      <th>290</th>\n",
              "      <td>love</td>\n",
              "      <td>2.794765</td>\n",
              "    </tr>\n",
              "    <tr>\n",
              "      <th>550</th>\n",
              "      <td>you</td>\n",
              "      <td>2.301931</td>\n",
              "    </tr>\n",
              "    <tr>\n",
              "      <th>347</th>\n",
              "      <td>oh</td>\n",
              "      <td>1.410018</td>\n",
              "    </tr>\n",
              "    <tr>\n",
              "      <th>254</th>\n",
              "      <td>it</td>\n",
              "      <td>1.154761</td>\n",
              "    </tr>\n",
              "    <tr>\n",
              "      <th>1197</th>\n",
              "      <td>내가</td>\n",
              "      <td>1.112828</td>\n",
              "    </tr>\n",
              "    <tr>\n",
              "      <th>339</th>\n",
              "      <td>no</td>\n",
              "      <td>1.078437</td>\n",
              "    </tr>\n",
              "    <tr>\n",
              "      <th>304</th>\n",
              "      <td>me</td>\n",
              "      <td>1.021552</td>\n",
              "    </tr>\n",
              "    <tr>\n",
              "      <th>472</th>\n",
              "      <td>the</td>\n",
              "      <td>0.938062</td>\n",
              "    </tr>\n",
              "    <tr>\n",
              "      <th>429</th>\n",
              "      <td>so</td>\n",
              "      <td>0.928897</td>\n",
              "    </tr>\n",
              "    <tr>\n",
              "      <th>180</th>\n",
              "      <td>fire</td>\n",
              "      <td>0.876701</td>\n",
              "    </tr>\n",
              "  </tbody>\n",
              "</table>\n",
              "</div>\n",
              "      <button class=\"colab-df-convert\" onclick=\"convertToInteractive('df-8dfd401a-06d5-456f-b243-5235045d9b98')\"\n",
              "              title=\"Convert this dataframe to an interactive table.\"\n",
              "              style=\"display:none;\">\n",
              "        \n",
              "  <svg xmlns=\"http://www.w3.org/2000/svg\" height=\"24px\"viewBox=\"0 0 24 24\"\n",
              "       width=\"24px\">\n",
              "    <path d=\"M0 0h24v24H0V0z\" fill=\"none\"/>\n",
              "    <path d=\"M18.56 5.44l.94 2.06.94-2.06 2.06-.94-2.06-.94-.94-2.06-.94 2.06-2.06.94zm-11 1L8.5 8.5l.94-2.06 2.06-.94-2.06-.94L8.5 2.5l-.94 2.06-2.06.94zm10 10l.94 2.06.94-2.06 2.06-.94-2.06-.94-.94-2.06-.94 2.06-2.06.94z\"/><path d=\"M17.41 7.96l-1.37-1.37c-.4-.4-.92-.59-1.43-.59-.52 0-1.04.2-1.43.59L10.3 9.45l-7.72 7.72c-.78.78-.78 2.05 0 2.83L4 21.41c.39.39.9.59 1.41.59.51 0 1.02-.2 1.41-.59l7.78-7.78 2.81-2.81c.8-.78.8-2.07 0-2.86zM5.41 20L4 18.59l7.72-7.72 1.47 1.35L5.41 20z\"/>\n",
              "  </svg>\n",
              "      </button>\n",
              "      \n",
              "  <style>\n",
              "    .colab-df-container {\n",
              "      display:flex;\n",
              "      flex-wrap:wrap;\n",
              "      gap: 12px;\n",
              "    }\n",
              "\n",
              "    .colab-df-convert {\n",
              "      background-color: #E8F0FE;\n",
              "      border: none;\n",
              "      border-radius: 50%;\n",
              "      cursor: pointer;\n",
              "      display: none;\n",
              "      fill: #1967D2;\n",
              "      height: 32px;\n",
              "      padding: 0 0 0 0;\n",
              "      width: 32px;\n",
              "    }\n",
              "\n",
              "    .colab-df-convert:hover {\n",
              "      background-color: #E2EBFA;\n",
              "      box-shadow: 0px 1px 2px rgba(60, 64, 67, 0.3), 0px 1px 3px 1px rgba(60, 64, 67, 0.15);\n",
              "      fill: #174EA6;\n",
              "    }\n",
              "\n",
              "    [theme=dark] .colab-df-convert {\n",
              "      background-color: #3B4455;\n",
              "      fill: #D2E3FC;\n",
              "    }\n",
              "\n",
              "    [theme=dark] .colab-df-convert:hover {\n",
              "      background-color: #434B5C;\n",
              "      box-shadow: 0px 1px 3px 1px rgba(0, 0, 0, 0.15);\n",
              "      filter: drop-shadow(0px 1px 2px rgba(0, 0, 0, 0.3));\n",
              "      fill: #FFFFFF;\n",
              "    }\n",
              "  </style>\n",
              "\n",
              "      <script>\n",
              "        const buttonEl =\n",
              "          document.querySelector('#df-8dfd401a-06d5-456f-b243-5235045d9b98 button.colab-df-convert');\n",
              "        buttonEl.style.display =\n",
              "          google.colab.kernel.accessAllowed ? 'block' : 'none';\n",
              "\n",
              "        async function convertToInteractive(key) {\n",
              "          const element = document.querySelector('#df-8dfd401a-06d5-456f-b243-5235045d9b98');\n",
              "          const dataTable =\n",
              "            await google.colab.kernel.invokeFunction('convertToInteractive',\n",
              "                                                     [key], {});\n",
              "          if (!dataTable) return;\n",
              "\n",
              "          const docLinkHtml = 'Like what you see? Visit the ' +\n",
              "            '<a target=\"_blank\" href=https://colab.research.google.com/notebooks/data_table.ipynb>data table notebook</a>'\n",
              "            + ' to learn more about interactive tables.';\n",
              "          element.innerHTML = '';\n",
              "          dataTable['output_type'] = 'display_data';\n",
              "          await google.colab.output.renderOutput(dataTable, element);\n",
              "          const docLink = document.createElement('div');\n",
              "          docLink.innerHTML = docLinkHtml;\n",
              "          element.appendChild(docLink);\n",
              "        }\n",
              "      </script>\n",
              "    </div>\n",
              "  </div>\n",
              "  "
            ]
          },
          "metadata": {},
          "execution_count": 66
        }
      ]
    },
    {
      "cell_type": "markdown",
      "source": [
        "## 시기별 빈도분석"
      ],
      "metadata": {
        "id": "dEhB1_lNYJp4"
      }
    },
    {
      "cell_type": "markdown",
      "source": [
        "70년도"
      ],
      "metadata": {
        "id": "mAd4xsM0StQ3"
      }
    },
    {
      "cell_type": "code",
      "source": [
        "df70"
      ],
      "metadata": {
        "colab": {
          "base_uri": "https://localhost:8080/",
          "height": 424
        },
        "id": "LBxUE8Vsf54f",
        "outputId": "73c94c6e-d4d1-440e-c042-abccd29c407f"
      },
      "execution_count": null,
      "outputs": [
        {
          "output_type": "execute_result",
          "data": {
            "text/plain": [
              "    year  rank      name     genre lyricist  \\\n",
              "0   1970     1   가을비 우산속  성인가요/트로트       최헌   \n",
              "1   1970     2       감수광  성인가요/트로트      혜은이   \n",
              "2   1970     3      개구장이      록/메탈      산울림   \n",
              "3   1970     4      개 여울  성인가요/트로트      정미조   \n",
              "4   1970     5    고귀한 선물    포크/블루스      장은아   \n",
              "..   ...   ...       ...       ...      ...   \n",
              "91  1970    96       한사람    포크/블루스      양희은   \n",
              "92  1970    97    한잔의 추억    포크/블루스      이장희   \n",
              "93  1970    98      해뜰 날  성인가요/트로트      송대관   \n",
              "94  1970    99    해변의 여인  성인가요/트로트      나훈아   \n",
              "95  1970   100  휘파람을 부세요       발라드      정미조   \n",
              "\n",
              "                                               lyrics  \\\n",
              "0   그리움이 눈처럼 쌓인 거리를 나혼자서 걸었네 미련때문에 흐르는 세월따라 잊혀진 그 ...   \n",
              "1   바람부는 제주에는 돌도 많지만 인정많고 마음씨 고운 아가씨도 많지요 감수광 감수광 ...   \n",
              "2   우리 같이 놀아요 뜀을 뛰며 공을 차며 놀아요 우리 같이 불러요 예쁜 노래 고운 노...   \n",
              "3   당신은 무슨 일로 그리합니까 홀로이 개여울에 주저 앉아서 파릇한 풀포기가 돋아 나오...   \n",
              "4   갈매기 날으는 바닷가에도 그대가 없으면 쓸쓸하겠네 파도가 밀려와 속삭여줄때도 그대가...   \n",
              "..                                                ...   \n",
              "91  한사람 여기 또 그곁에 둘이 서로 바라보며 웃네 먼훗날 위해 내미는 손 둘이 서로 ...   \n",
              "92  늦은 밤 쓸쓸히 창가에 앉아 꺼져가는 불빛을 바라보면은 어데선가 날 부르는 소리가 ...   \n",
              "93  꿈을 안고 왔단다 내가 왔단다 슬픔도 괴로움도 모두 모두 비켜라 안 되는 일 없단다...   \n",
              "94  물위에 떠있는 황혼에 종이배 말없이 거니는 해변의 여인아 바람에 휘날리는 머리카락 ...   \n",
              "95  제가 보고 싶을 땐 두 눈을 꼭 감고 나즈막히 소리 내어 휘파람을 부세요 외롭다고 ...   \n",
              "\n",
              "                                             lyrics_t  \n",
              "0   그리움 눈 거리 나 혼자 미련 때문 세월 그 얼굴 왜 이다지 속눈썹 정다웠던 그 눈...  \n",
              "1   바람 제주 인정 마음씨 아가씨 감수 광 감수 광 나 렝 감수 광 설릉사 혼 옵 서예...  \n",
              "2   우리 공 우리 노래 노래 이마 땀방울 마음 꽃 방울 나무 하늘 개구쟁이 우리 공 우...  \n",
              "3   당신 무슨 일로 합 홀로 개 여울 주저 풀 포기 잔 물이 봄바람 헤 때 가도 아주 ...  \n",
              "4   갈매기 바닷가 그대 파도 때 그대 행복 가득 찬 나 인생 그대 전 선물 이세 어디 ...  \n",
              "..                                                ...  \n",
              "91  사람 여기 또 곁 둘 서로 먼훗날 위해 손 둘 서로 마주 잡고 사람 곁 또 사람 둘...  \n",
              "92  밤 창가 불빛 어데선 날 소리 취한 눈 크게 쯤 찬 술잔 위 얼굴 한잔 추억 한잔 ...  \n",
              "93  꿈 안고 내 슬픔 괴로움 모두 모두 안 일 노력 쨍 해뜰 날 쨍 해뜰 날 몸 괴로웁...  \n",
              "94  물위 황혼 종이배 말 거니 해변 여인 바람 머리카락 사이 황혼 빛 여인 눈동자 조개...  \n",
              "95  제 보고 땐 두 눈 꼭 감고 나즈 소리 휘파람 부세 땐 두 눈 꼭 감고 나즈 소리 ...  \n",
              "\n",
              "[96 rows x 7 columns]"
            ],
            "text/html": [
              "\n",
              "  <div id=\"df-8d670c97-f7c5-469b-90d9-d08fb9891f38\">\n",
              "    <div class=\"colab-df-container\">\n",
              "      <div>\n",
              "<style scoped>\n",
              "    .dataframe tbody tr th:only-of-type {\n",
              "        vertical-align: middle;\n",
              "    }\n",
              "\n",
              "    .dataframe tbody tr th {\n",
              "        vertical-align: top;\n",
              "    }\n",
              "\n",
              "    .dataframe thead th {\n",
              "        text-align: right;\n",
              "    }\n",
              "</style>\n",
              "<table border=\"1\" class=\"dataframe\">\n",
              "  <thead>\n",
              "    <tr style=\"text-align: right;\">\n",
              "      <th></th>\n",
              "      <th>year</th>\n",
              "      <th>rank</th>\n",
              "      <th>name</th>\n",
              "      <th>genre</th>\n",
              "      <th>lyricist</th>\n",
              "      <th>lyrics</th>\n",
              "      <th>lyrics_t</th>\n",
              "    </tr>\n",
              "  </thead>\n",
              "  <tbody>\n",
              "    <tr>\n",
              "      <th>0</th>\n",
              "      <td>1970</td>\n",
              "      <td>1</td>\n",
              "      <td>가을비 우산속</td>\n",
              "      <td>성인가요/트로트</td>\n",
              "      <td>최헌</td>\n",
              "      <td>그리움이 눈처럼 쌓인 거리를 나혼자서 걸었네 미련때문에 흐르는 세월따라 잊혀진 그 ...</td>\n",
              "      <td>그리움 눈 거리 나 혼자 미련 때문 세월 그 얼굴 왜 이다지 속눈썹 정다웠던 그 눈...</td>\n",
              "    </tr>\n",
              "    <tr>\n",
              "      <th>1</th>\n",
              "      <td>1970</td>\n",
              "      <td>2</td>\n",
              "      <td>감수광</td>\n",
              "      <td>성인가요/트로트</td>\n",
              "      <td>혜은이</td>\n",
              "      <td>바람부는 제주에는 돌도 많지만 인정많고 마음씨 고운 아가씨도 많지요 감수광 감수광 ...</td>\n",
              "      <td>바람 제주 인정 마음씨 아가씨 감수 광 감수 광 나 렝 감수 광 설릉사 혼 옵 서예...</td>\n",
              "    </tr>\n",
              "    <tr>\n",
              "      <th>2</th>\n",
              "      <td>1970</td>\n",
              "      <td>3</td>\n",
              "      <td>개구장이</td>\n",
              "      <td>록/메탈</td>\n",
              "      <td>산울림</td>\n",
              "      <td>우리 같이 놀아요 뜀을 뛰며 공을 차며 놀아요 우리 같이 불러요 예쁜 노래 고운 노...</td>\n",
              "      <td>우리 공 우리 노래 노래 이마 땀방울 마음 꽃 방울 나무 하늘 개구쟁이 우리 공 우...</td>\n",
              "    </tr>\n",
              "    <tr>\n",
              "      <th>3</th>\n",
              "      <td>1970</td>\n",
              "      <td>4</td>\n",
              "      <td>개 여울</td>\n",
              "      <td>성인가요/트로트</td>\n",
              "      <td>정미조</td>\n",
              "      <td>당신은 무슨 일로 그리합니까 홀로이 개여울에 주저 앉아서 파릇한 풀포기가 돋아 나오...</td>\n",
              "      <td>당신 무슨 일로 합 홀로 개 여울 주저 풀 포기 잔 물이 봄바람 헤 때 가도 아주 ...</td>\n",
              "    </tr>\n",
              "    <tr>\n",
              "      <th>4</th>\n",
              "      <td>1970</td>\n",
              "      <td>5</td>\n",
              "      <td>고귀한 선물</td>\n",
              "      <td>포크/블루스</td>\n",
              "      <td>장은아</td>\n",
              "      <td>갈매기 날으는 바닷가에도 그대가 없으면 쓸쓸하겠네 파도가 밀려와 속삭여줄때도 그대가...</td>\n",
              "      <td>갈매기 바닷가 그대 파도 때 그대 행복 가득 찬 나 인생 그대 전 선물 이세 어디 ...</td>\n",
              "    </tr>\n",
              "    <tr>\n",
              "      <th>...</th>\n",
              "      <td>...</td>\n",
              "      <td>...</td>\n",
              "      <td>...</td>\n",
              "      <td>...</td>\n",
              "      <td>...</td>\n",
              "      <td>...</td>\n",
              "      <td>...</td>\n",
              "    </tr>\n",
              "    <tr>\n",
              "      <th>91</th>\n",
              "      <td>1970</td>\n",
              "      <td>96</td>\n",
              "      <td>한사람</td>\n",
              "      <td>포크/블루스</td>\n",
              "      <td>양희은</td>\n",
              "      <td>한사람 여기 또 그곁에 둘이 서로 바라보며 웃네 먼훗날 위해 내미는 손 둘이 서로 ...</td>\n",
              "      <td>사람 여기 또 곁 둘 서로 먼훗날 위해 손 둘 서로 마주 잡고 사람 곁 또 사람 둘...</td>\n",
              "    </tr>\n",
              "    <tr>\n",
              "      <th>92</th>\n",
              "      <td>1970</td>\n",
              "      <td>97</td>\n",
              "      <td>한잔의 추억</td>\n",
              "      <td>포크/블루스</td>\n",
              "      <td>이장희</td>\n",
              "      <td>늦은 밤 쓸쓸히 창가에 앉아 꺼져가는 불빛을 바라보면은 어데선가 날 부르는 소리가 ...</td>\n",
              "      <td>밤 창가 불빛 어데선 날 소리 취한 눈 크게 쯤 찬 술잔 위 얼굴 한잔 추억 한잔 ...</td>\n",
              "    </tr>\n",
              "    <tr>\n",
              "      <th>93</th>\n",
              "      <td>1970</td>\n",
              "      <td>98</td>\n",
              "      <td>해뜰 날</td>\n",
              "      <td>성인가요/트로트</td>\n",
              "      <td>송대관</td>\n",
              "      <td>꿈을 안고 왔단다 내가 왔단다 슬픔도 괴로움도 모두 모두 비켜라 안 되는 일 없단다...</td>\n",
              "      <td>꿈 안고 내 슬픔 괴로움 모두 모두 안 일 노력 쨍 해뜰 날 쨍 해뜰 날 몸 괴로웁...</td>\n",
              "    </tr>\n",
              "    <tr>\n",
              "      <th>94</th>\n",
              "      <td>1970</td>\n",
              "      <td>99</td>\n",
              "      <td>해변의 여인</td>\n",
              "      <td>성인가요/트로트</td>\n",
              "      <td>나훈아</td>\n",
              "      <td>물위에 떠있는 황혼에 종이배 말없이 거니는 해변의 여인아 바람에 휘날리는 머리카락 ...</td>\n",
              "      <td>물위 황혼 종이배 말 거니 해변 여인 바람 머리카락 사이 황혼 빛 여인 눈동자 조개...</td>\n",
              "    </tr>\n",
              "    <tr>\n",
              "      <th>95</th>\n",
              "      <td>1970</td>\n",
              "      <td>100</td>\n",
              "      <td>휘파람을 부세요</td>\n",
              "      <td>발라드</td>\n",
              "      <td>정미조</td>\n",
              "      <td>제가 보고 싶을 땐 두 눈을 꼭 감고 나즈막히 소리 내어 휘파람을 부세요 외롭다고 ...</td>\n",
              "      <td>제 보고 땐 두 눈 꼭 감고 나즈 소리 휘파람 부세 땐 두 눈 꼭 감고 나즈 소리 ...</td>\n",
              "    </tr>\n",
              "  </tbody>\n",
              "</table>\n",
              "<p>96 rows × 7 columns</p>\n",
              "</div>\n",
              "      <button class=\"colab-df-convert\" onclick=\"convertToInteractive('df-8d670c97-f7c5-469b-90d9-d08fb9891f38')\"\n",
              "              title=\"Convert this dataframe to an interactive table.\"\n",
              "              style=\"display:none;\">\n",
              "        \n",
              "  <svg xmlns=\"http://www.w3.org/2000/svg\" height=\"24px\"viewBox=\"0 0 24 24\"\n",
              "       width=\"24px\">\n",
              "    <path d=\"M0 0h24v24H0V0z\" fill=\"none\"/>\n",
              "    <path d=\"M18.56 5.44l.94 2.06.94-2.06 2.06-.94-2.06-.94-.94-2.06-.94 2.06-2.06.94zm-11 1L8.5 8.5l.94-2.06 2.06-.94-2.06-.94L8.5 2.5l-.94 2.06-2.06.94zm10 10l.94 2.06.94-2.06 2.06-.94-2.06-.94-.94-2.06-.94 2.06-2.06.94z\"/><path d=\"M17.41 7.96l-1.37-1.37c-.4-.4-.92-.59-1.43-.59-.52 0-1.04.2-1.43.59L10.3 9.45l-7.72 7.72c-.78.78-.78 2.05 0 2.83L4 21.41c.39.39.9.59 1.41.59.51 0 1.02-.2 1.41-.59l7.78-7.78 2.81-2.81c.8-.78.8-2.07 0-2.86zM5.41 20L4 18.59l7.72-7.72 1.47 1.35L5.41 20z\"/>\n",
              "  </svg>\n",
              "      </button>\n",
              "      \n",
              "  <style>\n",
              "    .colab-df-container {\n",
              "      display:flex;\n",
              "      flex-wrap:wrap;\n",
              "      gap: 12px;\n",
              "    }\n",
              "\n",
              "    .colab-df-convert {\n",
              "      background-color: #E8F0FE;\n",
              "      border: none;\n",
              "      border-radius: 50%;\n",
              "      cursor: pointer;\n",
              "      display: none;\n",
              "      fill: #1967D2;\n",
              "      height: 32px;\n",
              "      padding: 0 0 0 0;\n",
              "      width: 32px;\n",
              "    }\n",
              "\n",
              "    .colab-df-convert:hover {\n",
              "      background-color: #E2EBFA;\n",
              "      box-shadow: 0px 1px 2px rgba(60, 64, 67, 0.3), 0px 1px 3px 1px rgba(60, 64, 67, 0.15);\n",
              "      fill: #174EA6;\n",
              "    }\n",
              "\n",
              "    [theme=dark] .colab-df-convert {\n",
              "      background-color: #3B4455;\n",
              "      fill: #D2E3FC;\n",
              "    }\n",
              "\n",
              "    [theme=dark] .colab-df-convert:hover {\n",
              "      background-color: #434B5C;\n",
              "      box-shadow: 0px 1px 3px 1px rgba(0, 0, 0, 0.15);\n",
              "      filter: drop-shadow(0px 1px 2px rgba(0, 0, 0, 0.3));\n",
              "      fill: #FFFFFF;\n",
              "    }\n",
              "  </style>\n",
              "\n",
              "      <script>\n",
              "        const buttonEl =\n",
              "          document.querySelector('#df-8d670c97-f7c5-469b-90d9-d08fb9891f38 button.colab-df-convert');\n",
              "        buttonEl.style.display =\n",
              "          google.colab.kernel.accessAllowed ? 'block' : 'none';\n",
              "\n",
              "        async function convertToInteractive(key) {\n",
              "          const element = document.querySelector('#df-8d670c97-f7c5-469b-90d9-d08fb9891f38');\n",
              "          const dataTable =\n",
              "            await google.colab.kernel.invokeFunction('convertToInteractive',\n",
              "                                                     [key], {});\n",
              "          if (!dataTable) return;\n",
              "\n",
              "          const docLinkHtml = 'Like what you see? Visit the ' +\n",
              "            '<a target=\"_blank\" href=https://colab.research.google.com/notebooks/data_table.ipynb>data table notebook</a>'\n",
              "            + ' to learn more about interactive tables.';\n",
              "          element.innerHTML = '';\n",
              "          dataTable['output_type'] = 'display_data';\n",
              "          await google.colab.output.renderOutput(dataTable, element);\n",
              "          const docLink = document.createElement('div');\n",
              "          docLink.innerHTML = docLinkHtml;\n",
              "          element.appendChild(docLink);\n",
              "        }\n",
              "      </script>\n",
              "    </div>\n",
              "  </div>\n",
              "  "
            ]
          },
          "metadata": {},
          "execution_count": 86
        }
      ]
    },
    {
      "cell_type": "code",
      "source": [
        "tfidf = TfidfVectorizer(stop_words=stopwords)\n",
        "tfidf_matrix = tfidf.fit_transform(df70['lyrics_t'])\n",
        "print(tfidf_matrix.shape)"
      ],
      "metadata": {
        "colab": {
          "base_uri": "https://localhost:8080/"
        },
        "id": "oa6o_nd3YAjD",
        "outputId": "01e9fb32-7053-4a02-d2f0-7f22ccfc5d2c"
      },
      "execution_count": null,
      "outputs": [
        {
          "output_type": "stream",
          "name": "stdout",
          "text": [
            "(96, 665)\n"
          ]
        },
        {
          "output_type": "stream",
          "name": "stderr",
          "text": [
            "/usr/local/lib/python3.7/dist-packages/sklearn/feature_extraction/text.py:401: UserWarning: Your stop_words may be inconsistent with your preprocessing. Tokenizing the stop words generated tokens ['가서', '같은', '것과', '결과에', '결론을', '관계가', '관련이', '그럼에도', '그에', '그치지', '김에', '까닭에', '낫다', '년도', '논하지', '누가', '달려', '되는', '되어', '들면', '들자면', '듯하다', '따르는', '따름이다', '따지지', '때가', '만은', '만이', '많은', '말하면', '말할것도', '몰라도', '몰랏다', '못하다', '미치다', '바꾸어서', '바꿔', '방면으로', '보면', '보아', '부류의', '비길수', '비추어', '뿐만', '사람들', '상대적으로', '생각이다', '서술한바와같이', '쓰여', '아니라', '안다', '안된다', '않고', '않기', '않는다면', '않다면', '않도록', '않으면', '알겠는가', '어쩔수', '없고', '예를', '외에', '요만한', '우에', '위에서', '이로', '이르다', '이와', '이유는', '인하여', '임에', '점에서', '정도에', '정도의', '종합한것과같이', '주저하지', '줄은', '지경이다', '틀림없다', '편이', '하기', '하기만', '하는', '하는것만', '하는것이', '하면', '하지', '한하다', '할수록', '함으로써', '해도', '해서는', '형식으로', '힘이'] not in stop_words.\n",
            "  % sorted(inconsistent)\n"
          ]
        }
      ]
    },
    {
      "cell_type": "code",
      "source": [
        "word_count70 = pd.DataFrame({\n",
        "    '단어': tfidf.get_feature_names(),\n",
        "    'tf-idf': tfidf_matrix.sum(axis=0).flat\n",
        "})"
      ],
      "metadata": {
        "colab": {
          "base_uri": "https://localhost:8080/"
        },
        "id": "Wk_AmE1RKy2z",
        "outputId": "44b3034b-4839-4be8-b49a-bd6027779081"
      },
      "execution_count": null,
      "outputs": [
        {
          "output_type": "stream",
          "name": "stderr",
          "text": [
            "/usr/local/lib/python3.7/dist-packages/sklearn/utils/deprecation.py:87: FutureWarning: Function get_feature_names is deprecated; get_feature_names is deprecated in 1.0 and will be removed in 1.2. Please use get_feature_names_out instead.\n",
            "  warnings.warn(msg, category=FutureWarning)\n"
          ]
        }
      ]
    },
    {
      "cell_type": "code",
      "source": [
        "word_count70.sort_values('tf-idf', ascending=False).head(10)"
      ],
      "metadata": {
        "colab": {
          "base_uri": "https://localhost:8080/",
          "height": 363
        },
        "id": "oH4uqvr3K3jY",
        "outputId": "24c4233c-af91-4863-9811-c2bf743f5826"
      },
      "execution_count": null,
      "outputs": [
        {
          "output_type": "execute_result",
          "data": {
            "text/plain": [
              "     단어    tf-idf\n",
              "320  사랑  8.469884\n",
              "207  마음  5.650371\n",
              "319  사람  5.646274\n",
              "69   그대  4.956854\n",
              "139  눈물  2.880280\n",
              "587  추억  2.753804\n",
              "355  세월  2.640072\n",
              "337  생각  2.590047\n",
              "130  노래  2.440626\n",
              "379  슬픔  2.425240"
            ],
            "text/html": [
              "\n",
              "  <div id=\"df-4f3d3e86-8105-4adf-a819-2624c9a6f09b\">\n",
              "    <div class=\"colab-df-container\">\n",
              "      <div>\n",
              "<style scoped>\n",
              "    .dataframe tbody tr th:only-of-type {\n",
              "        vertical-align: middle;\n",
              "    }\n",
              "\n",
              "    .dataframe tbody tr th {\n",
              "        vertical-align: top;\n",
              "    }\n",
              "\n",
              "    .dataframe thead th {\n",
              "        text-align: right;\n",
              "    }\n",
              "</style>\n",
              "<table border=\"1\" class=\"dataframe\">\n",
              "  <thead>\n",
              "    <tr style=\"text-align: right;\">\n",
              "      <th></th>\n",
              "      <th>단어</th>\n",
              "      <th>tf-idf</th>\n",
              "    </tr>\n",
              "  </thead>\n",
              "  <tbody>\n",
              "    <tr>\n",
              "      <th>320</th>\n",
              "      <td>사랑</td>\n",
              "      <td>8.469884</td>\n",
              "    </tr>\n",
              "    <tr>\n",
              "      <th>207</th>\n",
              "      <td>마음</td>\n",
              "      <td>5.650371</td>\n",
              "    </tr>\n",
              "    <tr>\n",
              "      <th>319</th>\n",
              "      <td>사람</td>\n",
              "      <td>5.646274</td>\n",
              "    </tr>\n",
              "    <tr>\n",
              "      <th>69</th>\n",
              "      <td>그대</td>\n",
              "      <td>4.956854</td>\n",
              "    </tr>\n",
              "    <tr>\n",
              "      <th>139</th>\n",
              "      <td>눈물</td>\n",
              "      <td>2.880280</td>\n",
              "    </tr>\n",
              "    <tr>\n",
              "      <th>587</th>\n",
              "      <td>추억</td>\n",
              "      <td>2.753804</td>\n",
              "    </tr>\n",
              "    <tr>\n",
              "      <th>355</th>\n",
              "      <td>세월</td>\n",
              "      <td>2.640072</td>\n",
              "    </tr>\n",
              "    <tr>\n",
              "      <th>337</th>\n",
              "      <td>생각</td>\n",
              "      <td>2.590047</td>\n",
              "    </tr>\n",
              "    <tr>\n",
              "      <th>130</th>\n",
              "      <td>노래</td>\n",
              "      <td>2.440626</td>\n",
              "    </tr>\n",
              "    <tr>\n",
              "      <th>379</th>\n",
              "      <td>슬픔</td>\n",
              "      <td>2.425240</td>\n",
              "    </tr>\n",
              "  </tbody>\n",
              "</table>\n",
              "</div>\n",
              "      <button class=\"colab-df-convert\" onclick=\"convertToInteractive('df-4f3d3e86-8105-4adf-a819-2624c9a6f09b')\"\n",
              "              title=\"Convert this dataframe to an interactive table.\"\n",
              "              style=\"display:none;\">\n",
              "        \n",
              "  <svg xmlns=\"http://www.w3.org/2000/svg\" height=\"24px\"viewBox=\"0 0 24 24\"\n",
              "       width=\"24px\">\n",
              "    <path d=\"M0 0h24v24H0V0z\" fill=\"none\"/>\n",
              "    <path d=\"M18.56 5.44l.94 2.06.94-2.06 2.06-.94-2.06-.94-.94-2.06-.94 2.06-2.06.94zm-11 1L8.5 8.5l.94-2.06 2.06-.94-2.06-.94L8.5 2.5l-.94 2.06-2.06.94zm10 10l.94 2.06.94-2.06 2.06-.94-2.06-.94-.94-2.06-.94 2.06-2.06.94z\"/><path d=\"M17.41 7.96l-1.37-1.37c-.4-.4-.92-.59-1.43-.59-.52 0-1.04.2-1.43.59L10.3 9.45l-7.72 7.72c-.78.78-.78 2.05 0 2.83L4 21.41c.39.39.9.59 1.41.59.51 0 1.02-.2 1.41-.59l7.78-7.78 2.81-2.81c.8-.78.8-2.07 0-2.86zM5.41 20L4 18.59l7.72-7.72 1.47 1.35L5.41 20z\"/>\n",
              "  </svg>\n",
              "      </button>\n",
              "      \n",
              "  <style>\n",
              "    .colab-df-container {\n",
              "      display:flex;\n",
              "      flex-wrap:wrap;\n",
              "      gap: 12px;\n",
              "    }\n",
              "\n",
              "    .colab-df-convert {\n",
              "      background-color: #E8F0FE;\n",
              "      border: none;\n",
              "      border-radius: 50%;\n",
              "      cursor: pointer;\n",
              "      display: none;\n",
              "      fill: #1967D2;\n",
              "      height: 32px;\n",
              "      padding: 0 0 0 0;\n",
              "      width: 32px;\n",
              "    }\n",
              "\n",
              "    .colab-df-convert:hover {\n",
              "      background-color: #E2EBFA;\n",
              "      box-shadow: 0px 1px 2px rgba(60, 64, 67, 0.3), 0px 1px 3px 1px rgba(60, 64, 67, 0.15);\n",
              "      fill: #174EA6;\n",
              "    }\n",
              "\n",
              "    [theme=dark] .colab-df-convert {\n",
              "      background-color: #3B4455;\n",
              "      fill: #D2E3FC;\n",
              "    }\n",
              "\n",
              "    [theme=dark] .colab-df-convert:hover {\n",
              "      background-color: #434B5C;\n",
              "      box-shadow: 0px 1px 3px 1px rgba(0, 0, 0, 0.15);\n",
              "      filter: drop-shadow(0px 1px 2px rgba(0, 0, 0, 0.3));\n",
              "      fill: #FFFFFF;\n",
              "    }\n",
              "  </style>\n",
              "\n",
              "      <script>\n",
              "        const buttonEl =\n",
              "          document.querySelector('#df-4f3d3e86-8105-4adf-a819-2624c9a6f09b button.colab-df-convert');\n",
              "        buttonEl.style.display =\n",
              "          google.colab.kernel.accessAllowed ? 'block' : 'none';\n",
              "\n",
              "        async function convertToInteractive(key) {\n",
              "          const element = document.querySelector('#df-4f3d3e86-8105-4adf-a819-2624c9a6f09b');\n",
              "          const dataTable =\n",
              "            await google.colab.kernel.invokeFunction('convertToInteractive',\n",
              "                                                     [key], {});\n",
              "          if (!dataTable) return;\n",
              "\n",
              "          const docLinkHtml = 'Like what you see? Visit the ' +\n",
              "            '<a target=\"_blank\" href=https://colab.research.google.com/notebooks/data_table.ipynb>data table notebook</a>'\n",
              "            + ' to learn more about interactive tables.';\n",
              "          element.innerHTML = '';\n",
              "          dataTable['output_type'] = 'display_data';\n",
              "          await google.colab.output.renderOutput(dataTable, element);\n",
              "          const docLink = document.createElement('div');\n",
              "          docLink.innerHTML = docLinkHtml;\n",
              "          element.appendChild(docLink);\n",
              "        }\n",
              "      </script>\n",
              "    </div>\n",
              "  </div>\n",
              "  "
            ]
          },
          "metadata": {},
          "execution_count": 89
        }
      ]
    },
    {
      "cell_type": "markdown",
      "source": [
        "80년도"
      ],
      "metadata": {
        "id": "wZtSCio2e9Ue"
      }
    },
    {
      "cell_type": "code",
      "source": [
        "df80 = pd.read_csv('/content/drive/MyDrive/textmining_rawdata80.csv')"
      ],
      "metadata": {
        "id": "cnvqbOvgnWp6"
      },
      "execution_count": null,
      "outputs": []
    },
    {
      "cell_type": "code",
      "source": [
        "okt = Okt()\n",
        "tokenized = []\n",
        "for sentence in df80['lyrics']: \n",
        "    tokens = okt.nouns(sentence)\n",
        "    tokenize = \" \".join(tokens) \n",
        "    tokenized.append(tokenize) \n",
        "df80[\"lyrics_t\"] = pd.DataFrame(tokenized)"
      ],
      "metadata": {
        "id": "yRX6i7QvmclT"
      },
      "execution_count": null,
      "outputs": []
    },
    {
      "cell_type": "code",
      "source": [
        "df80 = df80.drop(['lyrics_t'], axis =1)"
      ],
      "metadata": {
        "id": "otPy85PZfAj-"
      },
      "execution_count": null,
      "outputs": []
    },
    {
      "cell_type": "code",
      "source": [
        "df80"
      ],
      "metadata": {
        "id": "8jha-kPifFJu"
      },
      "execution_count": null,
      "outputs": []
    },
    {
      "cell_type": "code",
      "source": [
        "tfidf = TfidfVectorizer(stop_words=stopwords)\n",
        "tfidf_matrix = tfidf.fit_transform(df80['lyrics_t'])\n",
        "print(tfidf_matrix.shape)"
      ],
      "metadata": {
        "id": "KFEH9jIJgx5S"
      },
      "execution_count": null,
      "outputs": []
    },
    {
      "cell_type": "code",
      "source": [
        "word_count80 = pd.DataFrame({\n",
        "    '단어': tfidf.get_feature_names(),\n",
        "    'tf-idf': tfidf_matrix.sum(axis=0).flat\n",
        "})"
      ],
      "metadata": {
        "id": "Dr-JjeygneuR"
      },
      "execution_count": null,
      "outputs": []
    },
    {
      "cell_type": "code",
      "source": [
        "word_count80.sort_values('tf-idf', ascending=False).head(10)"
      ],
      "metadata": {
        "id": "8P3BVeQknhvw",
        "colab": {
          "base_uri": "https://localhost:8080/",
          "height": 363
        },
        "outputId": "efb03f33-3e4c-4e5e-cd11-c277fe16a331"
      },
      "execution_count": null,
      "outputs": [
        {
          "output_type": "execute_result",
          "data": {
            "text/plain": [
              "     단어     tf-idf\n",
              "290  사랑  12.880235\n",
              "65   그대  11.390547\n",
              "186  마음   9.181263\n",
              "10   가슴   5.094256\n",
              "289  사람   5.068631\n",
              "233  바람   5.063685\n",
              "126  눈물   4.100261\n",
              "539  추억   3.391158\n",
              "442  이별   2.799439\n",
              "304  생각   2.724399"
            ],
            "text/html": [
              "\n",
              "  <div id=\"df-3325e9c3-a8e1-4fb4-86ba-751058bf8c73\">\n",
              "    <div class=\"colab-df-container\">\n",
              "      <div>\n",
              "<style scoped>\n",
              "    .dataframe tbody tr th:only-of-type {\n",
              "        vertical-align: middle;\n",
              "    }\n",
              "\n",
              "    .dataframe tbody tr th {\n",
              "        vertical-align: top;\n",
              "    }\n",
              "\n",
              "    .dataframe thead th {\n",
              "        text-align: right;\n",
              "    }\n",
              "</style>\n",
              "<table border=\"1\" class=\"dataframe\">\n",
              "  <thead>\n",
              "    <tr style=\"text-align: right;\">\n",
              "      <th></th>\n",
              "      <th>단어</th>\n",
              "      <th>tf-idf</th>\n",
              "    </tr>\n",
              "  </thead>\n",
              "  <tbody>\n",
              "    <tr>\n",
              "      <th>290</th>\n",
              "      <td>사랑</td>\n",
              "      <td>12.880235</td>\n",
              "    </tr>\n",
              "    <tr>\n",
              "      <th>65</th>\n",
              "      <td>그대</td>\n",
              "      <td>11.390547</td>\n",
              "    </tr>\n",
              "    <tr>\n",
              "      <th>186</th>\n",
              "      <td>마음</td>\n",
              "      <td>9.181263</td>\n",
              "    </tr>\n",
              "    <tr>\n",
              "      <th>10</th>\n",
              "      <td>가슴</td>\n",
              "      <td>5.094256</td>\n",
              "    </tr>\n",
              "    <tr>\n",
              "      <th>289</th>\n",
              "      <td>사람</td>\n",
              "      <td>5.068631</td>\n",
              "    </tr>\n",
              "    <tr>\n",
              "      <th>233</th>\n",
              "      <td>바람</td>\n",
              "      <td>5.063685</td>\n",
              "    </tr>\n",
              "    <tr>\n",
              "      <th>126</th>\n",
              "      <td>눈물</td>\n",
              "      <td>4.100261</td>\n",
              "    </tr>\n",
              "    <tr>\n",
              "      <th>539</th>\n",
              "      <td>추억</td>\n",
              "      <td>3.391158</td>\n",
              "    </tr>\n",
              "    <tr>\n",
              "      <th>442</th>\n",
              "      <td>이별</td>\n",
              "      <td>2.799439</td>\n",
              "    </tr>\n",
              "    <tr>\n",
              "      <th>304</th>\n",
              "      <td>생각</td>\n",
              "      <td>2.724399</td>\n",
              "    </tr>\n",
              "  </tbody>\n",
              "</table>\n",
              "</div>\n",
              "      <button class=\"colab-df-convert\" onclick=\"convertToInteractive('df-3325e9c3-a8e1-4fb4-86ba-751058bf8c73')\"\n",
              "              title=\"Convert this dataframe to an interactive table.\"\n",
              "              style=\"display:none;\">\n",
              "        \n",
              "  <svg xmlns=\"http://www.w3.org/2000/svg\" height=\"24px\"viewBox=\"0 0 24 24\"\n",
              "       width=\"24px\">\n",
              "    <path d=\"M0 0h24v24H0V0z\" fill=\"none\"/>\n",
              "    <path d=\"M18.56 5.44l.94 2.06.94-2.06 2.06-.94-2.06-.94-.94-2.06-.94 2.06-2.06.94zm-11 1L8.5 8.5l.94-2.06 2.06-.94-2.06-.94L8.5 2.5l-.94 2.06-2.06.94zm10 10l.94 2.06.94-2.06 2.06-.94-2.06-.94-.94-2.06-.94 2.06-2.06.94z\"/><path d=\"M17.41 7.96l-1.37-1.37c-.4-.4-.92-.59-1.43-.59-.52 0-1.04.2-1.43.59L10.3 9.45l-7.72 7.72c-.78.78-.78 2.05 0 2.83L4 21.41c.39.39.9.59 1.41.59.51 0 1.02-.2 1.41-.59l7.78-7.78 2.81-2.81c.8-.78.8-2.07 0-2.86zM5.41 20L4 18.59l7.72-7.72 1.47 1.35L5.41 20z\"/>\n",
              "  </svg>\n",
              "      </button>\n",
              "      \n",
              "  <style>\n",
              "    .colab-df-container {\n",
              "      display:flex;\n",
              "      flex-wrap:wrap;\n",
              "      gap: 12px;\n",
              "    }\n",
              "\n",
              "    .colab-df-convert {\n",
              "      background-color: #E8F0FE;\n",
              "      border: none;\n",
              "      border-radius: 50%;\n",
              "      cursor: pointer;\n",
              "      display: none;\n",
              "      fill: #1967D2;\n",
              "      height: 32px;\n",
              "      padding: 0 0 0 0;\n",
              "      width: 32px;\n",
              "    }\n",
              "\n",
              "    .colab-df-convert:hover {\n",
              "      background-color: #E2EBFA;\n",
              "      box-shadow: 0px 1px 2px rgba(60, 64, 67, 0.3), 0px 1px 3px 1px rgba(60, 64, 67, 0.15);\n",
              "      fill: #174EA6;\n",
              "    }\n",
              "\n",
              "    [theme=dark] .colab-df-convert {\n",
              "      background-color: #3B4455;\n",
              "      fill: #D2E3FC;\n",
              "    }\n",
              "\n",
              "    [theme=dark] .colab-df-convert:hover {\n",
              "      background-color: #434B5C;\n",
              "      box-shadow: 0px 1px 3px 1px rgba(0, 0, 0, 0.15);\n",
              "      filter: drop-shadow(0px 1px 2px rgba(0, 0, 0, 0.3));\n",
              "      fill: #FFFFFF;\n",
              "    }\n",
              "  </style>\n",
              "\n",
              "      <script>\n",
              "        const buttonEl =\n",
              "          document.querySelector('#df-3325e9c3-a8e1-4fb4-86ba-751058bf8c73 button.colab-df-convert');\n",
              "        buttonEl.style.display =\n",
              "          google.colab.kernel.accessAllowed ? 'block' : 'none';\n",
              "\n",
              "        async function convertToInteractive(key) {\n",
              "          const element = document.querySelector('#df-3325e9c3-a8e1-4fb4-86ba-751058bf8c73');\n",
              "          const dataTable =\n",
              "            await google.colab.kernel.invokeFunction('convertToInteractive',\n",
              "                                                     [key], {});\n",
              "          if (!dataTable) return;\n",
              "\n",
              "          const docLinkHtml = 'Like what you see? Visit the ' +\n",
              "            '<a target=\"_blank\" href=https://colab.research.google.com/notebooks/data_table.ipynb>data table notebook</a>'\n",
              "            + ' to learn more about interactive tables.';\n",
              "          element.innerHTML = '';\n",
              "          dataTable['output_type'] = 'display_data';\n",
              "          await google.colab.output.renderOutput(dataTable, element);\n",
              "          const docLink = document.createElement('div');\n",
              "          docLink.innerHTML = docLinkHtml;\n",
              "          element.appendChild(docLink);\n",
              "        }\n",
              "      </script>\n",
              "    </div>\n",
              "  </div>\n",
              "  "
            ]
          },
          "metadata": {},
          "execution_count": 94
        }
      ]
    },
    {
      "cell_type": "markdown",
      "source": [
        "90년대"
      ],
      "metadata": {
        "id": "qBC2hifTfePf"
      }
    },
    {
      "cell_type": "code",
      "source": [
        "df90 = pd.read_csv('/content/drive/MyDrive/textmining_rawdata90.csv')"
      ],
      "metadata": {
        "id": "j34SB-nnn-RF"
      },
      "execution_count": null,
      "outputs": []
    },
    {
      "cell_type": "code",
      "source": [
        "okt = Okt()\n",
        "tokenized = []\n",
        "for sentence in df90['lyrics']: \n",
        "    tokens = okt.nouns(sentence)\n",
        "    tokenize = \" \".join(tokens) \n",
        "    tokenized.append(tokenize) \n",
        "df90[\"lyrics_t\"] = pd.DataFrame(tokenized)"
      ],
      "metadata": {
        "id": "XbLQZeM7fg0m"
      },
      "execution_count": null,
      "outputs": []
    },
    {
      "cell_type": "code",
      "source": [
        "df90"
      ],
      "metadata": {
        "colab": {
          "base_uri": "https://localhost:8080/",
          "height": 424
        },
        "id": "B-1ethZ_fiLi",
        "outputId": "68cbeed9-6fd2-4243-be23-891805480f09"
      },
      "execution_count": null,
      "outputs": [
        {
          "output_type": "execute_result",
          "data": {
            "text/plain": [
              "    year  rank                     name   genre lyricist  \\\n",
              "0   1990     1  내사랑 내곁에 (응답하라 1988 삽입곡)     발라드      오태호   \n",
              "1   1990     2                   너를 사랑해     발라드      최수정   \n",
              "2   1990     3                 다시만난 너에게    록/메탈      김민철   \n",
              "3   1990     4                    나의 노래  포크/블루스      김광석   \n",
              "4   1990     5               아주 오래된 연인들     발라드      정석원   \n",
              "..   ...   ...                      ...     ...      ...   \n",
              "95  1990    96               내가 너를 느끼듯이     발라드      손지창   \n",
              "96  1990    97              추억의 책장을 넘기면     발라드      송시현   \n",
              "97  1990    98                       사계  포크/블루스      문승현   \n",
              "98  1990    99                   사랑의 서약     발라드      김광진   \n",
              "99  1990   100                    어떤 이별     발라드      박창학   \n",
              "\n",
              "                                               lyrics  \\\n",
              "0   나의 모든 사랑이 떠나가는 날이\\n 당신의 그 웃음 뒤에서\\n 함께하는데\\n 철이 ...   \n",
              "1   아침이 오는 소리에 문득\\n 잠에서 깨어\\n 내 품안에 잠든 너에게\\n 워우우워 우...   \n",
              "2   내가 처음 보았던 기억속에\\n 파란 하늘빛 미소 여전한 넌\\n 지난 시간 세월을 얘...   \n",
              "3   아무 것도 가진 것 없는 이에게\\n 시와 노래는 애달픈 양식\\n 아무도 뵈지 않는 ...   \n",
              "4   저녁이 되면 의무감으로 전화를 하고\\n 관심도 없는 서로의 일과를 묻곤 하지\\n 가...   \n",
              "..                                                ...   \n",
              "95  사랑했던 그모든 기억이 모두 거짓으로 느껴지고\\n \\n 돌이킬수 없는 이별에 자꾸만...   \n",
              "96  가물거리는\\n 추억의 책장을 넘기면\\n 오 끝내 이루지 못한\\n 아쉬움과 초라한 속...   \n",
              "97  빨간 꽃 노란 꽃\\n 꽃밭 가득 피어도\\n 하얀 나비 꽃\\n 나비 담장위에 날아도\\...   \n",
              "98  그토록 바라던 시간이 왔어요\\n 모든 사람의 축복에\\n 사랑의 서약을 하고 있죠\\n...   \n",
              "99  그래 내 모습을 볼 순 없지만\\n 더이상 어쩔 수 없는거야\\n 영원한 꿈을 믿기엔 ...   \n",
              "\n",
              "                                             lyrics_t  \n",
              "0   나 모든 사랑 날 당신 그 웃음 뒤 철 욕심 그 미련 당신 건 시간 집 향 약속 그...  \n",
              "1   아침 소리 문득 잠 내 너 워 워 워워 너 사랑 내 때 너 항상 내 곁 어깨 워 워...  \n",
              "2   내 처음 속 파란 하늘빛 미소 넌 지난 시간 세월 얘기 듯 모습 손 밀고 나 역시 ...  \n",
              "3   아무 것 것 이 시 노래 양식 아무 암흑 속 조그만 다린 빛 나 노래 나 힘 나 노...  \n",
              "4   저녁 의무감 전화 관심 서로 일과 가끔 사랑 한단 말로 서로 위로 것 예전 처음 만...  \n",
              "..                                                ...  \n",
              "95  사랑 모든 기억 모두 거짓 이별 자꾸만 슬픔 그대 나 못 마음 어둠 네 말 그 외면...  \n",
              "96  가물 거리 추억 책장 오 끝내 못 아쉬움 속죄 이야기 창틀 먼지 오 가슴 쌓이네 젠...  \n",
              "97  꽃 꽃 꽃밭 가득 피어 나비 꽃 나비 담장 위 봄바람 불 또 불어 미싱 도 구름 솜...  \n",
              "98  시간 모든 사람 축복 사랑 서약 세월 때 지금 내 곁 서로 위로 줄 수 시간 앞 우...  \n",
              "99  내 모습 볼 순 더 이상 수 꿈 젠 생각 우린 날 오히려 서로 가슴속 바램 알기 우...  \n",
              "\n",
              "[100 rows x 7 columns]"
            ],
            "text/html": [
              "\n",
              "  <div id=\"df-78146ed3-861f-4663-93ea-d03bddde101a\">\n",
              "    <div class=\"colab-df-container\">\n",
              "      <div>\n",
              "<style scoped>\n",
              "    .dataframe tbody tr th:only-of-type {\n",
              "        vertical-align: middle;\n",
              "    }\n",
              "\n",
              "    .dataframe tbody tr th {\n",
              "        vertical-align: top;\n",
              "    }\n",
              "\n",
              "    .dataframe thead th {\n",
              "        text-align: right;\n",
              "    }\n",
              "</style>\n",
              "<table border=\"1\" class=\"dataframe\">\n",
              "  <thead>\n",
              "    <tr style=\"text-align: right;\">\n",
              "      <th></th>\n",
              "      <th>year</th>\n",
              "      <th>rank</th>\n",
              "      <th>name</th>\n",
              "      <th>genre</th>\n",
              "      <th>lyricist</th>\n",
              "      <th>lyrics</th>\n",
              "      <th>lyrics_t</th>\n",
              "    </tr>\n",
              "  </thead>\n",
              "  <tbody>\n",
              "    <tr>\n",
              "      <th>0</th>\n",
              "      <td>1990</td>\n",
              "      <td>1</td>\n",
              "      <td>내사랑 내곁에 (응답하라 1988 삽입곡)</td>\n",
              "      <td>발라드</td>\n",
              "      <td>오태호</td>\n",
              "      <td>나의 모든 사랑이 떠나가는 날이\\n 당신의 그 웃음 뒤에서\\n 함께하는데\\n 철이 ...</td>\n",
              "      <td>나 모든 사랑 날 당신 그 웃음 뒤 철 욕심 그 미련 당신 건 시간 집 향 약속 그...</td>\n",
              "    </tr>\n",
              "    <tr>\n",
              "      <th>1</th>\n",
              "      <td>1990</td>\n",
              "      <td>2</td>\n",
              "      <td>너를 사랑해</td>\n",
              "      <td>발라드</td>\n",
              "      <td>최수정</td>\n",
              "      <td>아침이 오는 소리에 문득\\n 잠에서 깨어\\n 내 품안에 잠든 너에게\\n 워우우워 우...</td>\n",
              "      <td>아침 소리 문득 잠 내 너 워 워 워워 너 사랑 내 때 너 항상 내 곁 어깨 워 워...</td>\n",
              "    </tr>\n",
              "    <tr>\n",
              "      <th>2</th>\n",
              "      <td>1990</td>\n",
              "      <td>3</td>\n",
              "      <td>다시만난 너에게</td>\n",
              "      <td>록/메탈</td>\n",
              "      <td>김민철</td>\n",
              "      <td>내가 처음 보았던 기억속에\\n 파란 하늘빛 미소 여전한 넌\\n 지난 시간 세월을 얘...</td>\n",
              "      <td>내 처음 속 파란 하늘빛 미소 넌 지난 시간 세월 얘기 듯 모습 손 밀고 나 역시 ...</td>\n",
              "    </tr>\n",
              "    <tr>\n",
              "      <th>3</th>\n",
              "      <td>1990</td>\n",
              "      <td>4</td>\n",
              "      <td>나의 노래</td>\n",
              "      <td>포크/블루스</td>\n",
              "      <td>김광석</td>\n",
              "      <td>아무 것도 가진 것 없는 이에게\\n 시와 노래는 애달픈 양식\\n 아무도 뵈지 않는 ...</td>\n",
              "      <td>아무 것 것 이 시 노래 양식 아무 암흑 속 조그만 다린 빛 나 노래 나 힘 나 노...</td>\n",
              "    </tr>\n",
              "    <tr>\n",
              "      <th>4</th>\n",
              "      <td>1990</td>\n",
              "      <td>5</td>\n",
              "      <td>아주 오래된 연인들</td>\n",
              "      <td>발라드</td>\n",
              "      <td>정석원</td>\n",
              "      <td>저녁이 되면 의무감으로 전화를 하고\\n 관심도 없는 서로의 일과를 묻곤 하지\\n 가...</td>\n",
              "      <td>저녁 의무감 전화 관심 서로 일과 가끔 사랑 한단 말로 서로 위로 것 예전 처음 만...</td>\n",
              "    </tr>\n",
              "    <tr>\n",
              "      <th>...</th>\n",
              "      <td>...</td>\n",
              "      <td>...</td>\n",
              "      <td>...</td>\n",
              "      <td>...</td>\n",
              "      <td>...</td>\n",
              "      <td>...</td>\n",
              "      <td>...</td>\n",
              "    </tr>\n",
              "    <tr>\n",
              "      <th>95</th>\n",
              "      <td>1990</td>\n",
              "      <td>96</td>\n",
              "      <td>내가 너를 느끼듯이</td>\n",
              "      <td>발라드</td>\n",
              "      <td>손지창</td>\n",
              "      <td>사랑했던 그모든 기억이 모두 거짓으로 느껴지고\\n \\n 돌이킬수 없는 이별에 자꾸만...</td>\n",
              "      <td>사랑 모든 기억 모두 거짓 이별 자꾸만 슬픔 그대 나 못 마음 어둠 네 말 그 외면...</td>\n",
              "    </tr>\n",
              "    <tr>\n",
              "      <th>96</th>\n",
              "      <td>1990</td>\n",
              "      <td>97</td>\n",
              "      <td>추억의 책장을 넘기면</td>\n",
              "      <td>발라드</td>\n",
              "      <td>송시현</td>\n",
              "      <td>가물거리는\\n 추억의 책장을 넘기면\\n 오 끝내 이루지 못한\\n 아쉬움과 초라한 속...</td>\n",
              "      <td>가물 거리 추억 책장 오 끝내 못 아쉬움 속죄 이야기 창틀 먼지 오 가슴 쌓이네 젠...</td>\n",
              "    </tr>\n",
              "    <tr>\n",
              "      <th>97</th>\n",
              "      <td>1990</td>\n",
              "      <td>98</td>\n",
              "      <td>사계</td>\n",
              "      <td>포크/블루스</td>\n",
              "      <td>문승현</td>\n",
              "      <td>빨간 꽃 노란 꽃\\n 꽃밭 가득 피어도\\n 하얀 나비 꽃\\n 나비 담장위에 날아도\\...</td>\n",
              "      <td>꽃 꽃 꽃밭 가득 피어 나비 꽃 나비 담장 위 봄바람 불 또 불어 미싱 도 구름 솜...</td>\n",
              "    </tr>\n",
              "    <tr>\n",
              "      <th>98</th>\n",
              "      <td>1990</td>\n",
              "      <td>99</td>\n",
              "      <td>사랑의 서약</td>\n",
              "      <td>발라드</td>\n",
              "      <td>김광진</td>\n",
              "      <td>그토록 바라던 시간이 왔어요\\n 모든 사람의 축복에\\n 사랑의 서약을 하고 있죠\\n...</td>\n",
              "      <td>시간 모든 사람 축복 사랑 서약 세월 때 지금 내 곁 서로 위로 줄 수 시간 앞 우...</td>\n",
              "    </tr>\n",
              "    <tr>\n",
              "      <th>99</th>\n",
              "      <td>1990</td>\n",
              "      <td>100</td>\n",
              "      <td>어떤 이별</td>\n",
              "      <td>발라드</td>\n",
              "      <td>박창학</td>\n",
              "      <td>그래 내 모습을 볼 순 없지만\\n 더이상 어쩔 수 없는거야\\n 영원한 꿈을 믿기엔 ...</td>\n",
              "      <td>내 모습 볼 순 더 이상 수 꿈 젠 생각 우린 날 오히려 서로 가슴속 바램 알기 우...</td>\n",
              "    </tr>\n",
              "  </tbody>\n",
              "</table>\n",
              "<p>100 rows × 7 columns</p>\n",
              "</div>\n",
              "      <button class=\"colab-df-convert\" onclick=\"convertToInteractive('df-78146ed3-861f-4663-93ea-d03bddde101a')\"\n",
              "              title=\"Convert this dataframe to an interactive table.\"\n",
              "              style=\"display:none;\">\n",
              "        \n",
              "  <svg xmlns=\"http://www.w3.org/2000/svg\" height=\"24px\"viewBox=\"0 0 24 24\"\n",
              "       width=\"24px\">\n",
              "    <path d=\"M0 0h24v24H0V0z\" fill=\"none\"/>\n",
              "    <path d=\"M18.56 5.44l.94 2.06.94-2.06 2.06-.94-2.06-.94-.94-2.06-.94 2.06-2.06.94zm-11 1L8.5 8.5l.94-2.06 2.06-.94-2.06-.94L8.5 2.5l-.94 2.06-2.06.94zm10 10l.94 2.06.94-2.06 2.06-.94-2.06-.94-.94-2.06-.94 2.06-2.06.94z\"/><path d=\"M17.41 7.96l-1.37-1.37c-.4-.4-.92-.59-1.43-.59-.52 0-1.04.2-1.43.59L10.3 9.45l-7.72 7.72c-.78.78-.78 2.05 0 2.83L4 21.41c.39.39.9.59 1.41.59.51 0 1.02-.2 1.41-.59l7.78-7.78 2.81-2.81c.8-.78.8-2.07 0-2.86zM5.41 20L4 18.59l7.72-7.72 1.47 1.35L5.41 20z\"/>\n",
              "  </svg>\n",
              "      </button>\n",
              "      \n",
              "  <style>\n",
              "    .colab-df-container {\n",
              "      display:flex;\n",
              "      flex-wrap:wrap;\n",
              "      gap: 12px;\n",
              "    }\n",
              "\n",
              "    .colab-df-convert {\n",
              "      background-color: #E8F0FE;\n",
              "      border: none;\n",
              "      border-radius: 50%;\n",
              "      cursor: pointer;\n",
              "      display: none;\n",
              "      fill: #1967D2;\n",
              "      height: 32px;\n",
              "      padding: 0 0 0 0;\n",
              "      width: 32px;\n",
              "    }\n",
              "\n",
              "    .colab-df-convert:hover {\n",
              "      background-color: #E2EBFA;\n",
              "      box-shadow: 0px 1px 2px rgba(60, 64, 67, 0.3), 0px 1px 3px 1px rgba(60, 64, 67, 0.15);\n",
              "      fill: #174EA6;\n",
              "    }\n",
              "\n",
              "    [theme=dark] .colab-df-convert {\n",
              "      background-color: #3B4455;\n",
              "      fill: #D2E3FC;\n",
              "    }\n",
              "\n",
              "    [theme=dark] .colab-df-convert:hover {\n",
              "      background-color: #434B5C;\n",
              "      box-shadow: 0px 1px 3px 1px rgba(0, 0, 0, 0.15);\n",
              "      filter: drop-shadow(0px 1px 2px rgba(0, 0, 0, 0.3));\n",
              "      fill: #FFFFFF;\n",
              "    }\n",
              "  </style>\n",
              "\n",
              "      <script>\n",
              "        const buttonEl =\n",
              "          document.querySelector('#df-78146ed3-861f-4663-93ea-d03bddde101a button.colab-df-convert');\n",
              "        buttonEl.style.display =\n",
              "          google.colab.kernel.accessAllowed ? 'block' : 'none';\n",
              "\n",
              "        async function convertToInteractive(key) {\n",
              "          const element = document.querySelector('#df-78146ed3-861f-4663-93ea-d03bddde101a');\n",
              "          const dataTable =\n",
              "            await google.colab.kernel.invokeFunction('convertToInteractive',\n",
              "                                                     [key], {});\n",
              "          if (!dataTable) return;\n",
              "\n",
              "          const docLinkHtml = 'Like what you see? Visit the ' +\n",
              "            '<a target=\"_blank\" href=https://colab.research.google.com/notebooks/data_table.ipynb>data table notebook</a>'\n",
              "            + ' to learn more about interactive tables.';\n",
              "          element.innerHTML = '';\n",
              "          dataTable['output_type'] = 'display_data';\n",
              "          await google.colab.output.renderOutput(dataTable, element);\n",
              "          const docLink = document.createElement('div');\n",
              "          docLink.innerHTML = docLinkHtml;\n",
              "          element.appendChild(docLink);\n",
              "        }\n",
              "      </script>\n",
              "    </div>\n",
              "  </div>\n",
              "  "
            ]
          },
          "metadata": {},
          "execution_count": 96
        }
      ]
    },
    {
      "cell_type": "code",
      "source": [
        "tfidf = TfidfVectorizer(stop_words=stopwords)\n",
        "tfidf_matrix = tfidf.fit_transform(df90['lyrics_t'])\n",
        "print(tfidf_matrix.shape)"
      ],
      "metadata": {
        "colab": {
          "base_uri": "https://localhost:8080/"
        },
        "id": "7kkYY4_8oGhW",
        "outputId": "4b41702a-5ea2-4390-fada-19b3bf59041f"
      },
      "execution_count": null,
      "outputs": [
        {
          "output_type": "stream",
          "name": "stdout",
          "text": [
            "(100, 693)\n"
          ]
        },
        {
          "output_type": "stream",
          "name": "stderr",
          "text": [
            "/usr/local/lib/python3.7/dist-packages/sklearn/feature_extraction/text.py:401: UserWarning: Your stop_words may be inconsistent with your preprocessing. Tokenizing the stop words generated tokens ['가서', '같은', '것과', '결과에', '결론을', '관계가', '관련이', '그럼에도', '그에', '그치지', '김에', '까닭에', '낫다', '년도', '논하지', '누가', '달려', '되는', '되어', '들면', '들자면', '듯하다', '따르는', '따름이다', '따지지', '때가', '만은', '만이', '많은', '말하면', '말할것도', '몰라도', '몰랏다', '못하다', '미치다', '바꾸어서', '바꿔', '방면으로', '보면', '보아', '부류의', '비길수', '비추어', '뿐만', '사람들', '상대적으로', '생각이다', '서술한바와같이', '쓰여', '아니라', '안다', '안된다', '않고', '않기', '않는다면', '않다면', '않도록', '않으면', '알겠는가', '어쩔수', '없고', '예를', '외에', '요만한', '우에', '위에서', '이로', '이르다', '이와', '이유는', '인하여', '임에', '점에서', '정도에', '정도의', '종합한것과같이', '주저하지', '줄은', '지경이다', '틀림없다', '편이', '하기', '하기만', '하는', '하는것만', '하는것이', '하면', '하지', '한하다', '할수록', '함으로써', '해도', '해서는', '형식으로', '힘이'] not in stop_words.\n",
            "  % sorted(inconsistent)\n"
          ]
        }
      ]
    },
    {
      "cell_type": "code",
      "source": [
        "word_count90 = pd.DataFrame({\n",
        "    '단어': tfidf.get_feature_names(),\n",
        "    'tf-idf': tfidf_matrix.sum(axis=0).flat\n",
        "})"
      ],
      "metadata": {
        "colab": {
          "base_uri": "https://localhost:8080/"
        },
        "id": "uL9HkC1KoGi1",
        "outputId": "2301f700-f92b-4596-eb28-13f0518bc155"
      },
      "execution_count": null,
      "outputs": [
        {
          "output_type": "stream",
          "name": "stderr",
          "text": [
            "/usr/local/lib/python3.7/dist-packages/sklearn/utils/deprecation.py:87: FutureWarning: Function get_feature_names is deprecated; get_feature_names is deprecated in 1.0 and will be removed in 1.2. Please use get_feature_names_out instead.\n",
            "  warnings.warn(msg, category=FutureWarning)\n"
          ]
        }
      ]
    },
    {
      "cell_type": "code",
      "source": [
        "word_count90.sort_values('tf-idf', ascending=False).head(10)"
      ],
      "metadata": {
        "colab": {
          "base_uri": "https://localhost:8080/",
          "height": 363
        },
        "id": "pfc0zRHPoGkW",
        "outputId": "c91d0cc5-3e71-4ef3-9bb5-d89e557f187b"
      },
      "execution_count": null,
      "outputs": [
        {
          "output_type": "execute_result",
          "data": {
            "text/plain": [
              "     단어     tf-idf\n",
              "310  사랑  12.076719\n",
              "72   그대   9.357844\n",
              "199  마음   5.756596\n",
              "308  사람   4.923912\n",
              "147  눈물   4.775339\n",
              "349  세상   4.175216\n",
              "500  이별   3.628161\n",
              "90   기억   3.526527\n",
              "332  생각   3.491200\n",
              "69   그녀   3.056032"
            ],
            "text/html": [
              "\n",
              "  <div id=\"df-4a7dd30b-fda1-47f5-b279-ed809d92d375\">\n",
              "    <div class=\"colab-df-container\">\n",
              "      <div>\n",
              "<style scoped>\n",
              "    .dataframe tbody tr th:only-of-type {\n",
              "        vertical-align: middle;\n",
              "    }\n",
              "\n",
              "    .dataframe tbody tr th {\n",
              "        vertical-align: top;\n",
              "    }\n",
              "\n",
              "    .dataframe thead th {\n",
              "        text-align: right;\n",
              "    }\n",
              "</style>\n",
              "<table border=\"1\" class=\"dataframe\">\n",
              "  <thead>\n",
              "    <tr style=\"text-align: right;\">\n",
              "      <th></th>\n",
              "      <th>단어</th>\n",
              "      <th>tf-idf</th>\n",
              "    </tr>\n",
              "  </thead>\n",
              "  <tbody>\n",
              "    <tr>\n",
              "      <th>310</th>\n",
              "      <td>사랑</td>\n",
              "      <td>12.076719</td>\n",
              "    </tr>\n",
              "    <tr>\n",
              "      <th>72</th>\n",
              "      <td>그대</td>\n",
              "      <td>9.357844</td>\n",
              "    </tr>\n",
              "    <tr>\n",
              "      <th>199</th>\n",
              "      <td>마음</td>\n",
              "      <td>5.756596</td>\n",
              "    </tr>\n",
              "    <tr>\n",
              "      <th>308</th>\n",
              "      <td>사람</td>\n",
              "      <td>4.923912</td>\n",
              "    </tr>\n",
              "    <tr>\n",
              "      <th>147</th>\n",
              "      <td>눈물</td>\n",
              "      <td>4.775339</td>\n",
              "    </tr>\n",
              "    <tr>\n",
              "      <th>349</th>\n",
              "      <td>세상</td>\n",
              "      <td>4.175216</td>\n",
              "    </tr>\n",
              "    <tr>\n",
              "      <th>500</th>\n",
              "      <td>이별</td>\n",
              "      <td>3.628161</td>\n",
              "    </tr>\n",
              "    <tr>\n",
              "      <th>90</th>\n",
              "      <td>기억</td>\n",
              "      <td>3.526527</td>\n",
              "    </tr>\n",
              "    <tr>\n",
              "      <th>332</th>\n",
              "      <td>생각</td>\n",
              "      <td>3.491200</td>\n",
              "    </tr>\n",
              "    <tr>\n",
              "      <th>69</th>\n",
              "      <td>그녀</td>\n",
              "      <td>3.056032</td>\n",
              "    </tr>\n",
              "  </tbody>\n",
              "</table>\n",
              "</div>\n",
              "      <button class=\"colab-df-convert\" onclick=\"convertToInteractive('df-4a7dd30b-fda1-47f5-b279-ed809d92d375')\"\n",
              "              title=\"Convert this dataframe to an interactive table.\"\n",
              "              style=\"display:none;\">\n",
              "        \n",
              "  <svg xmlns=\"http://www.w3.org/2000/svg\" height=\"24px\"viewBox=\"0 0 24 24\"\n",
              "       width=\"24px\">\n",
              "    <path d=\"M0 0h24v24H0V0z\" fill=\"none\"/>\n",
              "    <path d=\"M18.56 5.44l.94 2.06.94-2.06 2.06-.94-2.06-.94-.94-2.06-.94 2.06-2.06.94zm-11 1L8.5 8.5l.94-2.06 2.06-.94-2.06-.94L8.5 2.5l-.94 2.06-2.06.94zm10 10l.94 2.06.94-2.06 2.06-.94-2.06-.94-.94-2.06-.94 2.06-2.06.94z\"/><path d=\"M17.41 7.96l-1.37-1.37c-.4-.4-.92-.59-1.43-.59-.52 0-1.04.2-1.43.59L10.3 9.45l-7.72 7.72c-.78.78-.78 2.05 0 2.83L4 21.41c.39.39.9.59 1.41.59.51 0 1.02-.2 1.41-.59l7.78-7.78 2.81-2.81c.8-.78.8-2.07 0-2.86zM5.41 20L4 18.59l7.72-7.72 1.47 1.35L5.41 20z\"/>\n",
              "  </svg>\n",
              "      </button>\n",
              "      \n",
              "  <style>\n",
              "    .colab-df-container {\n",
              "      display:flex;\n",
              "      flex-wrap:wrap;\n",
              "      gap: 12px;\n",
              "    }\n",
              "\n",
              "    .colab-df-convert {\n",
              "      background-color: #E8F0FE;\n",
              "      border: none;\n",
              "      border-radius: 50%;\n",
              "      cursor: pointer;\n",
              "      display: none;\n",
              "      fill: #1967D2;\n",
              "      height: 32px;\n",
              "      padding: 0 0 0 0;\n",
              "      width: 32px;\n",
              "    }\n",
              "\n",
              "    .colab-df-convert:hover {\n",
              "      background-color: #E2EBFA;\n",
              "      box-shadow: 0px 1px 2px rgba(60, 64, 67, 0.3), 0px 1px 3px 1px rgba(60, 64, 67, 0.15);\n",
              "      fill: #174EA6;\n",
              "    }\n",
              "\n",
              "    [theme=dark] .colab-df-convert {\n",
              "      background-color: #3B4455;\n",
              "      fill: #D2E3FC;\n",
              "    }\n",
              "\n",
              "    [theme=dark] .colab-df-convert:hover {\n",
              "      background-color: #434B5C;\n",
              "      box-shadow: 0px 1px 3px 1px rgba(0, 0, 0, 0.15);\n",
              "      filter: drop-shadow(0px 1px 2px rgba(0, 0, 0, 0.3));\n",
              "      fill: #FFFFFF;\n",
              "    }\n",
              "  </style>\n",
              "\n",
              "      <script>\n",
              "        const buttonEl =\n",
              "          document.querySelector('#df-4a7dd30b-fda1-47f5-b279-ed809d92d375 button.colab-df-convert');\n",
              "        buttonEl.style.display =\n",
              "          google.colab.kernel.accessAllowed ? 'block' : 'none';\n",
              "\n",
              "        async function convertToInteractive(key) {\n",
              "          const element = document.querySelector('#df-4a7dd30b-fda1-47f5-b279-ed809d92d375');\n",
              "          const dataTable =\n",
              "            await google.colab.kernel.invokeFunction('convertToInteractive',\n",
              "                                                     [key], {});\n",
              "          if (!dataTable) return;\n",
              "\n",
              "          const docLinkHtml = 'Like what you see? Visit the ' +\n",
              "            '<a target=\"_blank\" href=https://colab.research.google.com/notebooks/data_table.ipynb>data table notebook</a>'\n",
              "            + ' to learn more about interactive tables.';\n",
              "          element.innerHTML = '';\n",
              "          dataTable['output_type'] = 'display_data';\n",
              "          await google.colab.output.renderOutput(dataTable, element);\n",
              "          const docLink = document.createElement('div');\n",
              "          docLink.innerHTML = docLinkHtml;\n",
              "          element.appendChild(docLink);\n",
              "        }\n",
              "      </script>\n",
              "    </div>\n",
              "  </div>\n",
              "  "
            ]
          },
          "metadata": {},
          "execution_count": 99
        }
      ]
    },
    {
      "cell_type": "markdown",
      "source": [
        "00~06"
      ],
      "metadata": {
        "id": "Fix3S-CXoJty"
      }
    },
    {
      "cell_type": "code",
      "source": [
        "df00 = pd.read_csv('/content/drive/MyDrive/textmining_rawdata00.csv')\n",
        "df00['lyrics'].replace(r'\\s+|\\\\n', ' ', regex=True, inplace=True) "
      ],
      "metadata": {
        "id": "yVZvbj7JfjTN"
      },
      "execution_count": null,
      "outputs": []
    },
    {
      "cell_type": "code",
      "source": [
        "okt = Okt()\n",
        "tokenized = []\n",
        "for sentence in df00['lyrics']: \n",
        "    tokens = okt.nouns(sentence)\n",
        "    tokenize = \" \".join(tokens) \n",
        "    tokenized.append(tokenize) \n",
        "df00[\"lyrics_t\"] = pd.DataFrame(tokenized)"
      ],
      "metadata": {
        "id": "1cmDjeo8fyY6"
      },
      "execution_count": null,
      "outputs": []
    },
    {
      "cell_type": "code",
      "source": [
        "df00"
      ],
      "metadata": {
        "id": "7t1r_RQyfwGK",
        "colab": {
          "base_uri": "https://localhost:8080/",
          "height": 424
        },
        "outputId": "0ded83e0-5557-436b-e06a-b1910ad5e1a7"
      },
      "execution_count": null,
      "outputs": [
        {
          "output_type": "execute_result",
          "data": {
            "text/plain": [
              "    year  rank        name     genre   lyricist  \\\n",
              "0   2000     2       다 줄거야       발라드        조규만   \n",
              "1   2000     3  Run To You  댄스, 랩/힙합  이하늘,  정재용   \n",
              "2   2000     4         거짓말       발라드        박진영   \n",
              "3   2000     5          초련        댄스        김창환   \n",
              "4   2000     6        가시나무       발라드        하덕규   \n",
              "..   ...   ...         ...       ...        ...   \n",
              "86  2006    11   그녀를 사랑해줘요       발라드        최갑원   \n",
              "87  2006    12       사랑했어요  R&B/Soul        안영민   \n",
              "88  2006    13    사랑하기 때문에       발라드        안영민   \n",
              "89  2006    14     사랑아 가지마  R&B/Soul        조은희   \n",
              "90  2006    15     마주치지 말자       발라드        최갑원   \n",
              "\n",
              "                                               lyrics  \\\n",
              "0   그대 내게 다가오는 그 모습 자꾸 다시 볼수 없을 것만 같아서 감은 두눈 뜨지 못한...   \n",
              "1   하나 투 원 투 쓰리 포 BOUNCE with me BOUNCE with me BO...   \n",
              "2   미안해 난 니가 싫어졌어 우리 이만 헤어져 다른 여자가 생겼어 너보다 훨씬 좋은 실...   \n",
              "3   난 그냥 좋았어 니 앞에만 서면 요즘 내가 왜 이러는지 나도 몰라 니 생각만 하고 ...   \n",
              "4   내 속엔 내가 너무도 많아 당신의 쉴곳 없네 내 속엔 헛된 바램들로 당신의 편할곳 ...   \n",
              "..                                                ...   \n",
              "86  잠깐 기다려줄래 지금 데리러 갈게 왜 자꾸 울기만 하니 말해 말해 어디에 있니 니가...   \n",
              "87  헤어지던 날 어땠나요 나처럼 술을 마셨나요 일부러 슬픈 영화를 보고 우나요 속상한 ...   \n",
              "88  사랑이 떠났어 이제는 다시 볼 수 없겠지 처음 해본 사랑도 아닌데 많이 아프다 사랑...   \n",
              "89  헤어지잔 몹쓸 말 죽어도 듣기 싫은 말 끝내 삼켜주길 바랬어 눈물이 흐를 것만 같아...   \n",
              "90  그래 나란 사람 버리고 떠나도 널 미워하지 않아 그만 끝내자고 지겨워 졌다고 말해도...   \n",
              "\n",
              "                                             lyrics_t  \n",
              "0   그대 그 모습 자꾸 다시 것 눈 너 걸 뿐 뿐 그동안 워 너 수 힘 땐 실컷 눈물 ...  \n",
              "1   하나 투 원 투 포 외로 땐 날 뭐 맘 남자 난 활 우리 멀리 그 무엇 날 수 너 ...  \n",
              "2   난 니 우리 다른 여자 너 마 나 원래 놈 제발 더 이상 래야 거짓말 내 내 너 내...  \n",
              "3   난 그냥 니 앞 서면 요즘 내 왜 니 생각 자꾸 틈 난 너 맘 첨 누군가 내 주체 ...  \n",
              "4   내 속 내 당신 곳 내 속 헛된 바램 당신 곳 내 속 내 수 어둠 당신 자리 내 속...  \n",
              "..                                                ...  \n",
              "86  잠깐 지금 왜 자꾸 기만 하니 말 말 어디 니 사랑 사람 너 간 집 줄 바람 너 그...  \n",
              "87  날 나 술 일부러 영화 보고 나 때 기분 생기 젠 누구 얘기 사랑 그것 대답 나 마...  \n",
              "88  사랑 이제 다시 볼 수 처음 사랑 사랑 그대 나 혼자 채 어디 홀로 추억 너 때문 ...  \n",
              "89  몹쓸 말 듣기 말 끝내 바랬어 눈물 것 입술 자꾸 사랑 제발 날 널 또 가슴 목 사...  \n",
              "90  사람 널 말 난 이제 다른 사랑 간다 날 너 이 말 꼭 하나 부탁 하나 네 모습 둘...  \n",
              "\n",
              "[91 rows x 7 columns]"
            ],
            "text/html": [
              "\n",
              "  <div id=\"df-caaf0208-15fd-4f6c-a7c1-0e9b0184cbb5\">\n",
              "    <div class=\"colab-df-container\">\n",
              "      <div>\n",
              "<style scoped>\n",
              "    .dataframe tbody tr th:only-of-type {\n",
              "        vertical-align: middle;\n",
              "    }\n",
              "\n",
              "    .dataframe tbody tr th {\n",
              "        vertical-align: top;\n",
              "    }\n",
              "\n",
              "    .dataframe thead th {\n",
              "        text-align: right;\n",
              "    }\n",
              "</style>\n",
              "<table border=\"1\" class=\"dataframe\">\n",
              "  <thead>\n",
              "    <tr style=\"text-align: right;\">\n",
              "      <th></th>\n",
              "      <th>year</th>\n",
              "      <th>rank</th>\n",
              "      <th>name</th>\n",
              "      <th>genre</th>\n",
              "      <th>lyricist</th>\n",
              "      <th>lyrics</th>\n",
              "      <th>lyrics_t</th>\n",
              "    </tr>\n",
              "  </thead>\n",
              "  <tbody>\n",
              "    <tr>\n",
              "      <th>0</th>\n",
              "      <td>2000</td>\n",
              "      <td>2</td>\n",
              "      <td>다 줄거야</td>\n",
              "      <td>발라드</td>\n",
              "      <td>조규만</td>\n",
              "      <td>그대 내게 다가오는 그 모습 자꾸 다시 볼수 없을 것만 같아서 감은 두눈 뜨지 못한...</td>\n",
              "      <td>그대 그 모습 자꾸 다시 것 눈 너 걸 뿐 뿐 그동안 워 너 수 힘 땐 실컷 눈물 ...</td>\n",
              "    </tr>\n",
              "    <tr>\n",
              "      <th>1</th>\n",
              "      <td>2000</td>\n",
              "      <td>3</td>\n",
              "      <td>Run To You</td>\n",
              "      <td>댄스, 랩/힙합</td>\n",
              "      <td>이하늘,  정재용</td>\n",
              "      <td>하나 투 원 투 쓰리 포 BOUNCE with me BOUNCE with me BO...</td>\n",
              "      <td>하나 투 원 투 포 외로 땐 날 뭐 맘 남자 난 활 우리 멀리 그 무엇 날 수 너 ...</td>\n",
              "    </tr>\n",
              "    <tr>\n",
              "      <th>2</th>\n",
              "      <td>2000</td>\n",
              "      <td>4</td>\n",
              "      <td>거짓말</td>\n",
              "      <td>발라드</td>\n",
              "      <td>박진영</td>\n",
              "      <td>미안해 난 니가 싫어졌어 우리 이만 헤어져 다른 여자가 생겼어 너보다 훨씬 좋은 실...</td>\n",
              "      <td>난 니 우리 다른 여자 너 마 나 원래 놈 제발 더 이상 래야 거짓말 내 내 너 내...</td>\n",
              "    </tr>\n",
              "    <tr>\n",
              "      <th>3</th>\n",
              "      <td>2000</td>\n",
              "      <td>5</td>\n",
              "      <td>초련</td>\n",
              "      <td>댄스</td>\n",
              "      <td>김창환</td>\n",
              "      <td>난 그냥 좋았어 니 앞에만 서면 요즘 내가 왜 이러는지 나도 몰라 니 생각만 하고 ...</td>\n",
              "      <td>난 그냥 니 앞 서면 요즘 내 왜 니 생각 자꾸 틈 난 너 맘 첨 누군가 내 주체 ...</td>\n",
              "    </tr>\n",
              "    <tr>\n",
              "      <th>4</th>\n",
              "      <td>2000</td>\n",
              "      <td>6</td>\n",
              "      <td>가시나무</td>\n",
              "      <td>발라드</td>\n",
              "      <td>하덕규</td>\n",
              "      <td>내 속엔 내가 너무도 많아 당신의 쉴곳 없네 내 속엔 헛된 바램들로 당신의 편할곳 ...</td>\n",
              "      <td>내 속 내 당신 곳 내 속 헛된 바램 당신 곳 내 속 내 수 어둠 당신 자리 내 속...</td>\n",
              "    </tr>\n",
              "    <tr>\n",
              "      <th>...</th>\n",
              "      <td>...</td>\n",
              "      <td>...</td>\n",
              "      <td>...</td>\n",
              "      <td>...</td>\n",
              "      <td>...</td>\n",
              "      <td>...</td>\n",
              "      <td>...</td>\n",
              "    </tr>\n",
              "    <tr>\n",
              "      <th>86</th>\n",
              "      <td>2006</td>\n",
              "      <td>11</td>\n",
              "      <td>그녀를 사랑해줘요</td>\n",
              "      <td>발라드</td>\n",
              "      <td>최갑원</td>\n",
              "      <td>잠깐 기다려줄래 지금 데리러 갈게 왜 자꾸 울기만 하니 말해 말해 어디에 있니 니가...</td>\n",
              "      <td>잠깐 지금 왜 자꾸 기만 하니 말 말 어디 니 사랑 사람 너 간 집 줄 바람 너 그...</td>\n",
              "    </tr>\n",
              "    <tr>\n",
              "      <th>87</th>\n",
              "      <td>2006</td>\n",
              "      <td>12</td>\n",
              "      <td>사랑했어요</td>\n",
              "      <td>R&amp;B/Soul</td>\n",
              "      <td>안영민</td>\n",
              "      <td>헤어지던 날 어땠나요 나처럼 술을 마셨나요 일부러 슬픈 영화를 보고 우나요 속상한 ...</td>\n",
              "      <td>날 나 술 일부러 영화 보고 나 때 기분 생기 젠 누구 얘기 사랑 그것 대답 나 마...</td>\n",
              "    </tr>\n",
              "    <tr>\n",
              "      <th>88</th>\n",
              "      <td>2006</td>\n",
              "      <td>13</td>\n",
              "      <td>사랑하기 때문에</td>\n",
              "      <td>발라드</td>\n",
              "      <td>안영민</td>\n",
              "      <td>사랑이 떠났어 이제는 다시 볼 수 없겠지 처음 해본 사랑도 아닌데 많이 아프다 사랑...</td>\n",
              "      <td>사랑 이제 다시 볼 수 처음 사랑 사랑 그대 나 혼자 채 어디 홀로 추억 너 때문 ...</td>\n",
              "    </tr>\n",
              "    <tr>\n",
              "      <th>89</th>\n",
              "      <td>2006</td>\n",
              "      <td>14</td>\n",
              "      <td>사랑아 가지마</td>\n",
              "      <td>R&amp;B/Soul</td>\n",
              "      <td>조은희</td>\n",
              "      <td>헤어지잔 몹쓸 말 죽어도 듣기 싫은 말 끝내 삼켜주길 바랬어 눈물이 흐를 것만 같아...</td>\n",
              "      <td>몹쓸 말 듣기 말 끝내 바랬어 눈물 것 입술 자꾸 사랑 제발 날 널 또 가슴 목 사...</td>\n",
              "    </tr>\n",
              "    <tr>\n",
              "      <th>90</th>\n",
              "      <td>2006</td>\n",
              "      <td>15</td>\n",
              "      <td>마주치지 말자</td>\n",
              "      <td>발라드</td>\n",
              "      <td>최갑원</td>\n",
              "      <td>그래 나란 사람 버리고 떠나도 널 미워하지 않아 그만 끝내자고 지겨워 졌다고 말해도...</td>\n",
              "      <td>사람 널 말 난 이제 다른 사랑 간다 날 너 이 말 꼭 하나 부탁 하나 네 모습 둘...</td>\n",
              "    </tr>\n",
              "  </tbody>\n",
              "</table>\n",
              "<p>91 rows × 7 columns</p>\n",
              "</div>\n",
              "      <button class=\"colab-df-convert\" onclick=\"convertToInteractive('df-caaf0208-15fd-4f6c-a7c1-0e9b0184cbb5')\"\n",
              "              title=\"Convert this dataframe to an interactive table.\"\n",
              "              style=\"display:none;\">\n",
              "        \n",
              "  <svg xmlns=\"http://www.w3.org/2000/svg\" height=\"24px\"viewBox=\"0 0 24 24\"\n",
              "       width=\"24px\">\n",
              "    <path d=\"M0 0h24v24H0V0z\" fill=\"none\"/>\n",
              "    <path d=\"M18.56 5.44l.94 2.06.94-2.06 2.06-.94-2.06-.94-.94-2.06-.94 2.06-2.06.94zm-11 1L8.5 8.5l.94-2.06 2.06-.94-2.06-.94L8.5 2.5l-.94 2.06-2.06.94zm10 10l.94 2.06.94-2.06 2.06-.94-2.06-.94-.94-2.06-.94 2.06-2.06.94z\"/><path d=\"M17.41 7.96l-1.37-1.37c-.4-.4-.92-.59-1.43-.59-.52 0-1.04.2-1.43.59L10.3 9.45l-7.72 7.72c-.78.78-.78 2.05 0 2.83L4 21.41c.39.39.9.59 1.41.59.51 0 1.02-.2 1.41-.59l7.78-7.78 2.81-2.81c.8-.78.8-2.07 0-2.86zM5.41 20L4 18.59l7.72-7.72 1.47 1.35L5.41 20z\"/>\n",
              "  </svg>\n",
              "      </button>\n",
              "      \n",
              "  <style>\n",
              "    .colab-df-container {\n",
              "      display:flex;\n",
              "      flex-wrap:wrap;\n",
              "      gap: 12px;\n",
              "    }\n",
              "\n",
              "    .colab-df-convert {\n",
              "      background-color: #E8F0FE;\n",
              "      border: none;\n",
              "      border-radius: 50%;\n",
              "      cursor: pointer;\n",
              "      display: none;\n",
              "      fill: #1967D2;\n",
              "      height: 32px;\n",
              "      padding: 0 0 0 0;\n",
              "      width: 32px;\n",
              "    }\n",
              "\n",
              "    .colab-df-convert:hover {\n",
              "      background-color: #E2EBFA;\n",
              "      box-shadow: 0px 1px 2px rgba(60, 64, 67, 0.3), 0px 1px 3px 1px rgba(60, 64, 67, 0.15);\n",
              "      fill: #174EA6;\n",
              "    }\n",
              "\n",
              "    [theme=dark] .colab-df-convert {\n",
              "      background-color: #3B4455;\n",
              "      fill: #D2E3FC;\n",
              "    }\n",
              "\n",
              "    [theme=dark] .colab-df-convert:hover {\n",
              "      background-color: #434B5C;\n",
              "      box-shadow: 0px 1px 3px 1px rgba(0, 0, 0, 0.15);\n",
              "      filter: drop-shadow(0px 1px 2px rgba(0, 0, 0, 0.3));\n",
              "      fill: #FFFFFF;\n",
              "    }\n",
              "  </style>\n",
              "\n",
              "      <script>\n",
              "        const buttonEl =\n",
              "          document.querySelector('#df-caaf0208-15fd-4f6c-a7c1-0e9b0184cbb5 button.colab-df-convert');\n",
              "        buttonEl.style.display =\n",
              "          google.colab.kernel.accessAllowed ? 'block' : 'none';\n",
              "\n",
              "        async function convertToInteractive(key) {\n",
              "          const element = document.querySelector('#df-caaf0208-15fd-4f6c-a7c1-0e9b0184cbb5');\n",
              "          const dataTable =\n",
              "            await google.colab.kernel.invokeFunction('convertToInteractive',\n",
              "                                                     [key], {});\n",
              "          if (!dataTable) return;\n",
              "\n",
              "          const docLinkHtml = 'Like what you see? Visit the ' +\n",
              "            '<a target=\"_blank\" href=https://colab.research.google.com/notebooks/data_table.ipynb>data table notebook</a>'\n",
              "            + ' to learn more about interactive tables.';\n",
              "          element.innerHTML = '';\n",
              "          dataTable['output_type'] = 'display_data';\n",
              "          await google.colab.output.renderOutput(dataTable, element);\n",
              "          const docLink = document.createElement('div');\n",
              "          docLink.innerHTML = docLinkHtml;\n",
              "          element.appendChild(docLink);\n",
              "        }\n",
              "      </script>\n",
              "    </div>\n",
              "  </div>\n",
              "  "
            ]
          },
          "metadata": {},
          "execution_count": 101
        }
      ]
    },
    {
      "cell_type": "code",
      "source": [
        "tfidf = TfidfVectorizer(stop_words=stopwords)\n",
        "tfidf_matrix = tfidf.fit_transform(df00['lyrics_t'])\n",
        "print(tfidf_matrix.shape)"
      ],
      "metadata": {
        "colab": {
          "base_uri": "https://localhost:8080/"
        },
        "id": "Q2ZFzR7bf2UG",
        "outputId": "29322459-84dc-4b8a-80a1-3006ee287c01"
      },
      "execution_count": null,
      "outputs": [
        {
          "output_type": "stream",
          "name": "stdout",
          "text": [
            "(91, 657)\n"
          ]
        },
        {
          "output_type": "stream",
          "name": "stderr",
          "text": [
            "/usr/local/lib/python3.7/dist-packages/sklearn/feature_extraction/text.py:401: UserWarning: Your stop_words may be inconsistent with your preprocessing. Tokenizing the stop words generated tokens ['가서', '같은', '것과', '결과에', '결론을', '관계가', '관련이', '그럼에도', '그에', '그치지', '김에', '까닭에', '낫다', '년도', '논하지', '누가', '달려', '되는', '되어', '들면', '들자면', '듯하다', '따르는', '따름이다', '따지지', '때가', '만은', '만이', '많은', '말하면', '말할것도', '몰라도', '몰랏다', '못하다', '미치다', '바꾸어서', '바꿔', '방면으로', '보면', '보아', '부류의', '비길수', '비추어', '뿐만', '사람들', '상대적으로', '생각이다', '서술한바와같이', '쓰여', '아니라', '안다', '안된다', '않고', '않기', '않는다면', '않다면', '않도록', '않으면', '알겠는가', '어쩔수', '없고', '예를', '외에', '요만한', '우에', '위에서', '이로', '이르다', '이와', '이유는', '인하여', '임에', '점에서', '정도에', '정도의', '종합한것과같이', '주저하지', '줄은', '지경이다', '틀림없다', '편이', '하기', '하기만', '하는', '하는것만', '하는것이', '하면', '하지', '한하다', '할수록', '함으로써', '해도', '해서는', '형식으로', '힘이'] not in stop_words.\n",
            "  % sorted(inconsistent)\n"
          ]
        }
      ]
    },
    {
      "cell_type": "code",
      "source": [
        "word_count00 = pd.DataFrame({\n",
        "    '단어': tfidf.get_feature_names(),\n",
        "    'tf-idf': tfidf_matrix.sum(axis=0).flat\n",
        "})"
      ],
      "metadata": {
        "colab": {
          "base_uri": "https://localhost:8080/"
        },
        "id": "blZ0fWKCp-Se",
        "outputId": "51bfd65c-5e8a-4aa6-e4b1-69990165d9c9"
      },
      "execution_count": null,
      "outputs": [
        {
          "output_type": "stream",
          "name": "stderr",
          "text": [
            "/usr/local/lib/python3.7/dist-packages/sklearn/utils/deprecation.py:87: FutureWarning: Function get_feature_names is deprecated; get_feature_names is deprecated in 1.0 and will be removed in 1.2. Please use get_feature_names_out instead.\n",
            "  warnings.warn(msg, category=FutureWarning)\n"
          ]
        }
      ]
    },
    {
      "cell_type": "code",
      "source": [
        "word_count00.sort_values('tf-idf', ascending=False).head(10)"
      ],
      "metadata": {
        "id": "X6sJZcbRp_qn",
        "colab": {
          "base_uri": "https://localhost:8080/",
          "height": 363
        },
        "outputId": "4d41eab5-1a27-4ce3-afc4-37c5b16e7924"
      },
      "execution_count": null,
      "outputs": [
        {
          "output_type": "execute_result",
          "data": {
            "text/plain": [
              "     단어     tf-idf\n",
              "319  사랑  16.377951\n",
              "67   그대  11.150462\n",
              "316  사람   6.021220\n",
              "133  눈물   5.599424\n",
              "192  마음   3.889788\n",
              "586  추억   3.767096\n",
              "9    가슴   3.487240\n",
              "352  세상   3.377184\n",
              "337  생각   3.233919\n",
              "82   기억   3.217356"
            ],
            "text/html": [
              "\n",
              "  <div id=\"df-3dedd922-7f23-4e8a-a3b6-1ed708b3b708\">\n",
              "    <div class=\"colab-df-container\">\n",
              "      <div>\n",
              "<style scoped>\n",
              "    .dataframe tbody tr th:only-of-type {\n",
              "        vertical-align: middle;\n",
              "    }\n",
              "\n",
              "    .dataframe tbody tr th {\n",
              "        vertical-align: top;\n",
              "    }\n",
              "\n",
              "    .dataframe thead th {\n",
              "        text-align: right;\n",
              "    }\n",
              "</style>\n",
              "<table border=\"1\" class=\"dataframe\">\n",
              "  <thead>\n",
              "    <tr style=\"text-align: right;\">\n",
              "      <th></th>\n",
              "      <th>단어</th>\n",
              "      <th>tf-idf</th>\n",
              "    </tr>\n",
              "  </thead>\n",
              "  <tbody>\n",
              "    <tr>\n",
              "      <th>319</th>\n",
              "      <td>사랑</td>\n",
              "      <td>16.377951</td>\n",
              "    </tr>\n",
              "    <tr>\n",
              "      <th>67</th>\n",
              "      <td>그대</td>\n",
              "      <td>11.150462</td>\n",
              "    </tr>\n",
              "    <tr>\n",
              "      <th>316</th>\n",
              "      <td>사람</td>\n",
              "      <td>6.021220</td>\n",
              "    </tr>\n",
              "    <tr>\n",
              "      <th>133</th>\n",
              "      <td>눈물</td>\n",
              "      <td>5.599424</td>\n",
              "    </tr>\n",
              "    <tr>\n",
              "      <th>192</th>\n",
              "      <td>마음</td>\n",
              "      <td>3.889788</td>\n",
              "    </tr>\n",
              "    <tr>\n",
              "      <th>586</th>\n",
              "      <td>추억</td>\n",
              "      <td>3.767096</td>\n",
              "    </tr>\n",
              "    <tr>\n",
              "      <th>9</th>\n",
              "      <td>가슴</td>\n",
              "      <td>3.487240</td>\n",
              "    </tr>\n",
              "    <tr>\n",
              "      <th>352</th>\n",
              "      <td>세상</td>\n",
              "      <td>3.377184</td>\n",
              "    </tr>\n",
              "    <tr>\n",
              "      <th>337</th>\n",
              "      <td>생각</td>\n",
              "      <td>3.233919</td>\n",
              "    </tr>\n",
              "    <tr>\n",
              "      <th>82</th>\n",
              "      <td>기억</td>\n",
              "      <td>3.217356</td>\n",
              "    </tr>\n",
              "  </tbody>\n",
              "</table>\n",
              "</div>\n",
              "      <button class=\"colab-df-convert\" onclick=\"convertToInteractive('df-3dedd922-7f23-4e8a-a3b6-1ed708b3b708')\"\n",
              "              title=\"Convert this dataframe to an interactive table.\"\n",
              "              style=\"display:none;\">\n",
              "        \n",
              "  <svg xmlns=\"http://www.w3.org/2000/svg\" height=\"24px\"viewBox=\"0 0 24 24\"\n",
              "       width=\"24px\">\n",
              "    <path d=\"M0 0h24v24H0V0z\" fill=\"none\"/>\n",
              "    <path d=\"M18.56 5.44l.94 2.06.94-2.06 2.06-.94-2.06-.94-.94-2.06-.94 2.06-2.06.94zm-11 1L8.5 8.5l.94-2.06 2.06-.94-2.06-.94L8.5 2.5l-.94 2.06-2.06.94zm10 10l.94 2.06.94-2.06 2.06-.94-2.06-.94-.94-2.06-.94 2.06-2.06.94z\"/><path d=\"M17.41 7.96l-1.37-1.37c-.4-.4-.92-.59-1.43-.59-.52 0-1.04.2-1.43.59L10.3 9.45l-7.72 7.72c-.78.78-.78 2.05 0 2.83L4 21.41c.39.39.9.59 1.41.59.51 0 1.02-.2 1.41-.59l7.78-7.78 2.81-2.81c.8-.78.8-2.07 0-2.86zM5.41 20L4 18.59l7.72-7.72 1.47 1.35L5.41 20z\"/>\n",
              "  </svg>\n",
              "      </button>\n",
              "      \n",
              "  <style>\n",
              "    .colab-df-container {\n",
              "      display:flex;\n",
              "      flex-wrap:wrap;\n",
              "      gap: 12px;\n",
              "    }\n",
              "\n",
              "    .colab-df-convert {\n",
              "      background-color: #E8F0FE;\n",
              "      border: none;\n",
              "      border-radius: 50%;\n",
              "      cursor: pointer;\n",
              "      display: none;\n",
              "      fill: #1967D2;\n",
              "      height: 32px;\n",
              "      padding: 0 0 0 0;\n",
              "      width: 32px;\n",
              "    }\n",
              "\n",
              "    .colab-df-convert:hover {\n",
              "      background-color: #E2EBFA;\n",
              "      box-shadow: 0px 1px 2px rgba(60, 64, 67, 0.3), 0px 1px 3px 1px rgba(60, 64, 67, 0.15);\n",
              "      fill: #174EA6;\n",
              "    }\n",
              "\n",
              "    [theme=dark] .colab-df-convert {\n",
              "      background-color: #3B4455;\n",
              "      fill: #D2E3FC;\n",
              "    }\n",
              "\n",
              "    [theme=dark] .colab-df-convert:hover {\n",
              "      background-color: #434B5C;\n",
              "      box-shadow: 0px 1px 3px 1px rgba(0, 0, 0, 0.15);\n",
              "      filter: drop-shadow(0px 1px 2px rgba(0, 0, 0, 0.3));\n",
              "      fill: #FFFFFF;\n",
              "    }\n",
              "  </style>\n",
              "\n",
              "      <script>\n",
              "        const buttonEl =\n",
              "          document.querySelector('#df-3dedd922-7f23-4e8a-a3b6-1ed708b3b708 button.colab-df-convert');\n",
              "        buttonEl.style.display =\n",
              "          google.colab.kernel.accessAllowed ? 'block' : 'none';\n",
              "\n",
              "        async function convertToInteractive(key) {\n",
              "          const element = document.querySelector('#df-3dedd922-7f23-4e8a-a3b6-1ed708b3b708');\n",
              "          const dataTable =\n",
              "            await google.colab.kernel.invokeFunction('convertToInteractive',\n",
              "                                                     [key], {});\n",
              "          if (!dataTable) return;\n",
              "\n",
              "          const docLinkHtml = 'Like what you see? Visit the ' +\n",
              "            '<a target=\"_blank\" href=https://colab.research.google.com/notebooks/data_table.ipynb>data table notebook</a>'\n",
              "            + ' to learn more about interactive tables.';\n",
              "          element.innerHTML = '';\n",
              "          dataTable['output_type'] = 'display_data';\n",
              "          await google.colab.output.renderOutput(dataTable, element);\n",
              "          const docLink = document.createElement('div');\n",
              "          docLink.innerHTML = docLinkHtml;\n",
              "          element.appendChild(docLink);\n",
              "        }\n",
              "      </script>\n",
              "    </div>\n",
              "  </div>\n",
              "  "
            ]
          },
          "metadata": {},
          "execution_count": 104
        }
      ]
    },
    {
      "cell_type": "markdown",
      "source": [
        "07~12"
      ],
      "metadata": {
        "id": "Fl0fiQ1RrYGn"
      }
    },
    {
      "cell_type": "code",
      "source": [
        "df07 = pd.read_csv('/content/drive/MyDrive/textmining_rawdata07.csv')\n",
        "df07['lyrics'].replace(r'\\s+|\\\\n', ' ', regex=True, inplace=True) "
      ],
      "metadata": {
        "id": "keL2c0-AqCyQ"
      },
      "execution_count": null,
      "outputs": []
    },
    {
      "cell_type": "code",
      "source": [
        "okt = Okt()\n",
        "tokenized = []\n",
        "for sentence in df07['lyrics']: \n",
        "    tokens = okt.nouns(sentence)\n",
        "    tokenize = \" \".join(tokens) \n",
        "    tokenized.append(tokenize) \n",
        "df07[\"lyrics_t\"] = pd.DataFrame(tokenized)"
      ],
      "metadata": {
        "id": "7SHUnfgSrcCs"
      },
      "execution_count": null,
      "outputs": []
    },
    {
      "cell_type": "code",
      "source": [
        "tfidf = TfidfVectorizer(stop_words=stopwords)\n",
        "tfidf_matrix = tfidf.fit_transform(df07['lyrics_t'])\n",
        "print(tfidf_matrix.shape)"
      ],
      "metadata": {
        "colab": {
          "base_uri": "https://localhost:8080/"
        },
        "id": "w32h6e3IrfBl",
        "outputId": "bf585b40-594c-4d82-cf23-eb1b7877bf69"
      },
      "execution_count": null,
      "outputs": [
        {
          "output_type": "stream",
          "name": "stdout",
          "text": [
            "(96, 940)\n"
          ]
        },
        {
          "output_type": "stream",
          "name": "stderr",
          "text": [
            "/usr/local/lib/python3.7/dist-packages/sklearn/feature_extraction/text.py:401: UserWarning: Your stop_words may be inconsistent with your preprocessing. Tokenizing the stop words generated tokens ['가서', '같은', '것과', '결과에', '결론을', '관계가', '관련이', '그럼에도', '그에', '그치지', '김에', '까닭에', '낫다', '년도', '논하지', '누가', '달려', '되는', '되어', '들면', '들자면', '듯하다', '따르는', '따름이다', '따지지', '때가', '만은', '만이', '많은', '말하면', '말할것도', '몰라도', '몰랏다', '못하다', '미치다', '바꾸어서', '바꿔', '방면으로', '보면', '보아', '부류의', '비길수', '비추어', '뿐만', '사람들', '상대적으로', '생각이다', '서술한바와같이', '쓰여', '아니라', '안다', '안된다', '않고', '않기', '않는다면', '않다면', '않도록', '않으면', '알겠는가', '어쩔수', '없고', '예를', '외에', '요만한', '우에', '위에서', '이로', '이르다', '이와', '이유는', '인하여', '임에', '점에서', '정도에', '정도의', '종합한것과같이', '주저하지', '줄은', '지경이다', '틀림없다', '편이', '하기', '하기만', '하는', '하는것만', '하는것이', '하면', '하지', '한하다', '할수록', '함으로써', '해도', '해서는', '형식으로', '힘이'] not in stop_words.\n",
            "  % sorted(inconsistent)\n"
          ]
        }
      ]
    },
    {
      "cell_type": "code",
      "source": [
        "word_count07 = pd.DataFrame({\n",
        "    '단어': tfidf.get_feature_names(),\n",
        "    'tf-idf': tfidf_matrix.sum(axis=0).flat\n",
        "})"
      ],
      "metadata": {
        "colab": {
          "base_uri": "https://localhost:8080/"
        },
        "id": "EuXgGSlWrnWs",
        "outputId": "2ed1ec95-ad64-4a6d-ae74-6f6b064e2064"
      },
      "execution_count": null,
      "outputs": [
        {
          "output_type": "stream",
          "name": "stderr",
          "text": [
            "/usr/local/lib/python3.7/dist-packages/sklearn/utils/deprecation.py:87: FutureWarning: Function get_feature_names is deprecated; get_feature_names is deprecated in 1.0 and will be removed in 1.2. Please use get_feature_names_out instead.\n",
            "  warnings.warn(msg, category=FutureWarning)\n"
          ]
        }
      ]
    },
    {
      "cell_type": "code",
      "source": [
        "word_count07.sort_values('tf-idf', ascending=False).head(10)"
      ],
      "metadata": {
        "colab": {
          "base_uri": "https://localhost:8080/",
          "height": 363
        },
        "id": "wDD751S5rpjP",
        "outputId": "8d7756d4-725e-45fc-9323-b041adb61239"
      },
      "execution_count": null,
      "outputs": [
        {
          "output_type": "execute_result",
          "data": {
            "text/plain": [
              "     단어     tf-idf\n",
              "425  사랑  12.821587\n",
              "89   그대   6.509279\n",
              "423  사람   6.243331\n",
              "163  눈물   4.603757\n",
              "880  하루   3.684379\n",
              "468  세상   3.514390\n",
              "250  마음   3.445854\n",
              "448  생각   3.129458\n",
              "12   가슴   3.039228\n",
              "108  기억   3.034385"
            ],
            "text/html": [
              "\n",
              "  <div id=\"df-d4398bbc-5b06-4224-b5a7-048323982b60\">\n",
              "    <div class=\"colab-df-container\">\n",
              "      <div>\n",
              "<style scoped>\n",
              "    .dataframe tbody tr th:only-of-type {\n",
              "        vertical-align: middle;\n",
              "    }\n",
              "\n",
              "    .dataframe tbody tr th {\n",
              "        vertical-align: top;\n",
              "    }\n",
              "\n",
              "    .dataframe thead th {\n",
              "        text-align: right;\n",
              "    }\n",
              "</style>\n",
              "<table border=\"1\" class=\"dataframe\">\n",
              "  <thead>\n",
              "    <tr style=\"text-align: right;\">\n",
              "      <th></th>\n",
              "      <th>단어</th>\n",
              "      <th>tf-idf</th>\n",
              "    </tr>\n",
              "  </thead>\n",
              "  <tbody>\n",
              "    <tr>\n",
              "      <th>425</th>\n",
              "      <td>사랑</td>\n",
              "      <td>12.821587</td>\n",
              "    </tr>\n",
              "    <tr>\n",
              "      <th>89</th>\n",
              "      <td>그대</td>\n",
              "      <td>6.509279</td>\n",
              "    </tr>\n",
              "    <tr>\n",
              "      <th>423</th>\n",
              "      <td>사람</td>\n",
              "      <td>6.243331</td>\n",
              "    </tr>\n",
              "    <tr>\n",
              "      <th>163</th>\n",
              "      <td>눈물</td>\n",
              "      <td>4.603757</td>\n",
              "    </tr>\n",
              "    <tr>\n",
              "      <th>880</th>\n",
              "      <td>하루</td>\n",
              "      <td>3.684379</td>\n",
              "    </tr>\n",
              "    <tr>\n",
              "      <th>468</th>\n",
              "      <td>세상</td>\n",
              "      <td>3.514390</td>\n",
              "    </tr>\n",
              "    <tr>\n",
              "      <th>250</th>\n",
              "      <td>마음</td>\n",
              "      <td>3.445854</td>\n",
              "    </tr>\n",
              "    <tr>\n",
              "      <th>448</th>\n",
              "      <td>생각</td>\n",
              "      <td>3.129458</td>\n",
              "    </tr>\n",
              "    <tr>\n",
              "      <th>12</th>\n",
              "      <td>가슴</td>\n",
              "      <td>3.039228</td>\n",
              "    </tr>\n",
              "    <tr>\n",
              "      <th>108</th>\n",
              "      <td>기억</td>\n",
              "      <td>3.034385</td>\n",
              "    </tr>\n",
              "  </tbody>\n",
              "</table>\n",
              "</div>\n",
              "      <button class=\"colab-df-convert\" onclick=\"convertToInteractive('df-d4398bbc-5b06-4224-b5a7-048323982b60')\"\n",
              "              title=\"Convert this dataframe to an interactive table.\"\n",
              "              style=\"display:none;\">\n",
              "        \n",
              "  <svg xmlns=\"http://www.w3.org/2000/svg\" height=\"24px\"viewBox=\"0 0 24 24\"\n",
              "       width=\"24px\">\n",
              "    <path d=\"M0 0h24v24H0V0z\" fill=\"none\"/>\n",
              "    <path d=\"M18.56 5.44l.94 2.06.94-2.06 2.06-.94-2.06-.94-.94-2.06-.94 2.06-2.06.94zm-11 1L8.5 8.5l.94-2.06 2.06-.94-2.06-.94L8.5 2.5l-.94 2.06-2.06.94zm10 10l.94 2.06.94-2.06 2.06-.94-2.06-.94-.94-2.06-.94 2.06-2.06.94z\"/><path d=\"M17.41 7.96l-1.37-1.37c-.4-.4-.92-.59-1.43-.59-.52 0-1.04.2-1.43.59L10.3 9.45l-7.72 7.72c-.78.78-.78 2.05 0 2.83L4 21.41c.39.39.9.59 1.41.59.51 0 1.02-.2 1.41-.59l7.78-7.78 2.81-2.81c.8-.78.8-2.07 0-2.86zM5.41 20L4 18.59l7.72-7.72 1.47 1.35L5.41 20z\"/>\n",
              "  </svg>\n",
              "      </button>\n",
              "      \n",
              "  <style>\n",
              "    .colab-df-container {\n",
              "      display:flex;\n",
              "      flex-wrap:wrap;\n",
              "      gap: 12px;\n",
              "    }\n",
              "\n",
              "    .colab-df-convert {\n",
              "      background-color: #E8F0FE;\n",
              "      border: none;\n",
              "      border-radius: 50%;\n",
              "      cursor: pointer;\n",
              "      display: none;\n",
              "      fill: #1967D2;\n",
              "      height: 32px;\n",
              "      padding: 0 0 0 0;\n",
              "      width: 32px;\n",
              "    }\n",
              "\n",
              "    .colab-df-convert:hover {\n",
              "      background-color: #E2EBFA;\n",
              "      box-shadow: 0px 1px 2px rgba(60, 64, 67, 0.3), 0px 1px 3px 1px rgba(60, 64, 67, 0.15);\n",
              "      fill: #174EA6;\n",
              "    }\n",
              "\n",
              "    [theme=dark] .colab-df-convert {\n",
              "      background-color: #3B4455;\n",
              "      fill: #D2E3FC;\n",
              "    }\n",
              "\n",
              "    [theme=dark] .colab-df-convert:hover {\n",
              "      background-color: #434B5C;\n",
              "      box-shadow: 0px 1px 3px 1px rgba(0, 0, 0, 0.15);\n",
              "      filter: drop-shadow(0px 1px 2px rgba(0, 0, 0, 0.3));\n",
              "      fill: #FFFFFF;\n",
              "    }\n",
              "  </style>\n",
              "\n",
              "      <script>\n",
              "        const buttonEl =\n",
              "          document.querySelector('#df-d4398bbc-5b06-4224-b5a7-048323982b60 button.colab-df-convert');\n",
              "        buttonEl.style.display =\n",
              "          google.colab.kernel.accessAllowed ? 'block' : 'none';\n",
              "\n",
              "        async function convertToInteractive(key) {\n",
              "          const element = document.querySelector('#df-d4398bbc-5b06-4224-b5a7-048323982b60');\n",
              "          const dataTable =\n",
              "            await google.colab.kernel.invokeFunction('convertToInteractive',\n",
              "                                                     [key], {});\n",
              "          if (!dataTable) return;\n",
              "\n",
              "          const docLinkHtml = 'Like what you see? Visit the ' +\n",
              "            '<a target=\"_blank\" href=https://colab.research.google.com/notebooks/data_table.ipynb>data table notebook</a>'\n",
              "            + ' to learn more about interactive tables.';\n",
              "          element.innerHTML = '';\n",
              "          dataTable['output_type'] = 'display_data';\n",
              "          await google.colab.output.renderOutput(dataTable, element);\n",
              "          const docLink = document.createElement('div');\n",
              "          docLink.innerHTML = docLinkHtml;\n",
              "          element.appendChild(docLink);\n",
              "        }\n",
              "      </script>\n",
              "    </div>\n",
              "  </div>\n",
              "  "
            ]
          },
          "metadata": {},
          "execution_count": 108
        }
      ]
    },
    {
      "cell_type": "markdown",
      "source": [
        "13~16"
      ],
      "metadata": {
        "id": "hHA7eVNksUcZ"
      }
    },
    {
      "cell_type": "code",
      "source": [
        "df10 = pd.read_csv('/content/drive/MyDrive/textmining_rawdata10.csv')\n",
        "df10['lyrics'].replace(r'\\s+|\\\\n', ' ', regex=True, inplace=True) "
      ],
      "metadata": {
        "id": "BUjUyBK_sWcB"
      },
      "execution_count": null,
      "outputs": []
    },
    {
      "cell_type": "code",
      "source": [
        "okt = Okt()\n",
        "tokenized = []\n",
        "for sentence in df10['lyrics']: \n",
        "    tokens = okt.nouns(sentence)\n",
        "    tokenize = \" \".join(tokens) \n",
        "    tokenized.append(tokenize) \n",
        "df10[\"lyrics_t\"] = pd.DataFrame(tokenized)"
      ],
      "metadata": {
        "id": "sd6urNP3sWd7"
      },
      "execution_count": null,
      "outputs": []
    },
    {
      "cell_type": "code",
      "source": [
        "tfidf = TfidfVectorizer(stop_words=stopwords)\n",
        "tfidf_matrix = tfidf.fit_transform(df10['lyrics_t'])\n",
        "print(tfidf_matrix.shape)"
      ],
      "metadata": {
        "colab": {
          "base_uri": "https://localhost:8080/"
        },
        "id": "OfdXOIQxsWff",
        "outputId": "9a740091-c6af-4307-dba8-424fddcb31ba"
      },
      "execution_count": null,
      "outputs": [
        {
          "output_type": "stream",
          "name": "stdout",
          "text": [
            "(80, 1121)\n"
          ]
        },
        {
          "output_type": "stream",
          "name": "stderr",
          "text": [
            "/usr/local/lib/python3.7/dist-packages/sklearn/feature_extraction/text.py:401: UserWarning: Your stop_words may be inconsistent with your preprocessing. Tokenizing the stop words generated tokens ['가서', '같은', '것과', '결과에', '결론을', '관계가', '관련이', '그럼에도', '그에', '그치지', '김에', '까닭에', '낫다', '년도', '논하지', '누가', '달려', '되는', '되어', '들면', '들자면', '듯하다', '따르는', '따름이다', '따지지', '때가', '만은', '만이', '많은', '말하면', '말할것도', '몰라도', '몰랏다', '못하다', '미치다', '바꾸어서', '바꿔', '방면으로', '보면', '보아', '부류의', '비길수', '비추어', '뿐만', '사람들', '상대적으로', '생각이다', '서술한바와같이', '쓰여', '아니라', '안다', '안된다', '않고', '않기', '않는다면', '않다면', '않도록', '않으면', '알겠는가', '어쩔수', '없고', '예를', '외에', '요만한', '우에', '위에서', '이로', '이르다', '이와', '이유는', '인하여', '임에', '점에서', '정도에', '정도의', '종합한것과같이', '주저하지', '줄은', '지경이다', '틀림없다', '편이', '하기', '하기만', '하는', '하는것만', '하는것이', '하면', '하지', '한하다', '할수록', '함으로써', '해도', '해서는', '형식으로', '힘이'] not in stop_words.\n",
            "  % sorted(inconsistent)\n"
          ]
        }
      ]
    },
    {
      "cell_type": "code",
      "source": [
        "word_count10 = pd.DataFrame({\n",
        "    '단어': tfidf.get_feature_names(),\n",
        "    'tf-idf': tfidf_matrix.sum(axis=0).flat\n",
        "})"
      ],
      "metadata": {
        "colab": {
          "base_uri": "https://localhost:8080/"
        },
        "id": "hf8rE3JhsWhF",
        "outputId": "89f58904-c850-4e2c-c087-14c1b3fe5b92"
      },
      "execution_count": null,
      "outputs": [
        {
          "output_type": "stream",
          "name": "stderr",
          "text": [
            "/usr/local/lib/python3.7/dist-packages/sklearn/utils/deprecation.py:87: FutureWarning: Function get_feature_names is deprecated; get_feature_names is deprecated in 1.0 and will be removed in 1.2. Please use get_feature_names_out instead.\n",
            "  warnings.warn(msg, category=FutureWarning)\n"
          ]
        }
      ]
    },
    {
      "cell_type": "code",
      "source": [
        "word_count10.sort_values('tf-idf', ascending=False).head(10)"
      ],
      "metadata": {
        "id": "kAOKNuGtsWil",
        "colab": {
          "base_uri": "https://localhost:8080/",
          "height": 363
        },
        "outputId": "1cb6ac2d-87e0-4fcd-9076-077bd5b19cbe"
      },
      "execution_count": null,
      "outputs": [
        {
          "output_type": "execute_result",
          "data": {
            "text/plain": [
              "     단어    tf-idf\n",
              "530  사랑  7.965553\n",
              "122  그대  6.697430\n",
              "528  사람  3.537824\n",
              "218  눈물  3.250025\n",
              "325  마음  2.647243\n",
              "172  나나  2.493731\n",
              "426  바람  2.243303\n",
              "145  기억  2.063572\n",
              "591  수가  2.019069\n",
              "189  남자  1.993101"
            ],
            "text/html": [
              "\n",
              "  <div id=\"df-eaddfe57-465a-4676-809b-13b350f757d7\">\n",
              "    <div class=\"colab-df-container\">\n",
              "      <div>\n",
              "<style scoped>\n",
              "    .dataframe tbody tr th:only-of-type {\n",
              "        vertical-align: middle;\n",
              "    }\n",
              "\n",
              "    .dataframe tbody tr th {\n",
              "        vertical-align: top;\n",
              "    }\n",
              "\n",
              "    .dataframe thead th {\n",
              "        text-align: right;\n",
              "    }\n",
              "</style>\n",
              "<table border=\"1\" class=\"dataframe\">\n",
              "  <thead>\n",
              "    <tr style=\"text-align: right;\">\n",
              "      <th></th>\n",
              "      <th>단어</th>\n",
              "      <th>tf-idf</th>\n",
              "    </tr>\n",
              "  </thead>\n",
              "  <tbody>\n",
              "    <tr>\n",
              "      <th>530</th>\n",
              "      <td>사랑</td>\n",
              "      <td>7.965553</td>\n",
              "    </tr>\n",
              "    <tr>\n",
              "      <th>122</th>\n",
              "      <td>그대</td>\n",
              "      <td>6.697430</td>\n",
              "    </tr>\n",
              "    <tr>\n",
              "      <th>528</th>\n",
              "      <td>사람</td>\n",
              "      <td>3.537824</td>\n",
              "    </tr>\n",
              "    <tr>\n",
              "      <th>218</th>\n",
              "      <td>눈물</td>\n",
              "      <td>3.250025</td>\n",
              "    </tr>\n",
              "    <tr>\n",
              "      <th>325</th>\n",
              "      <td>마음</td>\n",
              "      <td>2.647243</td>\n",
              "    </tr>\n",
              "    <tr>\n",
              "      <th>172</th>\n",
              "      <td>나나</td>\n",
              "      <td>2.493731</td>\n",
              "    </tr>\n",
              "    <tr>\n",
              "      <th>426</th>\n",
              "      <td>바람</td>\n",
              "      <td>2.243303</td>\n",
              "    </tr>\n",
              "    <tr>\n",
              "      <th>145</th>\n",
              "      <td>기억</td>\n",
              "      <td>2.063572</td>\n",
              "    </tr>\n",
              "    <tr>\n",
              "      <th>591</th>\n",
              "      <td>수가</td>\n",
              "      <td>2.019069</td>\n",
              "    </tr>\n",
              "    <tr>\n",
              "      <th>189</th>\n",
              "      <td>남자</td>\n",
              "      <td>1.993101</td>\n",
              "    </tr>\n",
              "  </tbody>\n",
              "</table>\n",
              "</div>\n",
              "      <button class=\"colab-df-convert\" onclick=\"convertToInteractive('df-eaddfe57-465a-4676-809b-13b350f757d7')\"\n",
              "              title=\"Convert this dataframe to an interactive table.\"\n",
              "              style=\"display:none;\">\n",
              "        \n",
              "  <svg xmlns=\"http://www.w3.org/2000/svg\" height=\"24px\"viewBox=\"0 0 24 24\"\n",
              "       width=\"24px\">\n",
              "    <path d=\"M0 0h24v24H0V0z\" fill=\"none\"/>\n",
              "    <path d=\"M18.56 5.44l.94 2.06.94-2.06 2.06-.94-2.06-.94-.94-2.06-.94 2.06-2.06.94zm-11 1L8.5 8.5l.94-2.06 2.06-.94-2.06-.94L8.5 2.5l-.94 2.06-2.06.94zm10 10l.94 2.06.94-2.06 2.06-.94-2.06-.94-.94-2.06-.94 2.06-2.06.94z\"/><path d=\"M17.41 7.96l-1.37-1.37c-.4-.4-.92-.59-1.43-.59-.52 0-1.04.2-1.43.59L10.3 9.45l-7.72 7.72c-.78.78-.78 2.05 0 2.83L4 21.41c.39.39.9.59 1.41.59.51 0 1.02-.2 1.41-.59l7.78-7.78 2.81-2.81c.8-.78.8-2.07 0-2.86zM5.41 20L4 18.59l7.72-7.72 1.47 1.35L5.41 20z\"/>\n",
              "  </svg>\n",
              "      </button>\n",
              "      \n",
              "  <style>\n",
              "    .colab-df-container {\n",
              "      display:flex;\n",
              "      flex-wrap:wrap;\n",
              "      gap: 12px;\n",
              "    }\n",
              "\n",
              "    .colab-df-convert {\n",
              "      background-color: #E8F0FE;\n",
              "      border: none;\n",
              "      border-radius: 50%;\n",
              "      cursor: pointer;\n",
              "      display: none;\n",
              "      fill: #1967D2;\n",
              "      height: 32px;\n",
              "      padding: 0 0 0 0;\n",
              "      width: 32px;\n",
              "    }\n",
              "\n",
              "    .colab-df-convert:hover {\n",
              "      background-color: #E2EBFA;\n",
              "      box-shadow: 0px 1px 2px rgba(60, 64, 67, 0.3), 0px 1px 3px 1px rgba(60, 64, 67, 0.15);\n",
              "      fill: #174EA6;\n",
              "    }\n",
              "\n",
              "    [theme=dark] .colab-df-convert {\n",
              "      background-color: #3B4455;\n",
              "      fill: #D2E3FC;\n",
              "    }\n",
              "\n",
              "    [theme=dark] .colab-df-convert:hover {\n",
              "      background-color: #434B5C;\n",
              "      box-shadow: 0px 1px 3px 1px rgba(0, 0, 0, 0.15);\n",
              "      filter: drop-shadow(0px 1px 2px rgba(0, 0, 0, 0.3));\n",
              "      fill: #FFFFFF;\n",
              "    }\n",
              "  </style>\n",
              "\n",
              "      <script>\n",
              "        const buttonEl =\n",
              "          document.querySelector('#df-eaddfe57-465a-4676-809b-13b350f757d7 button.colab-df-convert');\n",
              "        buttonEl.style.display =\n",
              "          google.colab.kernel.accessAllowed ? 'block' : 'none';\n",
              "\n",
              "        async function convertToInteractive(key) {\n",
              "          const element = document.querySelector('#df-eaddfe57-465a-4676-809b-13b350f757d7');\n",
              "          const dataTable =\n",
              "            await google.colab.kernel.invokeFunction('convertToInteractive',\n",
              "                                                     [key], {});\n",
              "          if (!dataTable) return;\n",
              "\n",
              "          const docLinkHtml = 'Like what you see? Visit the ' +\n",
              "            '<a target=\"_blank\" href=https://colab.research.google.com/notebooks/data_table.ipynb>data table notebook</a>'\n",
              "            + ' to learn more about interactive tables.';\n",
              "          element.innerHTML = '';\n",
              "          dataTable['output_type'] = 'display_data';\n",
              "          await google.colab.output.renderOutput(dataTable, element);\n",
              "          const docLink = document.createElement('div');\n",
              "          docLink.innerHTML = docLinkHtml;\n",
              "          element.appendChild(docLink);\n",
              "        }\n",
              "      </script>\n",
              "    </div>\n",
              "  </div>\n",
              "  "
            ]
          },
          "metadata": {},
          "execution_count": 112
        }
      ]
    },
    {
      "cell_type": "markdown",
      "source": [
        "17~20"
      ],
      "metadata": {
        "id": "_n1YogdHsnnB"
      }
    },
    {
      "cell_type": "code",
      "source": [
        "df17 = pd.read_csv('/content/drive/MyDrive/textmining_rawdata17.csv')\n",
        "df17['lyrics'].replace(r'\\s+|\\\\n', ' ', regex=True, inplace=True) "
      ],
      "metadata": {
        "id": "XPMrwNoPtEaf"
      },
      "execution_count": null,
      "outputs": []
    },
    {
      "cell_type": "code",
      "source": [
        "okt = Okt()\n",
        "tokenized = []\n",
        "for sentence in df17['lyrics']: \n",
        "    tokens = okt.nouns(sentence)\n",
        "    tokenize = \" \".join(tokens) \n",
        "    tokenized.append(tokenize) \n",
        "df17[\"lyrics_t\"] = pd.DataFrame(tokenized)"
      ],
      "metadata": {
        "id": "3dfxF92btEer"
      },
      "execution_count": null,
      "outputs": []
    },
    {
      "cell_type": "code",
      "source": [
        "tfidf = TfidfVectorizer(stop_words=stopwords)\n",
        "tfidf_matrix = tfidf.fit_transform(df17['lyrics_t'])\n",
        "print(tfidf_matrix.shape)"
      ],
      "metadata": {
        "colab": {
          "base_uri": "https://localhost:8080/"
        },
        "id": "RosNcMnztEhY",
        "outputId": "e850df0e-9bda-4c46-abfe-207ca6a62e75"
      },
      "execution_count": null,
      "outputs": [
        {
          "output_type": "stream",
          "name": "stdout",
          "text": [
            "(80, 827)\n"
          ]
        },
        {
          "output_type": "stream",
          "name": "stderr",
          "text": [
            "/usr/local/lib/python3.7/dist-packages/sklearn/feature_extraction/text.py:401: UserWarning: Your stop_words may be inconsistent with your preprocessing. Tokenizing the stop words generated tokens ['가서', '같은', '것과', '결과에', '결론을', '관계가', '관련이', '그럼에도', '그에', '그치지', '김에', '까닭에', '낫다', '년도', '논하지', '누가', '달려', '되는', '되어', '들면', '들자면', '듯하다', '따르는', '따름이다', '따지지', '때가', '만은', '만이', '많은', '말하면', '말할것도', '몰라도', '몰랏다', '못하다', '미치다', '바꾸어서', '바꿔', '방면으로', '보면', '보아', '부류의', '비길수', '비추어', '뿐만', '사람들', '상대적으로', '생각이다', '서술한바와같이', '쓰여', '아니라', '안다', '안된다', '않고', '않기', '않는다면', '않다면', '않도록', '않으면', '알겠는가', '어쩔수', '없고', '예를', '외에', '요만한', '우에', '위에서', '이로', '이르다', '이와', '이유는', '인하여', '임에', '점에서', '정도에', '정도의', '종합한것과같이', '주저하지', '줄은', '지경이다', '틀림없다', '편이', '하기', '하기만', '하는', '하는것만', '하는것이', '하면', '하지', '한하다', '할수록', '함으로써', '해도', '해서는', '형식으로', '힘이'] not in stop_words.\n",
            "  % sorted(inconsistent)\n"
          ]
        }
      ]
    },
    {
      "cell_type": "code",
      "source": [
        "word_count17 = pd.DataFrame({\n",
        "    '단어': tfidf.get_feature_names(),\n",
        "    'tf-idf': tfidf_matrix.sum(axis=0).flat\n",
        "})"
      ],
      "metadata": {
        "colab": {
          "base_uri": "https://localhost:8080/"
        },
        "id": "k39IrRZvtEkR",
        "outputId": "058be1e3-fd07-49c4-d3a7-919fb3a6c83b"
      },
      "execution_count": null,
      "outputs": [
        {
          "output_type": "stream",
          "name": "stderr",
          "text": [
            "/usr/local/lib/python3.7/dist-packages/sklearn/utils/deprecation.py:87: FutureWarning: Function get_feature_names is deprecated; get_feature_names is deprecated in 1.0 and will be removed in 1.2. Please use get_feature_names_out instead.\n",
            "  warnings.warn(msg, category=FutureWarning)\n"
          ]
        }
      ]
    },
    {
      "cell_type": "code",
      "source": [
        "word_count17.sort_values('tf-idf', ascending=False).head(10)"
      ],
      "metadata": {
        "colab": {
          "base_uri": "https://localhost:8080/",
          "height": 363
        },
        "id": "sm8bWAQrtEnQ",
        "outputId": "8fb595be-42a5-4d4c-ddfe-c65118c87937"
      },
      "execution_count": null,
      "outputs": [
        {
          "output_type": "execute_result",
          "data": {
            "text/plain": [
              "     단어    tf-idf\n",
              "371  사랑  7.187598\n",
              "84   그대  3.648808\n",
              "430  순간  3.158826\n",
              "389  생각  2.946902\n",
              "369  사람  2.909701\n",
              "100  기억  2.678815\n",
              "392  서로  2.422357\n",
              "139  노래  2.288480\n",
              "223  마음  2.209426\n",
              "790  항상  2.192101"
            ],
            "text/html": [
              "\n",
              "  <div id=\"df-f8ccac59-77f5-477f-b63a-19768f70bef4\">\n",
              "    <div class=\"colab-df-container\">\n",
              "      <div>\n",
              "<style scoped>\n",
              "    .dataframe tbody tr th:only-of-type {\n",
              "        vertical-align: middle;\n",
              "    }\n",
              "\n",
              "    .dataframe tbody tr th {\n",
              "        vertical-align: top;\n",
              "    }\n",
              "\n",
              "    .dataframe thead th {\n",
              "        text-align: right;\n",
              "    }\n",
              "</style>\n",
              "<table border=\"1\" class=\"dataframe\">\n",
              "  <thead>\n",
              "    <tr style=\"text-align: right;\">\n",
              "      <th></th>\n",
              "      <th>단어</th>\n",
              "      <th>tf-idf</th>\n",
              "    </tr>\n",
              "  </thead>\n",
              "  <tbody>\n",
              "    <tr>\n",
              "      <th>371</th>\n",
              "      <td>사랑</td>\n",
              "      <td>7.187598</td>\n",
              "    </tr>\n",
              "    <tr>\n",
              "      <th>84</th>\n",
              "      <td>그대</td>\n",
              "      <td>3.648808</td>\n",
              "    </tr>\n",
              "    <tr>\n",
              "      <th>430</th>\n",
              "      <td>순간</td>\n",
              "      <td>3.158826</td>\n",
              "    </tr>\n",
              "    <tr>\n",
              "      <th>389</th>\n",
              "      <td>생각</td>\n",
              "      <td>2.946902</td>\n",
              "    </tr>\n",
              "    <tr>\n",
              "      <th>369</th>\n",
              "      <td>사람</td>\n",
              "      <td>2.909701</td>\n",
              "    </tr>\n",
              "    <tr>\n",
              "      <th>100</th>\n",
              "      <td>기억</td>\n",
              "      <td>2.678815</td>\n",
              "    </tr>\n",
              "    <tr>\n",
              "      <th>392</th>\n",
              "      <td>서로</td>\n",
              "      <td>2.422357</td>\n",
              "    </tr>\n",
              "    <tr>\n",
              "      <th>139</th>\n",
              "      <td>노래</td>\n",
              "      <td>2.288480</td>\n",
              "    </tr>\n",
              "    <tr>\n",
              "      <th>223</th>\n",
              "      <td>마음</td>\n",
              "      <td>2.209426</td>\n",
              "    </tr>\n",
              "    <tr>\n",
              "      <th>790</th>\n",
              "      <td>항상</td>\n",
              "      <td>2.192101</td>\n",
              "    </tr>\n",
              "  </tbody>\n",
              "</table>\n",
              "</div>\n",
              "      <button class=\"colab-df-convert\" onclick=\"convertToInteractive('df-f8ccac59-77f5-477f-b63a-19768f70bef4')\"\n",
              "              title=\"Convert this dataframe to an interactive table.\"\n",
              "              style=\"display:none;\">\n",
              "        \n",
              "  <svg xmlns=\"http://www.w3.org/2000/svg\" height=\"24px\"viewBox=\"0 0 24 24\"\n",
              "       width=\"24px\">\n",
              "    <path d=\"M0 0h24v24H0V0z\" fill=\"none\"/>\n",
              "    <path d=\"M18.56 5.44l.94 2.06.94-2.06 2.06-.94-2.06-.94-.94-2.06-.94 2.06-2.06.94zm-11 1L8.5 8.5l.94-2.06 2.06-.94-2.06-.94L8.5 2.5l-.94 2.06-2.06.94zm10 10l.94 2.06.94-2.06 2.06-.94-2.06-.94-.94-2.06-.94 2.06-2.06.94z\"/><path d=\"M17.41 7.96l-1.37-1.37c-.4-.4-.92-.59-1.43-.59-.52 0-1.04.2-1.43.59L10.3 9.45l-7.72 7.72c-.78.78-.78 2.05 0 2.83L4 21.41c.39.39.9.59 1.41.59.51 0 1.02-.2 1.41-.59l7.78-7.78 2.81-2.81c.8-.78.8-2.07 0-2.86zM5.41 20L4 18.59l7.72-7.72 1.47 1.35L5.41 20z\"/>\n",
              "  </svg>\n",
              "      </button>\n",
              "      \n",
              "  <style>\n",
              "    .colab-df-container {\n",
              "      display:flex;\n",
              "      flex-wrap:wrap;\n",
              "      gap: 12px;\n",
              "    }\n",
              "\n",
              "    .colab-df-convert {\n",
              "      background-color: #E8F0FE;\n",
              "      border: none;\n",
              "      border-radius: 50%;\n",
              "      cursor: pointer;\n",
              "      display: none;\n",
              "      fill: #1967D2;\n",
              "      height: 32px;\n",
              "      padding: 0 0 0 0;\n",
              "      width: 32px;\n",
              "    }\n",
              "\n",
              "    .colab-df-convert:hover {\n",
              "      background-color: #E2EBFA;\n",
              "      box-shadow: 0px 1px 2px rgba(60, 64, 67, 0.3), 0px 1px 3px 1px rgba(60, 64, 67, 0.15);\n",
              "      fill: #174EA6;\n",
              "    }\n",
              "\n",
              "    [theme=dark] .colab-df-convert {\n",
              "      background-color: #3B4455;\n",
              "      fill: #D2E3FC;\n",
              "    }\n",
              "\n",
              "    [theme=dark] .colab-df-convert:hover {\n",
              "      background-color: #434B5C;\n",
              "      box-shadow: 0px 1px 3px 1px rgba(0, 0, 0, 0.15);\n",
              "      filter: drop-shadow(0px 1px 2px rgba(0, 0, 0, 0.3));\n",
              "      fill: #FFFFFF;\n",
              "    }\n",
              "  </style>\n",
              "\n",
              "      <script>\n",
              "        const buttonEl =\n",
              "          document.querySelector('#df-f8ccac59-77f5-477f-b63a-19768f70bef4 button.colab-df-convert');\n",
              "        buttonEl.style.display =\n",
              "          google.colab.kernel.accessAllowed ? 'block' : 'none';\n",
              "\n",
              "        async function convertToInteractive(key) {\n",
              "          const element = document.querySelector('#df-f8ccac59-77f5-477f-b63a-19768f70bef4');\n",
              "          const dataTable =\n",
              "            await google.colab.kernel.invokeFunction('convertToInteractive',\n",
              "                                                     [key], {});\n",
              "          if (!dataTable) return;\n",
              "\n",
              "          const docLinkHtml = 'Like what you see? Visit the ' +\n",
              "            '<a target=\"_blank\" href=https://colab.research.google.com/notebooks/data_table.ipynb>data table notebook</a>'\n",
              "            + ' to learn more about interactive tables.';\n",
              "          element.innerHTML = '';\n",
              "          dataTable['output_type'] = 'display_data';\n",
              "          await google.colab.output.renderOutput(dataTable, element);\n",
              "          const docLink = document.createElement('div');\n",
              "          docLink.innerHTML = docLinkHtml;\n",
              "          element.appendChild(docLink);\n",
              "        }\n",
              "      </script>\n",
              "    </div>\n",
              "  </div>\n",
              "  "
            ]
          },
          "metadata": {},
          "execution_count": 116
        }
      ]
    },
    {
      "cell_type": "markdown",
      "source": [
        "21~"
      ],
      "metadata": {
        "id": "3cjitTpgtcbE"
      }
    },
    {
      "cell_type": "code",
      "source": [
        "df20 = pd.read_csv('/content/drive/MyDrive/textmining_rawdata20.csv')\n",
        "df20['lyrics'].replace(r'\\s+|\\\\n', ' ', regex=True, inplace=True) "
      ],
      "metadata": {
        "id": "B6TfEXMJtdho"
      },
      "execution_count": null,
      "outputs": []
    },
    {
      "cell_type": "code",
      "source": [
        "okt = Okt()\n",
        "tokenized = []\n",
        "for sentence in df20['lyrics']: \n",
        "    tokens = okt.nouns(sentence)\n",
        "    tokenize = \" \".join(tokens) \n",
        "    tokenized.append(tokenize) \n",
        "df20[\"lyrics_t\"] = pd.DataFrame(tokenized)"
      ],
      "metadata": {
        "id": "EEwLBKl_tdjG"
      },
      "execution_count": null,
      "outputs": []
    },
    {
      "cell_type": "code",
      "source": [
        "tfidf = TfidfVectorizer(stop_words=stopwords)\n",
        "tfidf_matrix = tfidf.fit_transform(df20['lyrics_t'])\n",
        "print(tfidf_matrix.shape)"
      ],
      "metadata": {
        "colab": {
          "base_uri": "https://localhost:8080/"
        },
        "id": "WNnYY6rttdkQ",
        "outputId": "7397b53d-f12d-4d54-9475-ed57ffd795fd"
      },
      "execution_count": null,
      "outputs": [
        {
          "output_type": "stream",
          "name": "stdout",
          "text": [
            "(40, 659)\n"
          ]
        },
        {
          "output_type": "stream",
          "name": "stderr",
          "text": [
            "/usr/local/lib/python3.7/dist-packages/sklearn/feature_extraction/text.py:401: UserWarning: Your stop_words may be inconsistent with your preprocessing. Tokenizing the stop words generated tokens ['가서', '같은', '것과', '결과에', '결론을', '관계가', '관련이', '그럼에도', '그에', '그치지', '김에', '까닭에', '낫다', '년도', '논하지', '누가', '달려', '되는', '되어', '들면', '들자면', '듯하다', '따르는', '따름이다', '따지지', '때가', '만은', '만이', '많은', '말하면', '말할것도', '몰라도', '몰랏다', '못하다', '미치다', '바꾸어서', '바꿔', '방면으로', '보면', '보아', '부류의', '비길수', '비추어', '뿐만', '사람들', '상대적으로', '생각이다', '서술한바와같이', '쓰여', '아니라', '안다', '안된다', '않고', '않기', '않는다면', '않다면', '않도록', '않으면', '알겠는가', '어쩔수', '없고', '예를', '외에', '요만한', '우에', '위에서', '이로', '이르다', '이와', '이유는', '인하여', '임에', '점에서', '정도에', '정도의', '종합한것과같이', '주저하지', '줄은', '지경이다', '틀림없다', '편이', '하기', '하기만', '하는', '하는것만', '하는것이', '하면', '하지', '한하다', '할수록', '함으로써', '해도', '해서는', '형식으로', '힘이'] not in stop_words.\n",
            "  % sorted(inconsistent)\n"
          ]
        }
      ]
    },
    {
      "cell_type": "code",
      "source": [
        "word_count20 = pd.DataFrame({\n",
        "    '단어': tfidf.get_feature_names(),\n",
        "    'tf-idf': tfidf_matrix.sum(axis=0).flat\n",
        "})"
      ],
      "metadata": {
        "colab": {
          "base_uri": "https://localhost:8080/"
        },
        "id": "Q878hTvstdl5",
        "outputId": "fbb08687-d73c-4f23-e2a7-06bdde23eaca"
      },
      "execution_count": null,
      "outputs": [
        {
          "output_type": "stream",
          "name": "stderr",
          "text": [
            "/usr/local/lib/python3.7/dist-packages/sklearn/utils/deprecation.py:87: FutureWarning: Function get_feature_names is deprecated; get_feature_names is deprecated in 1.0 and will be removed in 1.2. Please use get_feature_names_out instead.\n",
            "  warnings.warn(msg, category=FutureWarning)\n"
          ]
        }
      ]
    },
    {
      "cell_type": "code",
      "source": [
        "word_count20.sort_values('tf-idf', ascending=False).head(10)"
      ],
      "metadata": {
        "colab": {
          "base_uri": "https://localhost:8080/",
          "height": 363
        },
        "id": "i9CMW4Pgt5SI",
        "outputId": "56bf64c7-4ea4-40cf-c3d8-3b629f2eddf7"
      },
      "execution_count": null,
      "outputs": [
        {
          "output_type": "execute_result",
          "data": {
            "text/plain": [
              "     단어    tf-idf\n",
              "315  사랑  2.961752\n",
              "65   그대  2.477299\n",
              "202  매일  1.992985\n",
              "313  사람  1.748269\n",
              "329  생각  1.499952\n",
              "316  사이  1.277085\n",
              "125  눈물  1.233891\n",
              "78   기분  1.173880\n",
              "211  멀리  1.146118\n",
              "357  순간  1.107181"
            ],
            "text/html": [
              "\n",
              "  <div id=\"df-bba72690-e47d-4a2a-8edc-e2c3c869e18b\">\n",
              "    <div class=\"colab-df-container\">\n",
              "      <div>\n",
              "<style scoped>\n",
              "    .dataframe tbody tr th:only-of-type {\n",
              "        vertical-align: middle;\n",
              "    }\n",
              "\n",
              "    .dataframe tbody tr th {\n",
              "        vertical-align: top;\n",
              "    }\n",
              "\n",
              "    .dataframe thead th {\n",
              "        text-align: right;\n",
              "    }\n",
              "</style>\n",
              "<table border=\"1\" class=\"dataframe\">\n",
              "  <thead>\n",
              "    <tr style=\"text-align: right;\">\n",
              "      <th></th>\n",
              "      <th>단어</th>\n",
              "      <th>tf-idf</th>\n",
              "    </tr>\n",
              "  </thead>\n",
              "  <tbody>\n",
              "    <tr>\n",
              "      <th>315</th>\n",
              "      <td>사랑</td>\n",
              "      <td>2.961752</td>\n",
              "    </tr>\n",
              "    <tr>\n",
              "      <th>65</th>\n",
              "      <td>그대</td>\n",
              "      <td>2.477299</td>\n",
              "    </tr>\n",
              "    <tr>\n",
              "      <th>202</th>\n",
              "      <td>매일</td>\n",
              "      <td>1.992985</td>\n",
              "    </tr>\n",
              "    <tr>\n",
              "      <th>313</th>\n",
              "      <td>사람</td>\n",
              "      <td>1.748269</td>\n",
              "    </tr>\n",
              "    <tr>\n",
              "      <th>329</th>\n",
              "      <td>생각</td>\n",
              "      <td>1.499952</td>\n",
              "    </tr>\n",
              "    <tr>\n",
              "      <th>316</th>\n",
              "      <td>사이</td>\n",
              "      <td>1.277085</td>\n",
              "    </tr>\n",
              "    <tr>\n",
              "      <th>125</th>\n",
              "      <td>눈물</td>\n",
              "      <td>1.233891</td>\n",
              "    </tr>\n",
              "    <tr>\n",
              "      <th>78</th>\n",
              "      <td>기분</td>\n",
              "      <td>1.173880</td>\n",
              "    </tr>\n",
              "    <tr>\n",
              "      <th>211</th>\n",
              "      <td>멀리</td>\n",
              "      <td>1.146118</td>\n",
              "    </tr>\n",
              "    <tr>\n",
              "      <th>357</th>\n",
              "      <td>순간</td>\n",
              "      <td>1.107181</td>\n",
              "    </tr>\n",
              "  </tbody>\n",
              "</table>\n",
              "</div>\n",
              "      <button class=\"colab-df-convert\" onclick=\"convertToInteractive('df-bba72690-e47d-4a2a-8edc-e2c3c869e18b')\"\n",
              "              title=\"Convert this dataframe to an interactive table.\"\n",
              "              style=\"display:none;\">\n",
              "        \n",
              "  <svg xmlns=\"http://www.w3.org/2000/svg\" height=\"24px\"viewBox=\"0 0 24 24\"\n",
              "       width=\"24px\">\n",
              "    <path d=\"M0 0h24v24H0V0z\" fill=\"none\"/>\n",
              "    <path d=\"M18.56 5.44l.94 2.06.94-2.06 2.06-.94-2.06-.94-.94-2.06-.94 2.06-2.06.94zm-11 1L8.5 8.5l.94-2.06 2.06-.94-2.06-.94L8.5 2.5l-.94 2.06-2.06.94zm10 10l.94 2.06.94-2.06 2.06-.94-2.06-.94-.94-2.06-.94 2.06-2.06.94z\"/><path d=\"M17.41 7.96l-1.37-1.37c-.4-.4-.92-.59-1.43-.59-.52 0-1.04.2-1.43.59L10.3 9.45l-7.72 7.72c-.78.78-.78 2.05 0 2.83L4 21.41c.39.39.9.59 1.41.59.51 0 1.02-.2 1.41-.59l7.78-7.78 2.81-2.81c.8-.78.8-2.07 0-2.86zM5.41 20L4 18.59l7.72-7.72 1.47 1.35L5.41 20z\"/>\n",
              "  </svg>\n",
              "      </button>\n",
              "      \n",
              "  <style>\n",
              "    .colab-df-container {\n",
              "      display:flex;\n",
              "      flex-wrap:wrap;\n",
              "      gap: 12px;\n",
              "    }\n",
              "\n",
              "    .colab-df-convert {\n",
              "      background-color: #E8F0FE;\n",
              "      border: none;\n",
              "      border-radius: 50%;\n",
              "      cursor: pointer;\n",
              "      display: none;\n",
              "      fill: #1967D2;\n",
              "      height: 32px;\n",
              "      padding: 0 0 0 0;\n",
              "      width: 32px;\n",
              "    }\n",
              "\n",
              "    .colab-df-convert:hover {\n",
              "      background-color: #E2EBFA;\n",
              "      box-shadow: 0px 1px 2px rgba(60, 64, 67, 0.3), 0px 1px 3px 1px rgba(60, 64, 67, 0.15);\n",
              "      fill: #174EA6;\n",
              "    }\n",
              "\n",
              "    [theme=dark] .colab-df-convert {\n",
              "      background-color: #3B4455;\n",
              "      fill: #D2E3FC;\n",
              "    }\n",
              "\n",
              "    [theme=dark] .colab-df-convert:hover {\n",
              "      background-color: #434B5C;\n",
              "      box-shadow: 0px 1px 3px 1px rgba(0, 0, 0, 0.15);\n",
              "      filter: drop-shadow(0px 1px 2px rgba(0, 0, 0, 0.3));\n",
              "      fill: #FFFFFF;\n",
              "    }\n",
              "  </style>\n",
              "\n",
              "      <script>\n",
              "        const buttonEl =\n",
              "          document.querySelector('#df-bba72690-e47d-4a2a-8edc-e2c3c869e18b button.colab-df-convert');\n",
              "        buttonEl.style.display =\n",
              "          google.colab.kernel.accessAllowed ? 'block' : 'none';\n",
              "\n",
              "        async function convertToInteractive(key) {\n",
              "          const element = document.querySelector('#df-bba72690-e47d-4a2a-8edc-e2c3c869e18b');\n",
              "          const dataTable =\n",
              "            await google.colab.kernel.invokeFunction('convertToInteractive',\n",
              "                                                     [key], {});\n",
              "          if (!dataTable) return;\n",
              "\n",
              "          const docLinkHtml = 'Like what you see? Visit the ' +\n",
              "            '<a target=\"_blank\" href=https://colab.research.google.com/notebooks/data_table.ipynb>data table notebook</a>'\n",
              "            + ' to learn more about interactive tables.';\n",
              "          element.innerHTML = '';\n",
              "          dataTable['output_type'] = 'display_data';\n",
              "          await google.colab.output.renderOutput(dataTable, element);\n",
              "          const docLink = document.createElement('div');\n",
              "          docLink.innerHTML = docLinkHtml;\n",
              "          element.appendChild(docLink);\n",
              "        }\n",
              "      </script>\n",
              "    </div>\n",
              "  </div>\n",
              "  "
            ]
          },
          "metadata": {},
          "execution_count": 120
        }
      ]
    },
    {
      "cell_type": "code",
      "source": [],
      "metadata": {
        "id": "JCuzDmRfBavG"
      },
      "execution_count": null,
      "outputs": []
    }
  ]
}